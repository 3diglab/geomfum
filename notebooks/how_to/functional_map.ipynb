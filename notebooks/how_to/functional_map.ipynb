{
 "cells": [
  {
   "cell_type": "markdown",
   "metadata": {},
   "source": [
    "# How to compute a functional map?"
   ]
  },
  {
   "cell_type": "code",
   "execution_count": 1,
   "metadata": {},
   "outputs": [],
   "source": [
    "import os\n",
    "\n",
    "import numpy as np\n",
    "\n",
    "from fmib.descriptor.pipeline import (\n",
    "    ArangeSubsampler,\n",
    "    DescriptorPipeline,\n",
    "    L2InnerNormalizer,\n",
    ")\n",
    "from fmib.descriptor.spectral import HeatKernelSignature, WaveKernelSignature\n",
    "from fmib.functional_map import (\n",
    "    FactorSum,\n",
    "    LBCommutativityEnforcing,\n",
    "    OperatorCommutativityEnforcing,\n",
    "    SpectralDescriptorPreservation,\n",
    ")\n",
    "from fmib.numerics.optimization import ScipyMinimize\n",
    "from fmib.shape import TriangleMesh\n",
    "\n",
    "DATA_DIR = os.environ[\"FMIB_DATA_DIR\"]"
   ]
  },
  {
   "cell_type": "markdown",
   "metadata": {},
   "source": [
    "[Load meshes](load_mesh_from_file.ipynb)."
   ]
  },
  {
   "cell_type": "code",
   "execution_count": 2,
   "metadata": {},
   "outputs": [],
   "source": [
    "filename_a = \"cat-00.off\"\n",
    "filename_b = \"lion-00.off\"\n",
    "\n",
    "mesh_a = TriangleMesh.from_file(f\"{DATA_DIR}/{filename_a}\")\n",
    "mesh_b = TriangleMesh.from_file(f\"{DATA_DIR}/{filename_b}\")"
   ]
  },
  {
   "cell_type": "markdown",
   "metadata": {},
   "source": [
    "[Set Laplace eigenbasis](./mesh_laplacian_spectrum.ipynb) for each mesh."
   ]
  },
  {
   "cell_type": "code",
   "execution_count": 3,
   "metadata": {},
   "outputs": [],
   "source": [
    "mesh_a.find_laplacian_spectrum(spectrum_size=10, set_as_basis=True)\n",
    "mesh_b.find_laplacian_spectrum(spectrum_size=10, set_as_basis=True)\n",
    "\n",
    "mesh_b.basis.use_k = 8"
   ]
  },
  {
   "cell_type": "markdown",
   "metadata": {},
   "source": [
    "Set a [descriptor pipeline](./descriptor_pipeline.ipynb) and apply it to both shapes."
   ]
  },
  {
   "cell_type": "code",
   "execution_count": 4,
   "metadata": {},
   "outputs": [],
   "source": [
    "steps = [\n",
    "    HeatKernelSignature(n_domain=4),\n",
    "    ArangeSubsampler(subsample_step=2),\n",
    "    WaveKernelSignature(n_domain=3),\n",
    "    L2InnerNormalizer(),\n",
    "]\n",
    "\n",
    "pipeline = DescriptorPipeline(steps)"
   ]
  },
  {
   "cell_type": "code",
   "execution_count": 5,
   "metadata": {},
   "outputs": [],
   "source": [
    "descr_a = pipeline.apply(mesh_a)\n",
    "descr_b = pipeline.apply(mesh_b)"
   ]
  },
  {
   "cell_type": "markdown",
   "metadata": {},
   "source": [
    "Create objective function."
   ]
  },
  {
   "cell_type": "code",
   "execution_count": 6,
   "metadata": {},
   "outputs": [],
   "source": [
    "factors = [\n",
    "    SpectralDescriptorPreservation(\n",
    "        mesh_a.basis.project(descr_a),\n",
    "        mesh_b.basis.project(descr_b),\n",
    "        weight=1.0,\n",
    "    ),\n",
    "    LBCommutativityEnforcing.from_bases(\n",
    "        mesh_a.basis,\n",
    "        mesh_b.basis,\n",
    "        weight=1e-2,\n",
    "    ),\n",
    "    OperatorCommutativityEnforcing.from_multiplication(\n",
    "        mesh_a.basis, descr_a, mesh_b.basis, descr_b, weight=1e-1\n",
    "    ),\n",
    "    OperatorCommutativityEnforcing.from_orientation(\n",
    "        mesh_a, descr_a, mesh_b, descr_b, weight=1e-1\n",
    "    ),\n",
    "]\n",
    "\n",
    "objective = FactorSum(factors)"
   ]
  },
  {
   "cell_type": "markdown",
   "metadata": {},
   "source": [
    "Instantiate an `Optimizer` and solve for the functional map matrix."
   ]
  },
  {
   "cell_type": "code",
   "execution_count": 7,
   "metadata": {},
   "outputs": [],
   "source": [
    "optimizer = ScipyMinimize(\n",
    "    method=\"L-BFGS-B\",\n",
    ")"
   ]
  },
  {
   "cell_type": "code",
   "execution_count": 8,
   "metadata": {},
   "outputs": [
    {
     "ename": "ValueError",
     "evalue": "operands could not be broadcast together with shapes (10,8) (8,10) ",
     "output_type": "error",
     "traceback": [
      "\u001b[0;31m---------------------------------------------------------------------------\u001b[0m",
      "\u001b[0;31mValueError\u001b[0m                                Traceback (most recent call last)",
      "\u001b[1;32m/home/luisfpereira/Repos/github/fmib/notebooks/how_to/functional_map.ipynb Cell 14\u001b[0m line \u001b[0;36m3\n\u001b[1;32m      <a href='vscode-notebook-cell:/home/luisfpereira/Repos/github/fmib/notebooks/how_to/functional_map.ipynb#X16sZmlsZQ%3D%3D?line=0'>1</a>\u001b[0m x0 \u001b[39m=\u001b[39m np\u001b[39m.\u001b[39mzeros((mesh_a\u001b[39m.\u001b[39mbasis\u001b[39m.\u001b[39mspectrum_size, mesh_b\u001b[39m.\u001b[39mbasis\u001b[39m.\u001b[39mspectrum_size))\n\u001b[0;32m----> <a href='vscode-notebook-cell:/home/luisfpereira/Repos/github/fmib/notebooks/how_to/functional_map.ipynb#X16sZmlsZQ%3D%3D?line=2'>3</a>\u001b[0m res \u001b[39m=\u001b[39m optimizer\u001b[39m.\u001b[39;49mminimize(\n\u001b[1;32m      <a href='vscode-notebook-cell:/home/luisfpereira/Repos/github/fmib/notebooks/how_to/functional_map.ipynb#X16sZmlsZQ%3D%3D?line=3'>4</a>\u001b[0m     objective,\n\u001b[1;32m      <a href='vscode-notebook-cell:/home/luisfpereira/Repos/github/fmib/notebooks/how_to/functional_map.ipynb#X16sZmlsZQ%3D%3D?line=4'>5</a>\u001b[0m     x0,\n\u001b[1;32m      <a href='vscode-notebook-cell:/home/luisfpereira/Repos/github/fmib/notebooks/how_to/functional_map.ipynb#X16sZmlsZQ%3D%3D?line=5'>6</a>\u001b[0m     fun_jac\u001b[39m=\u001b[39;49mobjective\u001b[39m.\u001b[39;49mgradient,\n\u001b[1;32m      <a href='vscode-notebook-cell:/home/luisfpereira/Repos/github/fmib/notebooks/how_to/functional_map.ipynb#X16sZmlsZQ%3D%3D?line=6'>7</a>\u001b[0m )\n\u001b[1;32m      <a href='vscode-notebook-cell:/home/luisfpereira/Repos/github/fmib/notebooks/how_to/functional_map.ipynb#X16sZmlsZQ%3D%3D?line=8'>9</a>\u001b[0m fmap \u001b[39m=\u001b[39m res\u001b[39m.\u001b[39mx\u001b[39m.\u001b[39mreshape(x0\u001b[39m.\u001b[39mshape)\n\u001b[1;32m     <a href='vscode-notebook-cell:/home/luisfpereira/Repos/github/fmib/notebooks/how_to/functional_map.ipynb#X16sZmlsZQ%3D%3D?line=10'>11</a>\u001b[0m fmap\u001b[39m.\u001b[39mshape\n",
      "File \u001b[0;32m~/Repos/github/fmib/fmib/numerics/optimization.py:56\u001b[0m, in \u001b[0;36mScipyMinimize.minimize\u001b[0;34m(self, fun, x0, fun_jac, fun_hess, hessp)\u001b[0m\n\u001b[1;32m     52\u001b[0m     fun_jac_ \u001b[39m=\u001b[39m \u001b[39mlambda\u001b[39;00m x: fun_jac(x\u001b[39m.\u001b[39mreshape(shape))\u001b[39m.\u001b[39mflatten()\n\u001b[1;32m     54\u001b[0m     x0 \u001b[39m=\u001b[39m x0\u001b[39m.\u001b[39mflatten()\n\u001b[0;32m---> 56\u001b[0m result \u001b[39m=\u001b[39m scipy\u001b[39m.\u001b[39;49moptimize\u001b[39m.\u001b[39;49mminimize(\n\u001b[1;32m     57\u001b[0m     fun_,\n\u001b[1;32m     58\u001b[0m     x0,\n\u001b[1;32m     59\u001b[0m     method\u001b[39m=\u001b[39;49m\u001b[39mself\u001b[39;49m\u001b[39m.\u001b[39;49mmethod,\n\u001b[1;32m     60\u001b[0m     jac\u001b[39m=\u001b[39;49mfun_jac_,\n\u001b[1;32m     61\u001b[0m     hess\u001b[39m=\u001b[39;49mfun_hess,\n\u001b[1;32m     62\u001b[0m     hessp\u001b[39m=\u001b[39;49mhessp,\n\u001b[1;32m     63\u001b[0m     bounds\u001b[39m=\u001b[39;49m\u001b[39mself\u001b[39;49m\u001b[39m.\u001b[39;49mbounds,\n\u001b[1;32m     64\u001b[0m     tol\u001b[39m=\u001b[39;49m\u001b[39mself\u001b[39;49m\u001b[39m.\u001b[39;49mtol,\n\u001b[1;32m     65\u001b[0m     constraints\u001b[39m=\u001b[39;49m\u001b[39mself\u001b[39;49m\u001b[39m.\u001b[39;49mconstraints,\n\u001b[1;32m     66\u001b[0m     callback\u001b[39m=\u001b[39;49m\u001b[39mself\u001b[39;49m\u001b[39m.\u001b[39;49mcallback,\n\u001b[1;32m     67\u001b[0m     options\u001b[39m=\u001b[39;49m\u001b[39mself\u001b[39;49m\u001b[39m.\u001b[39;49moptions,\n\u001b[1;32m     68\u001b[0m )\n\u001b[1;32m     70\u001b[0m \u001b[39mif\u001b[39;00m \u001b[39mnot\u001b[39;00m result\u001b[39m.\u001b[39msuccess:\n\u001b[1;32m     71\u001b[0m     logging\u001b[39m.\u001b[39mwarning(result\u001b[39m.\u001b[39mmessage)\n",
      "File \u001b[0;32m~/miniconda3/envs/py12/lib/python3.12/site-packages/scipy/optimize/_minimize.py:713\u001b[0m, in \u001b[0;36mminimize\u001b[0;34m(fun, x0, args, method, jac, hess, hessp, bounds, constraints, tol, callback, options)\u001b[0m\n\u001b[1;32m    710\u001b[0m     res \u001b[39m=\u001b[39m _minimize_newtoncg(fun, x0, args, jac, hess, hessp, callback,\n\u001b[1;32m    711\u001b[0m                              \u001b[39m*\u001b[39m\u001b[39m*\u001b[39moptions)\n\u001b[1;32m    712\u001b[0m \u001b[39melif\u001b[39;00m meth \u001b[39m==\u001b[39m \u001b[39m'\u001b[39m\u001b[39ml-bfgs-b\u001b[39m\u001b[39m'\u001b[39m:\n\u001b[0;32m--> 713\u001b[0m     res \u001b[39m=\u001b[39m _minimize_lbfgsb(fun, x0, args, jac, bounds,\n\u001b[1;32m    714\u001b[0m                            callback\u001b[39m=\u001b[39;49mcallback, \u001b[39m*\u001b[39;49m\u001b[39m*\u001b[39;49moptions)\n\u001b[1;32m    715\u001b[0m \u001b[39melif\u001b[39;00m meth \u001b[39m==\u001b[39m \u001b[39m'\u001b[39m\u001b[39mtnc\u001b[39m\u001b[39m'\u001b[39m:\n\u001b[1;32m    716\u001b[0m     res \u001b[39m=\u001b[39m _minimize_tnc(fun, x0, args, jac, bounds, callback\u001b[39m=\u001b[39mcallback,\n\u001b[1;32m    717\u001b[0m                         \u001b[39m*\u001b[39m\u001b[39m*\u001b[39moptions)\n",
      "File \u001b[0;32m~/miniconda3/envs/py12/lib/python3.12/site-packages/scipy/optimize/_lbfgsb_py.py:347\u001b[0m, in \u001b[0;36m_minimize_lbfgsb\u001b[0;34m(fun, x0, args, jac, bounds, disp, maxcor, ftol, gtol, eps, maxfun, maxiter, iprint, callback, maxls, finite_diff_rel_step, **unknown_options)\u001b[0m\n\u001b[1;32m    344\u001b[0m         iprint \u001b[39m=\u001b[39m disp\n\u001b[1;32m    346\u001b[0m \u001b[39m# _prepare_scalar_function can use bounds=None to represent no bounds\u001b[39;00m\n\u001b[0;32m--> 347\u001b[0m sf \u001b[39m=\u001b[39m _prepare_scalar_function(fun, x0, jac\u001b[39m=\u001b[39;49mjac, args\u001b[39m=\u001b[39;49margs, epsilon\u001b[39m=\u001b[39;49meps,\n\u001b[1;32m    348\u001b[0m                               bounds\u001b[39m=\u001b[39;49mbounds,\n\u001b[1;32m    349\u001b[0m                               finite_diff_rel_step\u001b[39m=\u001b[39;49mfinite_diff_rel_step)\n\u001b[1;32m    351\u001b[0m func_and_grad \u001b[39m=\u001b[39m sf\u001b[39m.\u001b[39mfun_and_grad\n\u001b[1;32m    353\u001b[0m fortran_int \u001b[39m=\u001b[39m _lbfgsb\u001b[39m.\u001b[39mtypes\u001b[39m.\u001b[39mintvar\u001b[39m.\u001b[39mdtype\n",
      "File \u001b[0;32m~/miniconda3/envs/py12/lib/python3.12/site-packages/scipy/optimize/_optimize.py:288\u001b[0m, in \u001b[0;36m_prepare_scalar_function\u001b[0;34m(fun, x0, jac, args, bounds, epsilon, finite_diff_rel_step, hess)\u001b[0m\n\u001b[1;32m    284\u001b[0m     bounds \u001b[39m=\u001b[39m (\u001b[39m-\u001b[39mnp\u001b[39m.\u001b[39minf, np\u001b[39m.\u001b[39minf)\n\u001b[1;32m    286\u001b[0m \u001b[39m# ScalarFunction caches. Reuse of fun(x) during grad\u001b[39;00m\n\u001b[1;32m    287\u001b[0m \u001b[39m# calculation reduces overall function evaluations.\u001b[39;00m\n\u001b[0;32m--> 288\u001b[0m sf \u001b[39m=\u001b[39m ScalarFunction(fun, x0, args, grad, hess,\n\u001b[1;32m    289\u001b[0m                     finite_diff_rel_step, bounds, epsilon\u001b[39m=\u001b[39;49mepsilon)\n\u001b[1;32m    291\u001b[0m \u001b[39mreturn\u001b[39;00m sf\n",
      "File \u001b[0;32m~/miniconda3/envs/py12/lib/python3.12/site-packages/scipy/optimize/_differentiable_functions.py:166\u001b[0m, in \u001b[0;36mScalarFunction.__init__\u001b[0;34m(self, fun, x0, args, grad, hess, finite_diff_rel_step, finite_diff_bounds, epsilon)\u001b[0m\n\u001b[1;32m    163\u001b[0m     \u001b[39mself\u001b[39m\u001b[39m.\u001b[39mf \u001b[39m=\u001b[39m fun_wrapped(\u001b[39mself\u001b[39m\u001b[39m.\u001b[39mx)\n\u001b[1;32m    165\u001b[0m \u001b[39mself\u001b[39m\u001b[39m.\u001b[39m_update_fun_impl \u001b[39m=\u001b[39m update_fun\n\u001b[0;32m--> 166\u001b[0m \u001b[39mself\u001b[39;49m\u001b[39m.\u001b[39;49m_update_fun()\n\u001b[1;32m    168\u001b[0m \u001b[39m# Gradient evaluation\u001b[39;00m\n\u001b[1;32m    169\u001b[0m \u001b[39mif\u001b[39;00m \u001b[39mcallable\u001b[39m(grad):\n",
      "File \u001b[0;32m~/miniconda3/envs/py12/lib/python3.12/site-packages/scipy/optimize/_differentiable_functions.py:262\u001b[0m, in \u001b[0;36mScalarFunction._update_fun\u001b[0;34m(self)\u001b[0m\n\u001b[1;32m    260\u001b[0m \u001b[39mdef\u001b[39;00m \u001b[39m_update_fun\u001b[39m(\u001b[39mself\u001b[39m):\n\u001b[1;32m    261\u001b[0m     \u001b[39mif\u001b[39;00m \u001b[39mnot\u001b[39;00m \u001b[39mself\u001b[39m\u001b[39m.\u001b[39mf_updated:\n\u001b[0;32m--> 262\u001b[0m         \u001b[39mself\u001b[39;49m\u001b[39m.\u001b[39;49m_update_fun_impl()\n\u001b[1;32m    263\u001b[0m         \u001b[39mself\u001b[39m\u001b[39m.\u001b[39mf_updated \u001b[39m=\u001b[39m \u001b[39mTrue\u001b[39;00m\n",
      "File \u001b[0;32m~/miniconda3/envs/py12/lib/python3.12/site-packages/scipy/optimize/_differentiable_functions.py:163\u001b[0m, in \u001b[0;36mScalarFunction.__init__.<locals>.update_fun\u001b[0;34m()\u001b[0m\n\u001b[1;32m    162\u001b[0m \u001b[39mdef\u001b[39;00m \u001b[39mupdate_fun\u001b[39m():\n\u001b[0;32m--> 163\u001b[0m     \u001b[39mself\u001b[39m\u001b[39m.\u001b[39mf \u001b[39m=\u001b[39m fun_wrapped(\u001b[39mself\u001b[39;49m\u001b[39m.\u001b[39;49mx)\n",
      "File \u001b[0;32m~/miniconda3/envs/py12/lib/python3.12/site-packages/scipy/optimize/_differentiable_functions.py:145\u001b[0m, in \u001b[0;36mScalarFunction.__init__.<locals>.fun_wrapped\u001b[0;34m(x)\u001b[0m\n\u001b[1;32m    141\u001b[0m \u001b[39mself\u001b[39m\u001b[39m.\u001b[39mnfev \u001b[39m+\u001b[39m\u001b[39m=\u001b[39m \u001b[39m1\u001b[39m\n\u001b[1;32m    142\u001b[0m \u001b[39m# Send a copy because the user may overwrite it.\u001b[39;00m\n\u001b[1;32m    143\u001b[0m \u001b[39m# Overwriting results in undefined behaviour because\u001b[39;00m\n\u001b[1;32m    144\u001b[0m \u001b[39m# fun(self.x) will change self.x, with the two no longer linked.\u001b[39;00m\n\u001b[0;32m--> 145\u001b[0m fx \u001b[39m=\u001b[39m fun(np\u001b[39m.\u001b[39;49mcopy(x), \u001b[39m*\u001b[39;49margs)\n\u001b[1;32m    146\u001b[0m \u001b[39m# Make sure the function returns a true scalar\u001b[39;00m\n\u001b[1;32m    147\u001b[0m \u001b[39mif\u001b[39;00m \u001b[39mnot\u001b[39;00m np\u001b[39m.\u001b[39misscalar(fx):\n",
      "File \u001b[0;32m~/Repos/github/fmib/fmib/numerics/optimization.py:51\u001b[0m, in \u001b[0;36mScipyMinimize.minimize.<locals>.<lambda>\u001b[0;34m(x)\u001b[0m\n\u001b[1;32m     47\u001b[0m \u001b[39mif\u001b[39;00m x0\u001b[39m.\u001b[39mndim \u001b[39m>\u001b[39m \u001b[39m1\u001b[39m:\n\u001b[1;32m     48\u001b[0m     \u001b[39m# TODO: consider value_and_jac\u001b[39;00m\n\u001b[1;32m     49\u001b[0m     \u001b[39m# TODO: consider hessian\u001b[39;00m\n\u001b[1;32m     50\u001b[0m     shape \u001b[39m=\u001b[39m x0\u001b[39m.\u001b[39mshape\n\u001b[0;32m---> 51\u001b[0m     fun_ \u001b[39m=\u001b[39m \u001b[39mlambda\u001b[39;00m x: fun(np\u001b[39m.\u001b[39;49mreshape(x, shape))\n\u001b[1;32m     52\u001b[0m     fun_jac_ \u001b[39m=\u001b[39m \u001b[39mlambda\u001b[39;00m x: fun_jac(x\u001b[39m.\u001b[39mreshape(shape))\u001b[39m.\u001b[39mflatten()\n\u001b[1;32m     54\u001b[0m     x0 \u001b[39m=\u001b[39m x0\u001b[39m.\u001b[39mflatten()\n",
      "File \u001b[0;32m~/Repos/github/fmib/fmib/functional_map.py:369\u001b[0m, in \u001b[0;36mFactorSum.__call__\u001b[0;34m(self, fmap_matrix)\u001b[0m\n\u001b[1;32m    356\u001b[0m \u001b[39mdef\u001b[39;00m \u001b[39m__call__\u001b[39m(\u001b[39mself\u001b[39m, fmap_matrix):\n\u001b[1;32m    357\u001b[0m \u001b[39m    \u001b[39m\u001b[39m\"\"\"Compute energy.\u001b[39;00m\n\u001b[1;32m    358\u001b[0m \n\u001b[1;32m    359\u001b[0m \u001b[39m    Parameters\u001b[39;00m\n\u001b[0;32m   (...)\u001b[0m\n\u001b[1;32m    367\u001b[0m \u001b[39m        Weighted energy associated with the factor.\u001b[39;00m\n\u001b[1;32m    368\u001b[0m \u001b[39m    \"\"\"\u001b[39;00m\n\u001b[0;32m--> 369\u001b[0m     \u001b[39mreturn\u001b[39;00m \u001b[39mself\u001b[39m\u001b[39m.\u001b[39mweight \u001b[39m*\u001b[39m np\u001b[39m.\u001b[39msum([factor(fmap_matrix) \u001b[39mfor\u001b[39;00m factor \u001b[39min\u001b[39;00m \u001b[39mself\u001b[39m\u001b[39m.\u001b[39mfactors])\n",
      "File \u001b[0;32m~/Repos/github/fmib/fmib/functional_map.py:150\u001b[0m, in \u001b[0;36mLBCommutativityEnforcing.__call__\u001b[0;34m(self, fmap_matrix)\u001b[0m\n\u001b[1;32m    137\u001b[0m \u001b[39mdef\u001b[39;00m \u001b[39m__call__\u001b[39m(\u001b[39mself\u001b[39m, fmap_matrix):\n\u001b[1;32m    138\u001b[0m \u001b[39m    \u001b[39m\u001b[39m\"\"\"Compute energy.\u001b[39;00m\n\u001b[1;32m    139\u001b[0m \n\u001b[1;32m    140\u001b[0m \u001b[39m    Parameters\u001b[39;00m\n\u001b[0;32m   (...)\u001b[0m\n\u001b[1;32m    148\u001b[0m \u001b[39m        Weighted LB commutativity squared norm.\u001b[39;00m\n\u001b[1;32m    149\u001b[0m \u001b[39m    \"\"\"\u001b[39;00m\n\u001b[0;32m--> 150\u001b[0m     \u001b[39mreturn\u001b[39;00m \u001b[39mself\u001b[39m\u001b[39m.\u001b[39mweight \u001b[39m*\u001b[39m \u001b[39m0.5\u001b[39m \u001b[39m*\u001b[39m (np\u001b[39m.\u001b[39;49msquare(fmap_matrix) \u001b[39m*\u001b[39;49m \u001b[39mself\u001b[39;49m\u001b[39m.\u001b[39;49mvals_sqdiff)\u001b[39m.\u001b[39msum()\n",
      "\u001b[0;31mValueError\u001b[0m: operands could not be broadcast together with shapes (10,8) (8,10) "
     ]
    }
   ],
   "source": [
    "x0 = np.zeros((mesh_a.basis.spectrum_size, mesh_b.basis.spectrum_size))\n",
    "\n",
    "res = optimizer.minimize(\n",
    "    objective,\n",
    "    x0,\n",
    "    fun_jac=objective.gradient,\n",
    ")\n",
    "\n",
    "fmap = res.x.reshape(x0.shape)\n",
    "\n",
    "fmap.shape"
   ]
  }
 ],
 "metadata": {
  "kernelspec": {
   "display_name": "py12",
   "language": "python",
   "name": "python3"
  },
  "language_info": {
   "codemirror_mode": {
    "name": "ipython",
    "version": 3
   },
   "file_extension": ".py",
   "mimetype": "text/x-python",
   "name": "python",
   "nbconvert_exporter": "python",
   "pygments_lexer": "ipython3",
   "version": "3.12.3"
  }
 },
 "nbformat": 4,
 "nbformat_minor": 2
}
