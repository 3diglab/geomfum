{
    "cells": [
        {
            "cell_type": "markdown",
            "metadata": {},
            "source": [
                "# How to compute a functional map?"
            ]
        },
        {
            "cell_type": "code",
            "execution_count": null,
            "metadata": {},
            "outputs": [],
            "source": [
                "import os\n",
                "\n",
                "import numpy as np\n",
                "\n",
                "from geomfun.descriptor.pipeline import (\n",
                "    ArangeSubsampler,\n",
                "    DescriptorPipeline,\n",
                "    L2InnerNormalizer,\n",
                ")\n",
                "from geomfun.descriptor.spectral import HeatKernelSignature, WaveKernelSignature\n",
                "from geomfun.functional_map import (\n",
                "    FactorSum,\n",
                "    LBCommutativityEnforcing,\n",
                "    OperatorCommutativityEnforcing,\n",
                "    SpectralDescriptorPreservation,\n",
                ")\n",
                "from geomfun.numerics.optimization import ScipyMinimize\n",
                "from geomfun.shape import TriangleMesh\n",
                "\n",
                "DATA_DIR = os.environ[\"GEOMFUN_DATA_DIR\"]"
            ]
        },
        {
            "cell_type": "markdown",
            "metadata": {},
            "source": [
                "[Load meshes](load_mesh_from_file.ipynb)."
            ]
        },
        {
            "cell_type": "code",
            "execution_count": null,
            "metadata": {},
            "outputs": [],
            "source": [
                "filename_a = \"cat-00.off\"\n",
                "filename_b = \"lion-00.off\"\n",
                "\n",
                "mesh_a = TriangleMesh.from_file(f\"{DATA_DIR}/{filename_a}\")\n",
                "mesh_b = TriangleMesh.from_file(f\"{DATA_DIR}/{filename_b}\")"
            ]
        },
        {
            "cell_type": "markdown",
            "metadata": {},
            "source": [
                "[Set Laplace eigenbasis](./mesh_laplacian_spectrum.ipynb) for each mesh."
            ]
        },
        {
            "cell_type": "code",
            "execution_count": null,
            "metadata": {},
            "outputs": [],
            "source": [
                "mesh_a.find_laplacian_spectrum(spectrum_size=10, set_as_basis=True)\n",
                "mesh_b.find_laplacian_spectrum(spectrum_size=10, set_as_basis=True)\n",
                "\n",
                "mesh_b.basis.use_k = 8"
            ]
        },
        {
            "cell_type": "markdown",
            "metadata": {},
            "source": [
                "Set a [descriptor pipeline](./descriptor_pipeline.ipynb) and apply it to both shapes."
            ]
        },
        {
            "cell_type": "code",
            "execution_count": null,
            "metadata": {},
            "outputs": [],
            "source": [
                "steps = [\n",
                "    HeatKernelSignature(n_domain=4),\n",
                "    ArangeSubsampler(subsample_step=2),\n",
                "    WaveKernelSignature(n_domain=3),\n",
                "    L2InnerNormalizer(),\n",
                "]\n",
                "\n",
                "pipeline = DescriptorPipeline(steps)"
            ]
        },
        {
            "cell_type": "code",
            "execution_count": null,
            "metadata": {},
            "outputs": [],
            "source": [
                "descr_a = pipeline.apply(mesh_a)\n",
                "descr_b = pipeline.apply(mesh_b)"
            ]
        },
        {
            "cell_type": "markdown",
            "metadata": {},
            "source": [
                "Create objective function."
            ]
        },
        {
            "cell_type": "code",
            "execution_count": null,
            "metadata": {},
            "outputs": [],
            "source": [
                "factors = [\n",
                "    SpectralDescriptorPreservation(\n",
                "        mesh_a.basis.project(descr_a),\n",
                "        mesh_b.basis.project(descr_b),\n",
                "        weight=1.0,\n",
                "    ),\n",
                "    LBCommutativityEnforcing.from_bases(\n",
                "        mesh_a.basis,\n",
                "        mesh_b.basis,\n",
                "        weight=1e-2,\n",
                "    ),\n",
                "    OperatorCommutativityEnforcing.from_multiplication(\n",
                "        mesh_a.basis, descr_a, mesh_b.basis, descr_b, weight=1e-1\n",
                "    ),\n",
                "    OperatorCommutativityEnforcing.from_orientation(\n",
                "        mesh_a, descr_a, mesh_b, descr_b, weight=1e-1\n",
                "    ),\n",
                "]\n",
                "\n",
                "objective = FactorSum(factors)"
            ]
        },
        {
            "cell_type": "markdown",
            "metadata": {},
            "source": [
                "Instantiate an `Optimizer` and solve for the functional map matrix."
            ]
        },
        {
            "cell_type": "code",
            "execution_count": null,
            "metadata": {},
            "outputs": [],
            "source": [
                "optimizer = ScipyMinimize(\n",
                "    method=\"L-BFGS-B\",\n",
                ")"
            ]
        },
        {
            "cell_type": "code",
            "execution_count": null,
            "metadata": {},
            "outputs": [],
            "source": [
                "x0 = np.zeros((mesh_a.basis.spectrum_size, mesh_b.basis.spectrum_size))\n",
                "\n",
                "res = optimizer.minimize(\n",
                "    objective,\n",
                "    x0,\n",
                "    fun_jac=objective.gradient,\n",
                ")\n",
                "\n",
                "fmap = res.x.reshape(x0.shape)\n",
                "\n",
                "fmap.shape"
            ]
        }
    ],
    "metadata": {
        "kernelspec": {
            "display_name": "py12",
            "language": "python",
            "name": "python3"
        },
        "language_info": {
            "codemirror_mode": {
                "name": "ipython",
                "version": 3
            },
            "file_extension": ".py",
            "mimetype": "text/x-python",
            "name": "python",
            "nbconvert_exporter": "python",
            "pygments_lexer": "ipython3",
            "version": "3.12.3"
        }
    },
    "nbformat": 4,
    "nbformat_minor": 2
}