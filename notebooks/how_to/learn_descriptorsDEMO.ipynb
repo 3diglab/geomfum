{
 "cells": [
  {
   "cell_type": "markdown",
   "metadata": {},
   "source": [
    "# How to train a DeepFunctionalMap model"
   ]
  },
  {
   "cell_type": "code",
   "execution_count": 1,
   "metadata": {},
   "outputs": [
    {
     "name": "stdout",
     "output_type": "stream",
     "text": [
      "[KeOps] Warning : Cuda libraries were not detected on the system or could not be loaded ; using cpu only mode\n"
     ]
    }
   ],
   "source": [
    "from geomfum.dfm.forward_functional_map import ForwardFunctionalMap\n",
    "from geomfum.descriptor.learned import LearnedDescriptor\n",
    "from geomfum.dfm.permutation import PermutationModule\n",
    "from geomfum.dfm.trainer import DeepFunctionalMapTrainer\n",
    "\n",
    "from geomfum.dfm.dataset import PairsDataset,ShapeDataset\n",
    "import torch\n",
    "import yaml\n",
    "DEVICE = \"cuda\"\n"
   ]
  },
  {
   "cell_type": "markdown",
   "metadata": {},
   "source": [
    "We load options from a configuration file or a dictionary\n"
   ]
  },
  {
   "cell_type": "code",
   "execution_count": 2,
   "metadata": {},
   "outputs": [],
   "source": [
    "opt={\n",
    "    \"device\": \"cuda\",\n",
    "    \"epochs\": 100,\n",
    "    \"batch_size\": 1,\n",
    "    \"lr\": 0.001,\n",
    "    \"shape_dir\": \"../../../datasets/smal_r/train_set/\",\n",
    "    \"k\": 128,\n",
    "    \"pair_mode\":\"all\",\n",
    "    \"n_pairs\":100,\n",
    "    \"model\": {\n",
    "        \"class\": \"CaoNet\",\n",
    "        \"params\": {\n",
    "            \"descriptor\": {\n",
    "                \"type\": \"diffusion_net\",\n",
    "                \"params\": {\n",
    "                    \"out_channels\" : 128,\n",
    "                    \"cache_dir\" : \"../../../datasets/smal_r/train_set/diffusion\"\n",
    "                }\n",
    "            },\n",
    "            \"forward_map\": {\n",
    "                \"lmbda\": 0.001,\n",
    "                \"resolvent_gamma\": 1\n",
    "            }\n",
    "        }\n",
    "    },\n",
    "    \"loss_config\": {\n",
    "        \"Orthonormality\": 1.0,\n",
    "        \"Laplacian_Commutativity\": 0.01,\n",
    "        \"Bijectivity\": 1.0,\n",
    "        \"Fmap_Supervision\": 1.0,\n",
    "    },\n",
    "    \"save_interval\": 1\n",
    "}"
   ]
  },
  {
   "cell_type": "code",
   "execution_count": 3,
   "metadata": {},
   "outputs": [],
   "source": [
    "#alternatively\n",
    "#yaml_file = \"config_test.yaml\"\n",
    "#with open(yaml_file, 'r') as stream:\n",
    "#    config = yaml.safe_load(stream)"
   ]
  },
  {
   "cell_type": "markdown",
   "metadata": {},
   "source": [
    "Now we can train, test and save the network"
   ]
  },
  {
   "cell_type": "code",
   "execution_count": null,
   "metadata": {},
   "outputs": [
    {
     "name": "stderr",
     "output_type": "stream",
     "text": [
      "2025-03-19 17:48:23,678 - INFO - Loading dataset...\n"
     ]
    },
    {
     "name": "stderr",
     "output_type": "stream",
     "text": [
      "2025-03-19 17:48:32,159 - INFO - Dataset loaded successfully.\n",
      "2025-03-19 17:48:32,161 - INFO - Initializing model, loss manager, and optimizer...\n",
      "2025-03-19 17:48:36,118 - INFO - Model, loss manager, and optimizer initialized successfully.\n",
      "2025-03-19 17:48:36,129 - INFO - Epoch [1/100] - Training\n",
      "Epoch 1/100 (Train):   1%|          | 3/253 [00:14<19:04,  4.58s/batch, Loss=853.2923] "
     ]
    },
    {
     "name": "stdout",
     "output_type": "stream",
     "text": [
      "Decomposition failed; adding eps\n"
     ]
    },
    {
     "name": "stderr",
     "output_type": "stream",
     "text": [
      "Epoch 1/100 (Train):   2%|▏         | 4/253 [00:22<24:42,  5.95s/batch, Loss=1899.2070]C:\\Users\\giuli\\OneDrive\\Research\\geomfum_proj\\geomfum\\geomfum\\shape\\mesh.py:176: UserWarning: To copy construct from a tensor, it is recommended to use sourceTensor.clone().detach() or sourceTensor.clone().detach().requires_grad_(True), rather than torch.tensor(sourceTensor).\n",
      "  self.vertices = torch.tensor(self.vertices).to(device)\n",
      "C:\\Users\\giuli\\OneDrive\\Research\\geomfum_proj\\geomfum\\geomfum\\shape\\mesh.py:177: UserWarning: To copy construct from a tensor, it is recommended to use sourceTensor.clone().detach() or sourceTensor.clone().detach().requires_grad_(True), rather than torch.tensor(sourceTensor).\n",
      "  self.faces = torch.tensor(self.faces).to(device)\n",
      "Epoch 1/100 (Train):   5%|▌         | 13/253 [00:26<02:23,  1.67batch/s, Loss=958.3160] "
     ]
    }
   ],
   "source": [
    "#instantiate the trainer\n",
    "trainer=DeepFunctionalMapTrainer(opt)\n",
    "\n",
    "#train\n",
    "trainer.train()\n",
    "\n",
    "trainer.save_model(\"test.pth\")"
   ]
  },
  {
   "cell_type": "code",
   "execution_count": null,
   "metadata": {},
   "outputs": [],
   "source": [
    "#instantiate the trainer\n",
    "trainer=DeepFunctionalMapTrainer(opt)"
   ]
  },
  {
   "cell_type": "code",
   "execution_count": null,
   "metadata": {},
   "outputs": [],
   "source": [
    "trainer.load_model(\"test.pth\")"
   ]
  }
 ],
 "metadata": {
  "kernelspec": {
   "display_name": "VENV",
   "language": "python",
   "name": "python3"
  },
  "language_info": {
   "codemirror_mode": {
    "name": "ipython",
    "version": 3
   },
   "file_extension": ".py",
   "mimetype": "text/x-python",
   "name": "python",
   "nbconvert_exporter": "python",
   "pygments_lexer": "ipython3",
   "version": "3.11.8"
  }
 },
 "nbformat": 4,
 "nbformat_minor": 2
}
