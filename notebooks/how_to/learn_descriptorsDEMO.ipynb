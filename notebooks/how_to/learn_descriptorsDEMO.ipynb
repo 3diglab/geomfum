{
 "cells": [
  {
   "cell_type": "markdown",
   "metadata": {},
   "source": [
    "# How to train a DeepFunctionalMap model"
   ]
  },
  {
   "cell_type": "code",
   "execution_count": 1,
   "metadata": {},
   "outputs": [
    {
     "name": "stdout",
     "output_type": "stream",
     "text": [
      "[KeOps] Warning : Cuda libraries were not detected on the system or could not be loaded ; using cpu only mode\n"
     ]
    }
   ],
   "source": [
    "from geomfum.dfm.forward_functional_map import ForwardFunctionalMap\n",
    "from geomfum.descriptor.learned import LearnedDescriptor\n",
    "from geomfum.dfm.permutation import PermutationModule\n",
    "from geomfum.dfm.trainer import DeepFunctionalMapTrainer\n",
    "\n",
    "from geomfum.dfm.dataset import PairsDataset,ShapeDataset\n",
    "import torch\n",
    "import yaml\n",
    "DEVICE = \"cuda\"\n"
   ]
  },
  {
   "cell_type": "markdown",
   "metadata": {},
   "source": [
    "We load options from a configuration file or a dictionary\n"
   ]
  },
  {
   "cell_type": "code",
   "execution_count": null,
   "metadata": {},
   "outputs": [],
   "source": [
    "opt={\n",
    "    \"device\": \"cuda\",\n",
    "    \"epochs\": 100,\n",
    "    \"batch_size\": 1,\n",
    "    \"lr\": 0.001,\n",
    "    \"shape_dir\": \"../../../datasets/smal_r/train_set/\",\n",
    "    \"k\": 128,\n",
    "    \"pair_mode\":\"all\",\n",
    "    \"n_pairs\":100,\n",
    "    \"model\": {\n",
    "        \"class\": \"VanillaFMNet\",\n",
    "        \"params\": {\n",
    "            \"descriptor\": {\n",
    "                \"type\": \"diffusion_net\",\n",
    "                \"params\": {\n",
    "                    \"out_channels\": 128,  \n",
    "                #    \"out_channels\" : 128,\n",
    "                    \"cache_dir\" : \"../../../datasets/smal_r/train_set/diffusion\"\n",
    "                }\n",
    "            },\n",
    "            \"forward_map\": {\n",
    "                \"lmbda\": 0.001,\n",
    "                \"resolvent_gamma\": 1\n",
    "            }\n",
    "        }\n",
    "    },\n",
    "    \"loss_config\": {\n",
    "        \"Orthonormality\": 1.0,\n",
    "        #\"Laplacian_Commutativity\": 0.01,\n",
    "        \"Bijectivity\": 1.0,\n",
    "        #\"Fmap_Supervision\": 1.0,\n",
    "    },\n",
    "    \"save_interval\": 1\n",
    "}"
   ]
  },
  {
   "cell_type": "code",
   "execution_count": 3,
   "metadata": {},
   "outputs": [],
   "source": [
    "#alternatively\n",
    "#yaml_file = \"config_test.yaml\"\n",
    "#with open(yaml_file, 'r') as stream:\n",
    "#    config = yaml.safe_load(stream)"
   ]
  },
  {
   "cell_type": "markdown",
   "metadata": {},
   "source": [
    "Now we can train, test and save the network"
   ]
  },
  {
   "cell_type": "code",
   "execution_count": 9,
   "metadata": {},
   "outputs": [
    {
     "name": "stderr",
     "output_type": "stream",
     "text": [
      "2025-03-20 17:50:01,633 - INFO - Loading dataset...\n",
      "2025-03-20 17:50:15,028 - INFO - Dataset loaded successfully.\n",
      "2025-03-20 17:50:15,108 - INFO - Initializing model, loss manager, and optimizer...\n"
     ]
    },
    {
     "ename": "ValueError",
     "evalue": "optimizer got an empty parameter list",
     "output_type": "error",
     "traceback": [
      "\u001b[1;31m---------------------------------------------------------------------------\u001b[0m",
      "\u001b[1;31mValueError\u001b[0m                                Traceback (most recent call last)",
      "Cell \u001b[1;32mIn[9], line 2\u001b[0m\n\u001b[0;32m      1\u001b[0m \u001b[38;5;66;03m#instantiate the trainer\u001b[39;00m\n\u001b[1;32m----> 2\u001b[0m trainer\u001b[38;5;241m=\u001b[39m\u001b[43mDeepFunctionalMapTrainer\u001b[49m\u001b[43m(\u001b[49m\u001b[43mopt\u001b[49m\u001b[43m)\u001b[49m\n\u001b[0;32m      4\u001b[0m \u001b[38;5;66;03m#train\u001b[39;00m\n\u001b[0;32m      5\u001b[0m trainer\u001b[38;5;241m.\u001b[39mtrain()\n",
      "File \u001b[1;32mc:\\USERS\\GIULI\\ONEDRIVE\\RESEARCH\\GEOMFUM_PROJ\\VENV\\Lib\\site-packages\\geomfum\\dfm\\trainer.py:34\u001b[0m, in \u001b[0;36mDeepFunctionalMapTrainer.__init__\u001b[1;34m(self, config)\u001b[0m\n\u001b[0;32m     31\u001b[0m \u001b[38;5;28mself\u001b[39m\u001b[38;5;241m.\u001b[39mtrain_loader, \u001b[38;5;28mself\u001b[39m\u001b[38;5;241m.\u001b[39mval_loader \u001b[38;5;241m=\u001b[39m \u001b[38;5;28mself\u001b[39m\u001b[38;5;241m.\u001b[39m_get_dataloaders()\n\u001b[0;32m     33\u001b[0m \u001b[38;5;66;03m# Model, Loss, Optimizer\u001b[39;00m\n\u001b[1;32m---> 34\u001b[0m \u001b[38;5;28;43mself\u001b[39;49m\u001b[38;5;241;43m.\u001b[39;49m\u001b[43m_initialize_training_components\u001b[49m\u001b[43m(\u001b[49m\u001b[43m)\u001b[49m\n",
      "File \u001b[1;32mc:\\USERS\\GIULI\\ONEDRIVE\\RESEARCH\\GEOMFUM_PROJ\\VENV\\Lib\\site-packages\\geomfum\\dfm\\trainer.py:62\u001b[0m, in \u001b[0;36mDeepFunctionalMapTrainer._initialize_training_components\u001b[1;34m(self)\u001b[0m\n\u001b[0;32m     59\u001b[0m loss_config \u001b[38;5;241m=\u001b[39m \u001b[38;5;28mself\u001b[39m\u001b[38;5;241m.\u001b[39mconfig\u001b[38;5;241m.\u001b[39mget(\u001b[38;5;124m\"\u001b[39m\u001b[38;5;124mloss_config\u001b[39m\u001b[38;5;124m\"\u001b[39m, {\u001b[38;5;124m\"\u001b[39m\u001b[38;5;124mOrthonormality\u001b[39m\u001b[38;5;124m\"\u001b[39m: \u001b[38;5;241m1.0\u001b[39m, \u001b[38;5;124m\"\u001b[39m\u001b[38;5;124mLaplacian_Commutativity\u001b[39m\u001b[38;5;124m\"\u001b[39m: \u001b[38;5;241m0.01\u001b[39m})\n\u001b[0;32m     60\u001b[0m \u001b[38;5;28mself\u001b[39m\u001b[38;5;241m.\u001b[39mloss_manager \u001b[38;5;241m=\u001b[39m LossManager(loss_config)\n\u001b[1;32m---> 62\u001b[0m \u001b[38;5;28mself\u001b[39m\u001b[38;5;241m.\u001b[39moptimizer \u001b[38;5;241m=\u001b[39m \u001b[43mtorch\u001b[49m\u001b[38;5;241;43m.\u001b[39;49m\u001b[43moptim\u001b[49m\u001b[38;5;241;43m.\u001b[39;49m\u001b[43mAdam\u001b[49m\u001b[43m(\u001b[49m\u001b[38;5;28;43mself\u001b[39;49m\u001b[38;5;241;43m.\u001b[39;49m\u001b[43mmodel\u001b[49m\u001b[38;5;241;43m.\u001b[39;49m\u001b[43mparameters\u001b[49m\u001b[43m(\u001b[49m\u001b[43m)\u001b[49m\u001b[43m,\u001b[49m\u001b[43m \u001b[49m\u001b[43mlr\u001b[49m\u001b[38;5;241;43m=\u001b[39;49m\u001b[38;5;28;43mself\u001b[39;49m\u001b[38;5;241;43m.\u001b[39;49m\u001b[43mlr\u001b[49m\u001b[43m)\u001b[49m\n\u001b[0;32m     63\u001b[0m logging\u001b[38;5;241m.\u001b[39minfo(\u001b[38;5;124m\"\u001b[39m\u001b[38;5;124mModel, loss manager, and optimizer initialized successfully.\u001b[39m\u001b[38;5;124m\"\u001b[39m)\n",
      "File \u001b[1;32mc:\\USERS\\GIULI\\ONEDRIVE\\RESEARCH\\GEOMFUM_PROJ\\VENV\\Lib\\site-packages\\torch\\optim\\adam.py:99\u001b[0m, in \u001b[0;36mAdam.__init__\u001b[1;34m(self, params, lr, betas, eps, weight_decay, amsgrad, foreach, maximize, capturable, differentiable, fused)\u001b[0m\n\u001b[0;32m     85\u001b[0m         \u001b[38;5;28;01mraise\u001b[39;00m \u001b[38;5;167;01mValueError\u001b[39;00m(\u001b[38;5;124m\"\u001b[39m\u001b[38;5;124mTensor betas[1] must be 1-element\u001b[39m\u001b[38;5;124m\"\u001b[39m)\n\u001b[0;32m     87\u001b[0m defaults \u001b[38;5;241m=\u001b[39m \u001b[38;5;28mdict\u001b[39m(\n\u001b[0;32m     88\u001b[0m     lr\u001b[38;5;241m=\u001b[39mlr,\n\u001b[0;32m     89\u001b[0m     betas\u001b[38;5;241m=\u001b[39mbetas,\n\u001b[1;32m   (...)\u001b[0m\n\u001b[0;32m     97\u001b[0m     fused\u001b[38;5;241m=\u001b[39mfused,\n\u001b[0;32m     98\u001b[0m )\n\u001b[1;32m---> 99\u001b[0m \u001b[38;5;28;43msuper\u001b[39;49m\u001b[43m(\u001b[49m\u001b[43m)\u001b[49m\u001b[38;5;241;43m.\u001b[39;49m\u001b[38;5;21;43m__init__\u001b[39;49m\u001b[43m(\u001b[49m\u001b[43mparams\u001b[49m\u001b[43m,\u001b[49m\u001b[43m \u001b[49m\u001b[43mdefaults\u001b[49m\u001b[43m)\u001b[49m\n\u001b[0;32m    101\u001b[0m \u001b[38;5;28;01mif\u001b[39;00m fused:\n\u001b[0;32m    102\u001b[0m     \u001b[38;5;28;01mif\u001b[39;00m differentiable:\n",
      "File \u001b[1;32mc:\\USERS\\GIULI\\ONEDRIVE\\RESEARCH\\GEOMFUM_PROJ\\VENV\\Lib\\site-packages\\torch\\optim\\optimizer.py:372\u001b[0m, in \u001b[0;36mOptimizer.__init__\u001b[1;34m(self, params, defaults)\u001b[0m\n\u001b[0;32m    370\u001b[0m param_groups \u001b[38;5;241m=\u001b[39m \u001b[38;5;28mlist\u001b[39m(params)\n\u001b[0;32m    371\u001b[0m \u001b[38;5;28;01mif\u001b[39;00m \u001b[38;5;28mlen\u001b[39m(param_groups) \u001b[38;5;241m==\u001b[39m \u001b[38;5;241m0\u001b[39m:\n\u001b[1;32m--> 372\u001b[0m     \u001b[38;5;28;01mraise\u001b[39;00m \u001b[38;5;167;01mValueError\u001b[39;00m(\u001b[38;5;124m\"\u001b[39m\u001b[38;5;124moptimizer got an empty parameter list\u001b[39m\u001b[38;5;124m\"\u001b[39m)\n\u001b[0;32m    373\u001b[0m \u001b[38;5;28;01mif\u001b[39;00m \u001b[38;5;129;01mnot\u001b[39;00m \u001b[38;5;28misinstance\u001b[39m(param_groups[\u001b[38;5;241m0\u001b[39m], \u001b[38;5;28mdict\u001b[39m):\n\u001b[0;32m    374\u001b[0m     param_groups \u001b[38;5;241m=\u001b[39m [{\u001b[38;5;124m\"\u001b[39m\u001b[38;5;124mparams\u001b[39m\u001b[38;5;124m\"\u001b[39m: param_groups}]\n",
      "\u001b[1;31mValueError\u001b[0m: optimizer got an empty parameter list"
     ]
    }
   ],
   "source": [
    "#instantiate the trainer\n",
    "trainer=DeepFunctionalMapTrainer(opt)\n",
    "\n",
    "#train\n",
    "trainer.train()\n",
    "\n",
    "trainer.save_model(\"test.pth\")"
   ]
  },
  {
   "cell_type": "code",
   "execution_count": 5,
   "metadata": {},
   "outputs": [
    {
     "name": "stderr",
     "output_type": "stream",
     "text": [
      "2025-03-20 17:48:35,303 - INFO - Model saved to test.pth\n"
     ]
    }
   ],
   "source": [
    "trainer.save_desc(\"test.pth\")"
   ]
  }
 ],
 "metadata": {
  "kernelspec": {
   "display_name": "VENV",
   "language": "python",
   "name": "python3"
  },
  "language_info": {
   "codemirror_mode": {
    "name": "ipython",
    "version": 3
   },
   "file_extension": ".py",
   "mimetype": "text/x-python",
   "name": "python",
   "nbconvert_exporter": "python",
   "pygments_lexer": "ipython3",
   "version": "3.11.8"
  }
 },
 "nbformat": 4,
 "nbformat_minor": 2
}
