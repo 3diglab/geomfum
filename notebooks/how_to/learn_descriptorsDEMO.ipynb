{
 "cells": [
  {
   "cell_type": "markdown",
   "metadata": {},
   "source": [
    "# How to train a DeepFunctionalMap model"
   ]
  },
  {
   "cell_type": "code",
   "execution_count": null,
   "metadata": {},
   "outputs": [],
   "source": [
    "from geomfum.dfm.forward_functional_map import ForwardFunctionalMap\n",
    "from geomfum.descriptor.learned import LearnedDescriptor\n",
    "from geomfum.dfm.permutation import PermutationModule\n",
    "from geomfum.dfm.trainer import DeepFunctionalMapTrainer\n",
    "\n",
    "from geomfum.dfm.dataset import PairsDataset,ShapeDataset\n",
    "import torch\n",
    "import yaml\n",
    "DEVICE = \"cuda\"\n"
   ]
  },
  {
   "cell_type": "markdown",
   "metadata": {},
   "source": [
    "We load options from a configuration file or a dictionary\n"
   ]
  },
  {
   "cell_type": "code",
   "execution_count": null,
   "metadata": {},
   "outputs": [],
   "source": [
    "opt={\n",
    "    \"device\": \"cuda\",\n",
    "    \"epochs\": 20,\n",
    "    \"batch_size\": 1,\n",
    "    \"lr\": 0.001,\n",
    "    \"shape_dir\": \"../../../datasets/smal_r/train_set/\",\n",
    "    \"k\": 128,\n",
    "    \"pair_mode\":\"all\",\n",
    "    \"n_pairs\":100,\n",
    "    \"model\": {\n",
    "        \"class\": \"VanillaFMNet\",\n",
    "        \"params\": {\n",
    "            \"descriptor\": {\n",
    "                \"type\": \"diffusion_net\",\n",
    "                \"params\": {\n",
    "                    #\"k\": 128,  \n",
    "                    #\"device\":\"cuda\",\n",
    "                    \"out_channels\" : 128,\n",
    "                    \"cache_dir\" : \"../../../datasets/smal_r/train_set/diffusion\"\n",
    "                }\n",
    "            },\n",
    "            \"forward_map\": {\n",
    "                \"lmbda\": 0.001,\n",
    "                \"resolvent_gamma\": 1\n",
    "            }\n",
    "        }\n",
    "    },\n",
    "    \"loss_config\": {\n",
    "        \"Orthonormality\": 1.0,\n",
    "        \"Laplacian_Commutativity\": 0.01,\n",
    "        \"Bijectivity\": 1.0,\n",
    "        #\"Fmap_Supervision\": 1.0,\n",
    "    },\n",
    "    \"save_interval\": 1\n",
    "}"
   ]
  },
  {
   "cell_type": "code",
   "execution_count": null,
   "metadata": {},
   "outputs": [],
   "source": [
    "#alternatively\n",
    "#yaml_file = \"config_test.yaml\"\n",
    "#with open(yaml_file, 'r') as stream:\n",
    "#    config = yaml.safe_load(stream)"
   ]
  },
  {
   "cell_type": "markdown",
   "metadata": {},
   "source": [
    "Now we can train, test and save the network"
   ]
  },
  {
   "cell_type": "code",
   "execution_count": null,
   "metadata": {},
   "outputs": [],
   "source": [
    "#instantiate the trainer\n",
    "trainer=DeepFunctionalMapTrainer(opt)\n",
    "\n",
    "#train\n",
    "trainer.train()\n",
    "\n",
    "trainer.save_model(\"test.pth\")"
   ]
  },
  {
   "cell_type": "code",
   "execution_count": null,
   "metadata": {},
   "outputs": [],
   "source": [
    "trainer.save_model(\"smal_test.pth\")"
   ]
  }
 ],
 "metadata": {
  "kernelspec": {
   "display_name": "venv",
   "language": "python",
   "name": "python3"
  },
  "language_info": {
   "codemirror_mode": {
    "name": "ipython",
    "version": 3
   },
   "file_extension": ".py",
   "mimetype": "text/x-python",
   "name": "python",
   "nbconvert_exporter": "python",
   "pygments_lexer": "ipython3",
   "version": "3.11.8"
  }
 },
 "nbformat": 4,
 "nbformat_minor": 2
}
