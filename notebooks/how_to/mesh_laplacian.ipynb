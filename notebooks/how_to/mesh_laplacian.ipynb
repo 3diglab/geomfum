{
    "cells": [
        {
            "cell_type": "markdown",
            "metadata": {},
            "source": [
                "# How to compute the mesh Laplacian?"
            ]
        },
        {
            "cell_type": "code",
            "execution_count": 6,
            "metadata": {},
            "outputs": [],
            "source": [
                "import os\n",
                "\n",
                "from geomfum.laplacian import LaplacianFinder\n",
                "from geomfum.shape import TriangleMesh\n",
                "\n",
                "DATA_DIR = os.environ[\"GEOMFUM_DATA_DIR\"]"
            ]
        },
        {
            "cell_type": "markdown",
            "metadata": {},
            "source": [
                "[Load a mesh](load_mesh_from_file.ipynb)."
            ]
        },
        {
            "cell_type": "code",
            "execution_count": 7,
            "metadata": {},
            "outputs": [],
            "source": [
                "filename = \"cat-00.off\"\n",
                "mesh = TriangleMesh.from_file(f\"{DATA_DIR}/{filename}\")"
            ]
        },
        {
            "cell_type": "markdown",
            "metadata": {},
            "source": [
                "Find Laplacian."
            ]
        },
        {
            "cell_type": "code",
            "execution_count": 8,
            "metadata": {},
            "outputs": [],
            "source": [
                "laplacian_finder = LaplacianFinder(which=\"robust\")"
            ]
        },
        {
            "cell_type": "code",
            "execution_count": 9,
            "metadata": {},
            "outputs": [
                {
                    "data": {
                        "text/plain": [
                            "((7207, 7207), (7207, 7207))"
                        ]
                    },
                    "execution_count": 9,
                    "metadata": {},
                    "output_type": "execute_result"
                }
            ],
            "source": [
                "laplace_matrix, mass_matrix = laplacian_finder(mesh)\n",
                "\n",
                "(laplace_matrix.shape, mass_matrix.shape)"
            ]
        },
        {
            "cell_type": "markdown",
            "metadata": {},
            "source": [
                "Tip: different algorithms can be used by changing `which` (check docs for possibilities)."
            ]
        },
        {
            "cell_type": "markdown",
            "metadata": {},
            "source": [
                "Syntax sugar:"
            ]
        },
        {
            "cell_type": "code",
            "execution_count": 10,
            "metadata": {},
            "outputs": [
                {
                    "data": {
                        "text/plain": [
                            "((7207, 7207), (7207, 7207))"
                        ]
                    },
                    "execution_count": 10,
                    "metadata": {},
                    "output_type": "execute_result"
                }
            ],
            "source": [
                "mesh.find_laplacian(laplacian_finder=laplacian_finder, recompute=False)\n",
                "\n",
                "(mesh.laplace_matrix.shape, mesh.mass_matrix.shape)"
            ]
        },
        {
            "cell_type": "markdown",
            "metadata": {},
            "source": [
                "## Further reading\n",
                "\n",
                "* [How to compute the mesh Laplacian spectrum?](./mesh_laplacian_spectrum.ipynb)"
            ]
        }
    ],
    "metadata": {
        "kernelspec": {
            "display_name": "py12",
            "language": "python",
            "name": "python3"
        },
        "language_info": {
            "codemirror_mode": {
                "name": "ipython",
                "version": 3
            },
            "file_extension": ".py",
            "mimetype": "text/x-python",
            "name": "python",
            "nbconvert_exporter": "python",
            "pygments_lexer": "ipython3",
            "version": "3.12.3"
        }
    },
    "nbformat": 4,
    "nbformat_minor": 2
}