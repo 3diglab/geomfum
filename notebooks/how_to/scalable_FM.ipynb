{
 "cells": [
  {
   "cell_type": "markdown",
   "metadata": {},
   "source": [
    "# How to use SCalable Functional Maps to compute a Correspondence?"
   ]
  },
  {
   "cell_type": "code",
   "execution_count": 1,
   "metadata": {},
   "outputs": [],
   "source": [
    "import numpy as np\n",
    "\n",
    "import sys\n",
    "sys.path.append('../../')\n",
    "\n",
    "from geomfum.dataset import NotebooksDataset\n",
    "from geomfum.refine import ZoomOut\n",
    "from geomfum.shape import TriangleMesh\n",
    "from geomfum.shape.hierarchical import HierarchicalMesh"
   ]
  },
  {
   "cell_type": "markdown",
   "metadata": {},
   "source": [
    "Load Meshes"
   ]
  },
  {
   "cell_type": "code",
   "execution_count": 2,
   "metadata": {},
   "outputs": [
    {
     "data": {
      "text/plain": [
       "((7207, 14410), (5000, 9996))"
      ]
     },
     "execution_count": 2,
     "metadata": {},
     "output_type": "execute_result"
    }
   ],
   "source": [
    "dataset = NotebooksDataset()\n",
    "mesh_a = TriangleMesh.from_file(dataset.get_filename(\"cat-00\"))\n",
    "mesh_b= TriangleMesh.from_file(dataset.get_filename(\"lion-00\"))\n",
    "\n",
    "\n",
    "(mesh_a.n_vertices, mesh_a.n_faces), (mesh_b.n_vertices, mesh_b.n_faces)"
   ]
  },
  {
   "cell_type": "code",
   "execution_count": 4,
   "metadata": {},
   "outputs": [
    {
     "name": "stdout",
     "output_type": "stream",
     "text": [
      "Sampling 1000 vertices out of 7207...\n",
      "\t1294 samples extracted in 0.02s\n",
      "Computing First Dijkstra run...\n"
     ]
    },
    {
     "data": {
      "application/vnd.jupyter.widget-view+json": {
       "model_id": "e188a0f88e0d422bb0d41604b517bc4b",
       "version_major": 2,
       "version_minor": 0
      },
      "text/plain": [
       "  0%|          | 0/100 [00:00<?, ?it/s]"
      ]
     },
     "metadata": {},
     "output_type": "display_data"
    },
    {
     "name": "stdout",
     "output_type": "stream",
     "text": [
      "\tDone in 5.09s\n",
      "\n",
      "Update sampled points\n",
      "0 vertices have been added to the sample\n",
      "\n",
      "Update radius :\n",
      "Iteration 1 : Modifying 1 sampled points\n",
      "\tRecomputing 40 values\n",
      "\n",
      "Removed 26 values\n",
      "Nonzero elements :\n",
      "\tMean : 7.32 +- 1.58\n",
      "\tMin : 2\tMax: 13\n",
      "Computing 150 eigenvectors\n",
      "\tDone in 0.58 s\n",
      "Sampling 1000 vertices out of 5000...\n",
      "\t1174 samples extracted in 0.02s\n",
      "Computing First Dijkstra run...\n"
     ]
    },
    {
     "data": {
      "application/vnd.jupyter.widget-view+json": {
       "model_id": "7839a746eaf54c88aac75c5ec6c0b762",
       "version_major": 2,
       "version_minor": 0
      },
      "text/plain": [
       "  0%|          | 0/100 [00:00<?, ?it/s]"
      ]
     },
     "metadata": {},
     "output_type": "display_data"
    },
    {
     "name": "stdout",
     "output_type": "stream",
     "text": [
      "\tDone in 5.46s\n",
      "\n",
      "Update sampled points\n",
      "0 vertices have been added to the sample\n",
      "\n",
      "Update radius :\n",
      "Iteration 1 : Modifying 26 sampled points\n",
      "\tRecomputing 547 values\n",
      "\n",
      "Iteration 2 : Modifying 4 sampled points\n",
      "\tRecomputing 48 values\n",
      "\n",
      "Iteration 3 : Modifying 2 sampled points\n",
      "\tRecomputing 23 values\n",
      "\n",
      "Iteration 4 : Modifying 2 sampled points\n",
      "\tRecomputing 23 values\n",
      "\n",
      "Removed 390 values\n",
      "Nonzero elements :\n",
      "\tMean : 7.91 +- 1.73\n",
      "\tMin : 3\tMax: 14\n",
      "Computing 150 eigenvectors\n",
      "\tDone in 0.48 s\n"
     ]
    },
    {
     "data": {
      "text/plain": [
       "(1294, 1174)"
      ]
     },
     "execution_count": 4,
     "metadata": {},
     "output_type": "execute_result"
    }
   ],
   "source": [
    "hmesh_a = HierarchicalMesh.from_registry( mesh_a, min_n_samples=1000,which=\"scalablefm\")\n",
    "hmesh_b = HierarchicalMesh.from_registry(mesh_b, min_n_samples=1000,which=\"scalablefm\")\n",
    "\n",
    "(\n",
    "    (hmesh_a.low.n_points),\n",
    "    (hmesh_b.low.n_points),\n",
    ")"
   ]
  },
  {
   "cell_type": "code",
   "execution_count": 5,
   "metadata": {},
   "outputs": [],
   "source": [
    "hmesh_a.low.laplacian.find_spectrum(spectrum_size=10, set_as_basis=True)\n",
    "hmesh_b.low.laplacian.find_spectrum(spectrum_size=10, set_as_basis=True)\n",
    "\n",
    "hmesh_a.low.basis.use_k = 6\n",
    "hmesh_b.low.basis.use_k = 5"
   ]
  },
  {
   "cell_type": "code",
   "execution_count": 6,
   "metadata": {},
   "outputs": [
    {
     "data": {
      "text/plain": [
       "(1174, 5)"
      ]
     },
     "execution_count": 6,
     "metadata": {},
     "output_type": "execute_result"
    }
   ],
   "source": [
    "hmesh_a.low.basis.vecs.shape\n",
    "hmesh_b.low.basis.vecs.shape\n"
   ]
  },
  {
   "cell_type": "code",
   "execution_count": 7,
   "metadata": {},
   "outputs": [
    {
     "data": {
      "text/plain": [
       "((7207, 10), (5000, 10))"
      ]
     },
     "execution_count": 7,
     "metadata": {},
     "output_type": "execute_result"
    }
   ],
   "source": [
    "hmesh_a.extend_basis(set_as_basis=True)\n",
    "hmesh_b.extend_basis(set_as_basis=True)\n",
    "\n",
    "(\n",
    "    hmesh_a.high.basis.vecs.shape,\n",
    "    hmesh_b.high.basis.vecs.shape,\n",
    ")"
   ]
  }
 ],
 "metadata": {
  "kernelspec": {
   "display_name": "venv",
   "language": "python",
   "name": "python3"
  },
  "language_info": {
   "codemirror_mode": {
    "name": "ipython",
    "version": 3
   },
   "file_extension": ".py",
   "mimetype": "text/x-python",
   "name": "python",
   "nbconvert_exporter": "python",
   "pygments_lexer": "ipython3",
   "version": "3.11.8"
  }
 },
 "nbformat": 4,
 "nbformat_minor": 2
}
