{
    "cells": [
        {
            "cell_type": "markdown",
            "metadata": {},
            "source": [
                "# How to compute a functional map?"
            ]
        },
        {
            "cell_type": "code",
            "execution_count": 1,
            "metadata": {},
            "outputs": [],
            "source": [
                "import numpy as np\n",
                "\n",
                "from geomfum.dataset import NotebooksDataset\n",
                "from geomfum.descriptor.pipeline import (\n",
                "    ArangeSubsampler,\n",
                "    DescriptorPipeline,\n",
                "    L2InnerNormalizer,\n",
                ")\n",
                "from geomfum.descriptor.spectral import HeatKernelSignature, WaveKernelSignature\n",
                "from geomfum.functional_map import (\n",
                "    FactorSum,\n",
                "    LBCommutativityEnforcing,\n",
                "    OperatorCommutativityEnforcing,\n",
                "    SpectralDescriptorPreservation,\n",
                ")\n",
                "\n",
                "from geomfum.deep_functional_map import RegularizedFMNet\n",
                "from geomfum.shape import TriangleMesh"
            ]
        },
        {
            "cell_type": "markdown",
            "metadata": {},
            "source": [
                "[Load meshes](load_mesh_from_file.ipynb)."
            ]
        },
        {
            "cell_type": "code",
            "execution_count": 2,
            "metadata": {},
            "outputs": [],
            "source": [
                "dataset = NotebooksDataset()\n",
                "\n",
                "mesh_a = TriangleMesh.from_file(dataset.get_filename(\"cat-00\"))\n",
                "mesh_b = TriangleMesh.from_file(dataset.get_filename(\"lion-00\"))"
            ]
        },
        {
            "cell_type": "markdown",
            "metadata": {},
            "source": [
                "[Set Laplace eigenbasis](./mesh_laplacian_spectrum.ipynb) for each mesh."
            ]
        },
        {
            "cell_type": "code",
            "execution_count": 3,
            "metadata": {},
            "outputs": [],
            "source": [
                "mesh_a.laplacian.find_spectrum(spectrum_size=40, set_as_basis=True)\n",
                "mesh_b.laplacian.find_spectrum(spectrum_size=40, set_as_basis=True)\n",
                "\n",
                "mesh_a.basis.use_k = 10\n",
                "mesh_b.basis.use_k = 10\n",
                "\n"
            ]
        },
        {
            "cell_type": "markdown",
            "metadata": {},
            "source": [
                "Set a [descriptor pipeline](./descriptor_pipeline.ipynb) and apply it to both shapes."
            ]
        },
        {
            "cell_type": "code",
            "execution_count": 4,
            "metadata": {},
            "outputs": [],
            "source": [
                "steps = [\n",
                "    HeatKernelSignature.from_registry(n_domain=100),\n",
                "    ArangeSubsampler(subsample_step=2),\n",
                "    WaveKernelSignature.from_registry(n_domain=3),\n",
                "    L2InnerNormalizer(),\n",
                "]\n",
                "\n",
                "pipeline = DescriptorPipeline(steps)"
            ]
        },
        {
            "cell_type": "code",
            "execution_count": 5,
            "metadata": {},
            "outputs": [],
            "source": [
                "descr_a = pipeline.apply(mesh_a)\n",
                "descr_b = pipeline.apply(mesh_b)"
            ]
        },
        {
            "cell_type": "markdown",
            "metadata": {},
            "source": [
                "Solve for the functional map matrix performing the forward pass."
            ]
        },
        {
            "cell_type": "code",
            "execution_count": 6,
            "metadata": {},
            "outputs": [],
            "source": [
                "FMNet=RegularizedFMNet()"
            ]
        },
        {
            "cell_type": "code",
            "execution_count": 7,
            "metadata": {},
            "outputs": [],
            "source": [
                "fmap = FMNet(mesh_a, mesh_b, descr_a,descr_b)\n"
            ]
        },
        {
            "cell_type": "markdown",
            "metadata": {},
            "source": [
                "## Further reading\n",
                "\n",
                "* [How to compute a pointwise map from a functional map?](./pointwise_from_functional.ipynb)\n",
                "\n",
                "* [How to refine a functional map?](./refine_functional_map.ipynb)\n",
                "\n",
                "* [How to use ReMatching to compute a functional map?](./rematching.ipynb)"
            ]
        }
    ],
    "metadata": {
        "kernelspec": {
            "display_name": "venv",
            "language": "python",
            "name": "python3"
        },
        "language_info": {
            "codemirror_mode": {
                "name": "ipython",
                "version": 3
            },
            "file_extension": ".py",
            "mimetype": "text/x-python",
            "name": "python",
            "nbconvert_exporter": "python",
            "pygments_lexer": "ipython3",
            "version": "3.11.8"
        }
    },
    "nbformat": 4,
    "nbformat_minor": 2
}
