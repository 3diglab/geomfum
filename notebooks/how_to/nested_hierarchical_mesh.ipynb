{
 "cells": [
  {
   "cell_type": "markdown",
   "metadata": {},
   "source": [
    "# How to create a nested hierarchical mesh?"
   ]
  },
  {
   "cell_type": "code",
   "execution_count": 1,
   "metadata": {},
   "outputs": [],
   "source": [
    "import numpy as np\n",
    "\n",
    "from geomfum.dataset import NotebooksDataset\n",
    "from geomfum.shape import TriangleMesh\n",
    "from geomfum.shape.hierarchical import HierarchicalMesh, NestedHierarchicalMesh"
   ]
  },
  {
   "cell_type": "markdown",
   "metadata": {},
   "source": [
    "[Load mesh](load_mesh_from_file.ipynb)."
   ]
  },
  {
   "cell_type": "code",
   "execution_count": 2,
   "metadata": {},
   "outputs": [
    {
     "data": {
      "text/plain": [
       "(7207, 14410)"
      ]
     },
     "execution_count": 2,
     "metadata": {},
     "output_type": "execute_result"
    }
   ],
   "source": [
    "dataset = NotebooksDataset()\n",
    "mesh = TriangleMesh.from_file(dataset.get_filename(\"cat-00\"))\n",
    "\n",
    "mesh.n_vertices, mesh.n_faces"
   ]
  },
  {
   "cell_type": "markdown",
   "metadata": {},
   "source": [
    "Create a nested [hierarchical mesh](./hierarchical_mesh.ipynb)."
   ]
  },
  {
   "cell_type": "code",
   "execution_count": 3,
   "metadata": {},
   "outputs": [
    {
     "data": {
      "text/plain": [
       "[302, 505, 1004, 7207]"
      ]
     },
     "execution_count": 3,
     "metadata": {},
     "output_type": "execute_result"
    }
   ],
   "source": [
    "min_n_samples = [1000, 500, 250]\n",
    "\n",
    "nested_hmesh = NestedHierarchicalMesh.from_hierarchical_shape(\n",
    "    mesh, HierarchicalMesh.from_registry, min_n_samples=min_n_samples\n",
    ")\n",
    "\n",
    "nested_hmesh.n_vertices"
   ]
  },
  {
   "cell_type": "markdown",
   "metadata": {},
   "source": [
    "We can access each mesh from low to high resolution with `nested_hmesh.meshes`."
   ]
  },
  {
   "cell_type": "markdown",
   "metadata": {},
   "source": [
    "We can transfer scalars from low-resolution to high-resolution."
   ]
  },
  {
   "cell_type": "code",
   "execution_count": 4,
   "metadata": {},
   "outputs": [
    {
     "data": {
      "text/plain": [
       "[(302,), (505,), (1004,), (7207,)]"
      ]
     },
     "execution_count": 4,
     "metadata": {},
     "output_type": "execute_result"
    }
   ],
   "source": [
    "low_scalar = np.random.random(size=nested_hmesh.lowest.n_vertices)\n",
    "\n",
    "scalars = nested_hmesh.scalar_low_high(low_scalar)\n",
    "\n",
    "[scalar_.shape for scalar_ in scalars]"
   ]
  },
  {
   "cell_type": "markdown",
   "metadata": {},
   "source": [
    "Or stop at a particular level."
   ]
  },
  {
   "cell_type": "code",
   "execution_count": 5,
   "metadata": {},
   "outputs": [
    {
     "data": {
      "text/plain": [
       "[(302,), (505,), (1004,)]"
      ]
     },
     "execution_count": 5,
     "metadata": {},
     "output_type": "execute_result"
    }
   ],
   "source": [
    "scalars = nested_hmesh.scalar_low_high(low_scalar, n_levels=2)\n",
    "\n",
    "[scalar_.shape for scalar_ in scalars]"
   ]
  },
  {
   "cell_type": "markdown",
   "metadata": {},
   "source": [
    "With this, we can extend a [low-resolution basis](./mesh_laplacian_spectrum.ipynb) (as above, we can stop at a particular level)."
   ]
  },
  {
   "cell_type": "code",
   "execution_count": 6,
   "metadata": {},
   "outputs": [
    {
     "data": {
      "text/plain": [
       "[<geomfum.basis.LaplaceEigenBasis at 0x7bad4d319f70>,\n",
       " <geomfum.basis.EigenBasis at 0x7bad1abe0500>,\n",
       " <geomfum.basis.EigenBasis at 0x7bad4d368140>,\n",
       " <geomfum.basis.EigenBasis at 0x7bad4fea3aa0>]"
      ]
     },
     "execution_count": 6,
     "metadata": {},
     "output_type": "execute_result"
    }
   ],
   "source": [
    "nested_hmesh.lowest.laplacian.find_spectrum(spectrum_size=10, set_as_basis=True)\n",
    "\n",
    "nested_hmesh.extend_basis(set_as_basis=True)\n",
    "\n",
    "[mesh_.basis for mesh_ in nested_hmesh.meshes]"
   ]
  },
  {
   "cell_type": "markdown",
   "metadata": {},
   "source": [
    "## Further reading\n",
    "\n",
    "* [How to use ReMatching to compute a functional map?](./rematching.ipynb)"
   ]
  }
 ],
 "metadata": {
  "kernelspec": {
   "display_name": "py12",
   "language": "python",
   "name": "python3"
  },
  "language_info": {
   "codemirror_mode": {
    "name": "ipython",
    "version": 3
   },
   "file_extension": ".py",
   "mimetype": "text/x-python",
   "name": "python",
   "nbconvert_exporter": "python",
   "pygments_lexer": "ipython3",
   "version": "3.12.3"
  }
 },
 "nbformat": 4,
 "nbformat_minor": 2
}
