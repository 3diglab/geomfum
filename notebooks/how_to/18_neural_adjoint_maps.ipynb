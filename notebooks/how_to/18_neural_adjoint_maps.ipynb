{
 "cells": [
  {
   "cell_type": "markdown",
   "metadata": {},
   "source": [
    "# How to compute a Neural Adjoint Map"
   ]
  },
  {
   "cell_type": "markdown",
   "metadata": {},
   "source": [
    "A neural adjoint map can be seen a functional map plus a non linear module. Given a correspondence, we can compute a neural adjoint map as we do for functional maps."
   ]
  },
  {
   "cell_type": "code",
   "execution_count": null,
   "metadata": {},
   "outputs": [],
   "source": [
    "import geomstats.backend as gs\n",
    "\n",
    "from geomfum.dataset import NotebooksDataset\n",
    "from geomfum.refine import NeuralZoomOut, ZoomOut\n",
    "from geomfum.shape import TriangleMesh"
   ]
  },
  {
   "cell_type": "code",
   "execution_count": null,
   "metadata": {},
   "outputs": [
    {
     "name": "stderr",
     "output_type": "stream",
     "text": [
      "INFO: Data has already been downloaded... using cached file ('C:\\Users\\giuli\\.geomfum\\data\\cat-00.off').\n",
      "INFO: Data has already been downloaded... using cached file ('C:\\Users\\giuli\\.geomfum\\data\\lion-00.off').\n"
     ]
    },
    {
     "data": {
      "text/plain": [
       "(7207, 5000)"
      ]
     },
     "execution_count": 2,
     "metadata": {},
     "output_type": "execute_result"
    }
   ],
   "source": [
    "dataset = NotebooksDataset()\n",
    "\n",
    "mesh_a = TriangleMesh.from_file(dataset.get_filename(\"cat-00\"))\n",
    "mesh_b = TriangleMesh.from_file(dataset.get_filename(\"lion-00\"))\n",
    "\n",
    "mesh_a.n_vertices, mesh_b.n_vertices"
   ]
  },
  {
   "cell_type": "code",
   "execution_count": null,
   "metadata": {},
   "outputs": [
    {
     "data": {
      "text/plain": [
       "(array([-4.34513536e-14,  1.08692580e+01,  1.81320950e+01,  2.90812660e+01,\n",
       "         3.06173749e+01,  3.12651252e+01,  4.78481503e+01,  8.78504820e+01,\n",
       "         1.40470146e+02,  1.47856194e+02,  1.49164759e+02,  1.72857180e+02,\n",
       "         1.76642726e+02,  2.07807791e+02,  2.44858198e+02,  2.76816825e+02,\n",
       "         3.00135675e+02,  3.01929992e+02,  3.31792544e+02,  3.76725198e+02,\n",
       "         3.80675117e+02,  4.39189453e+02,  4.40434106e+02,  4.67869854e+02,\n",
       "         5.01610789e+02,  5.41754796e+02,  5.51533782e+02,  5.68138789e+02,\n",
       "         5.73241345e+02,  6.27962720e+02,  6.50075188e+02,  6.70621587e+02,\n",
       "         6.82782441e+02,  7.11999556e+02,  7.42171097e+02,  7.76985084e+02,\n",
       "         7.88552673e+02,  8.20376895e+02,  8.40174148e+02,  8.82438945e+02,\n",
       "         9.01253188e+02,  9.05191559e+02,  9.40694542e+02,  9.67937725e+02,\n",
       "         1.01222528e+03,  1.02144583e+03,  1.02531778e+03,  1.08542925e+03,\n",
       "         1.11444708e+03,  1.15586949e+03]),\n",
       " array([[-1.35986867,  0.40090847, -0.41722911, ...,  0.39919736,\n",
       "         -0.53062025,  1.63824603],\n",
       "        [-1.35986867,  0.64177584, -0.52564431, ...,  0.07694288,\n",
       "         -0.57508992,  1.9800174 ],\n",
       "        [-1.35986867,  0.63871653, -0.53136203, ...,  0.41897683,\n",
       "         -0.43011352,  1.56545303],\n",
       "        ...,\n",
       "        [-1.35986867,  4.01424037,  8.29737957, ...,  2.32718841,\n",
       "         -0.01335688,  0.01216496],\n",
       "        [-1.35986867,  4.00719824,  8.27309115, ...,  1.90274305,\n",
       "         -0.01085272,  0.00979552],\n",
       "        [-1.35986867,  0.39754205, -0.42045605, ...,  0.47561599,\n",
       "         -0.39162836,  1.23860029]], shape=(5000, 50)))"
      ]
     },
     "execution_count": 3,
     "metadata": {},
     "output_type": "execute_result"
    }
   ],
   "source": [
    "mesh_a.laplacian.find_spectrum(spectrum_size=50, set_as_basis=True)\n",
    "mesh_b.laplacian.find_spectrum(spectrum_size=50, set_as_basis=True)"
   ]
  },
  {
   "cell_type": "markdown",
   "metadata": {},
   "source": [
    "We start by estimating a correspondence"
   ]
  },
  {
   "cell_type": "code",
   "execution_count": null,
   "metadata": {},
   "outputs": [],
   "source": [
    "from geomfum.convert import NearestNeighbors\n",
    "\n",
    "finder = NearestNeighbors(n_neighbors=1)\n",
    "finder.fit(mesh_b.vertices)\n",
    "p2p = finder.kneighbors(mesh_a.vertices)[1].flatten()\n"
   ]
  },
  {
   "cell_type": "markdown",
   "metadata": {},
   "source": [
    "Then we convert it into a NAM"
   ]
  },
  {
   "cell_type": "code",
   "execution_count": null,
   "metadata": {},
   "outputs": [],
   "source": [
    "from geomfum.convert import NamFromP2pConverter\n",
    "\n",
    "mesh_a.basis.use_k = 10\n",
    "mesh_b.basis.use_k = 10\n",
    "nam_converter = NamFromP2pConverter(device=\"cpu\")\n",
    "\n",
    "nam = nam_converter(p2p, mesh_a.basis, mesh_b.basis)\n"
   ]
  },
  {
   "cell_type": "code",
   "execution_count": null,
   "metadata": {},
   "outputs": [
    {
     "name": "stdout",
     "output_type": "stream",
     "text": [
      "NeuralAdjointMap(\n",
      "  (linear_module): Linear(in_features=10, out_features=10, bias=False)\n",
      "  (nonlinear_module): MLP(\n",
      "    (mlp): Sequential(\n",
      "      (0): Linear(in_features=10, out_features=128, bias=True)\n",
      "      (1): LeakyReLU(negative_slope=0.01)\n",
      "      (2): Linear(in_features=128, out_features=128, bias=True)\n",
      "      (3): LeakyReLU(negative_slope=0.01)\n",
      "      (4): Linear(in_features=128, out_features=10, bias=True)\n",
      "    )\n",
      "  )\n",
      ")\n"
     ]
    }
   ],
   "source": [
    "print(nam)"
   ]
  },
  {
   "cell_type": "markdown",
   "metadata": {},
   "source": [
    "We can visualize the linear part of the model"
   ]
  },
  {
   "cell_type": "code",
   "execution_count": null,
   "metadata": {},
   "outputs": [
    {
     "data": {
      "text/plain": [
       "<matplotlib.image.AxesImage at 0x25a0f15e390>"
      ]
     },
     "execution_count": 8,
     "metadata": {},
     "output_type": "execute_result"
    },
    {
     "data": {
      "image/png": "[encoded data removed]",
      "text/plain": [
       "<Figure size 640x480 with 1 Axes>"
      ]
     },
     "metadata": {},
     "output_type": "display_data"
    }
   ],
   "source": [
    "import matplotlib.pyplot as plt\n",
    "\n",
    "fmap = nam.linear_module.weight.detach().cpu().numpy()\n",
    "plt.imshow(fmap)"
   ]
  },
  {
   "cell_type": "markdown",
   "metadata": {},
   "source": [
    "Given a NAM, we can obtain a correspondence."
   ]
  },
  {
   "cell_type": "code",
   "execution_count": null,
   "metadata": {},
   "outputs": [
    {
     "data": {
      "text/plain": [
       "array([ 215,  213,  213, ..., 4836, 4836,  172], shape=(7207,))"
      ]
     },
     "execution_count": 9,
     "metadata": {},
     "output_type": "execute_result"
    }
   ],
   "source": [
    "from geomfum.convert import P2pFromNamConverter\n",
    "\n",
    "p2p_from_nam = P2pFromNamConverter()\n",
    "\n",
    "p2p_from_nam(nam, mesh_a.basis, mesh_b.basis)"
   ]
  },
  {
   "cell_type": "markdown",
   "metadata": {},
   "source": [
    "As in ZoomOut, we can perform spectral upsampling on NAMS."
   ]
  },
  {
   "cell_type": "code",
   "execution_count": null,
   "metadata": {},
   "outputs": [
    {
     "ename": "IndexError",
     "evalue": "index 6075 is out of bounds for axis 0 with size 5000",
     "output_type": "error",
     "traceback": [
      "\u001b[1;31m---------------------------------------------------------------------------\u001b[0m",
      "\u001b[1;31mIndexError\u001b[0m                                Traceback (most recent call last)",
      "Cell \u001b[1;32mIn[10], line 7\u001b[0m\n\u001b[0;32m      3\u001b[0m nam_ref \u001b[38;5;241m=\u001b[39m nzo(nam, mesh_a\u001b[38;5;241m.\u001b[39mbasis, mesh_b\u001b[38;5;241m.\u001b[39mbasis)\n\u001b[0;32m      5\u001b[0m p2p \u001b[38;5;241m=\u001b[39m p2p_from_nam(nam_ref, mesh_b\u001b[38;5;241m.\u001b[39mbasis, mesh_a\u001b[38;5;241m.\u001b[39mbasis)\n\u001b[1;32m----> 7\u001b[0m plotter\u001b[38;5;241m.\u001b[39mset_vertex_scalars(\u001b[43mgs\u001b[49m\u001b[38;5;241;43m.\u001b[39;49m\u001b[43mmean\u001b[49m\u001b[43m(\u001b[49m\u001b[43mmesh_b\u001b[49m\u001b[38;5;241;43m.\u001b[39;49m\u001b[43mvertices\u001b[49m\u001b[43m,\u001b[49m\u001b[43m \u001b[49m\u001b[43maxis\u001b[49m\u001b[38;5;241;43m=\u001b[39;49m\u001b[38;5;241;43m1\u001b[39;49m\u001b[43m)\u001b[49m\u001b[43m[\u001b[49m\u001b[43mp2p\u001b[49m\u001b[43m]\u001b[49m)\n\u001b[0;32m      8\u001b[0m plotter\u001b[38;5;241m.\u001b[39mshow()\n",
      "\u001b[1;31mIndexError\u001b[0m: index 6075 is out of bounds for axis 0 with size 5000"
     ]
    }
   ],
   "source": [
    "nzo = NeuralZoomOut(nit=2, step=2, device=\"cpu\")\n",
    "\n",
    "nam_ref = nzo(nam, mesh_a.basis, mesh_b.basis)\n"
   ]
  }
 ],
 "metadata": {
  "kernelspec": {
   "display_name": "VENV",
   "language": "python",
   "name": "python3"
  },
  "language_info": {
   "codemirror_mode": {
    "name": "ipython",
    "version": 3
   },
   "file_extension": ".py",
   "mimetype": "text/x-python",
   "name": "python",
   "nbconvert_exporter": "python",
   "pygments_lexer": "ipython3",
   "version": "3.11.8"
  }
 },
 "nbformat": 4,
 "nbformat_minor": 2
}
