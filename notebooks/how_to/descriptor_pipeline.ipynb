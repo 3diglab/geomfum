{
    "cells": [
        {
            "cell_type": "markdown",
            "metadata": {},
            "source": [
                "# How to create a descriptor pipeline?"
            ]
        },
        {
            "cell_type": "code",
            "execution_count": 1,
            "metadata": {},
            "outputs": [],
            "source": [
                "import os\n",
                "\n",
                "from geomfun.descriptor.pipeline import (\n",
                "    ArangeSubsampler,\n",
                "    DescriptorPipeline,\n",
                "    L2InnerNormalizer,\n",
                ")\n",
                "from geomfun.descriptor.spectral import HeatKernelSignature, WaveKernelSignature\n",
                "from geomfun.shape import TriangleMesh\n",
                "\n",
                "DATA_DIR = os.environ[\"GEOMFUN_DATA_DIR\"]"
            ]
        },
        {
            "cell_type": "markdown",
            "metadata": {},
            "source": [
                "[Load a mesh](load_mesh_from_file.ipynb)."
            ]
        },
        {
            "cell_type": "code",
            "execution_count": 2,
            "metadata": {},
            "outputs": [],
            "source": [
                "filename = \"cat-00.off\"\n",
                "mesh = TriangleMesh.from_file(f\"{DATA_DIR}/{filename}\")"
            ]
        },
        {
            "cell_type": "markdown",
            "metadata": {},
            "source": [
                "[Set Laplace eigenbasis](./mesh_laplacian_spectrum.ipynb)."
            ]
        },
        {
            "cell_type": "code",
            "execution_count": 3,
            "metadata": {},
            "outputs": [
                {
                    "data": {
                        "text/plain": [
                            "<geomfun.basis.LaplaceEigenBasis at 0x7cf98dfafad0>"
                        ]
                    },
                    "execution_count": 3,
                    "metadata": {},
                    "output_type": "execute_result"
                }
            ],
            "source": [
                "mesh.find_laplacian_spectrum(spectrum_size=10, set_as_basis=True)\n",
                "\n",
                "mesh.basis"
            ]
        },
        {
            "cell_type": "markdown",
            "metadata": {},
            "source": [
                "A pipeline is composed of [`Descriptor`](./descriptors.ipynb), `Subsampler` and `Normalizer`."
            ]
        },
        {
            "cell_type": "code",
            "execution_count": 4,
            "metadata": {},
            "outputs": [],
            "source": [
                "steps = [\n",
                "    HeatKernelSignature(n_domain=4),\n",
                "    ArangeSubsampler(subsample_step=2),\n",
                "    WaveKernelSignature(n_domain=3),\n",
                "    L2InnerNormalizer(),\n",
                "]\n",
                "\n",
                "pipeline = DescriptorPipeline(steps)"
            ]
        },
        {
            "cell_type": "code",
            "execution_count": 5,
            "metadata": {},
            "outputs": [
                {
                    "data": {
                        "text/plain": [
                            "(5, 7207)"
                        ]
                    },
                    "execution_count": 5,
                    "metadata": {},
                    "output_type": "execute_result"
                }
            ],
            "source": [
                "descr = pipeline.apply(mesh)\n",
                "\n",
                "descr.shape"
            ]
        },
        {
            "cell_type": "markdown",
            "metadata": {},
            "source": [
                "## Further reading\n",
                "\n"
            ]
        },
        {
            "cell_type": "markdown",
            "metadata": {},
            "source": [
                "* [How to compute a functional map?](./functional_map.ipynb)"
            ]
        }
    ],
    "metadata": {
        "kernelspec": {
            "display_name": "py12",
            "language": "python",
            "name": "python3"
        },
        "language_info": {
            "codemirror_mode": {
                "name": "ipython",
                "version": 3
            },
            "file_extension": ".py",
            "mimetype": "text/x-python",
            "name": "python",
            "nbconvert_exporter": "python",
            "pygments_lexer": "ipython3",
            "version": "3.12.3"
        }
    },
    "nbformat": 4,
    "nbformat_minor": 2
}