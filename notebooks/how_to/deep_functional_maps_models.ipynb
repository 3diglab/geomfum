{
 "cells": [
  {
   "cell_type": "markdown",
   "id": "1268991a",
   "metadata": {},
   "source": [
    "# How to use a Functional Map Model"
   ]
  },
  {
   "cell_type": "markdown",
   "id": "a8ea0eef",
   "metadata": {},
   "source": [
    "Here we show how to instantiate a deep functional map model. We introduce this notion as a model that can compute, given a pair of shapes, a functional maps ina  differentiable manner, using learned descriptors."
   ]
  },
  {
   "cell_type": "code",
   "execution_count": 1,
   "id": "b2d92f9d",
   "metadata": {},
   "outputs": [],
   "source": [
    "from geomfum.dataset import NotebooksDataset\n",
    "from geomfum.descriptor.learned import FeatureExtractor\n",
    "from geomfum.forward_functional_map import ForwardFunctionalMap\n",
    "from geomfum.learning.models import FMNet\n",
    "from geomfum.shape import TriangleMesh\n"
   ]
  },
  {
   "cell_type": "code",
   "execution_count": 2,
   "id": "d6dd1fee",
   "metadata": {},
   "outputs": [
    {
     "name": "stderr",
     "output_type": "stream",
     "text": [
      "INFO: Data has already been downloaded... using cached file ('/home/ubuntu/.geomfum/data/cat-00.off').\n",
      "/home/ubuntu/giulio_vigano/geomfum_proj/venv/lib/python3.12/site-packages/tqdm/auto.py:21: TqdmWarning: IProgress not found. Please update jupyter and ipywidgets. See https://ipywidgets.readthedocs.io/en/stable/user_install.html\n",
      "  from .autonotebook import tqdm as notebook_tqdm\n",
      "INFO: Data has already been downloaded... using cached file ('/home/ubuntu/.geomfum/data/lion-00.off').\n"
     ]
    }
   ],
   "source": [
    "dataset = NotebooksDataset()\n",
    "\n",
    "mesh_a = TriangleMesh.from_file(dataset.get_filename(\"cat-00\"))\n",
    "mesh_b = TriangleMesh.from_file(dataset.get_filename(\"lion-00\"))"
   ]
  },
  {
   "cell_type": "code",
   "execution_count": 3,
   "id": "ea391a75",
   "metadata": {},
   "outputs": [],
   "source": [
    "mesh_a.laplacian.find_spectrum(spectrum_size=100, set_as_basis=True)\n",
    "mesh_b.laplacian.find_spectrum(spectrum_size=100, set_as_basis=True)\n",
    "\n",
    "mesh_a.basis.use_k = 20\n",
    "mesh_b.basis.use_k = 20\n"
   ]
  },
  {
   "cell_type": "code",
   "execution_count": null,
   "id": "e8c2e0ab",
   "metadata": {},
   "outputs": [
    {
     "ename": "RuntimeError",
     "evalue": "Can't call numpy() on Tensor that requires grad. Use tensor.detach().numpy() instead.",
     "output_type": "error",
     "traceback": [
      "\u001b[31m---------------------------------------------------------------------------\u001b[39m",
      "\u001b[31mRuntimeError\u001b[39m                              Traceback (most recent call last)",
      "\u001b[36mCell\u001b[39m\u001b[36m \u001b[39m\u001b[32mIn[6]\u001b[39m\u001b[32m, line 8\u001b[39m\n\u001b[32m      3\u001b[39m functional_map_model = FMNet(\n\u001b[32m      4\u001b[39m     feature_extractor=FeatureExtractor.from_registry(which=\u001b[33m\"\u001b[39m\u001b[33mdiffusionnet\u001b[39m\u001b[33m\"\u001b[39m)\n\u001b[32m      5\u001b[39m )\n\u001b[32m      7\u001b[39m \u001b[38;5;66;03m#with torch.no_grad():\u001b[39;00m\n\u001b[32m----> \u001b[39m\u001b[32m8\u001b[39m output = \u001b[43mfunctional_map_model\u001b[49m\u001b[43m(\u001b[49m\u001b[43mmesh_a\u001b[49m\u001b[43m,\u001b[49m\u001b[43m \u001b[49m\u001b[43mmesh_b\u001b[49m\u001b[43m,\u001b[49m\u001b[43m \u001b[49m\u001b[43mas_dict\u001b[49m\u001b[43m=\u001b[49m\u001b[38;5;28;43;01mTrue\u001b[39;49;00m\u001b[43m)\u001b[49m\n\u001b[32m      9\u001b[39m fmap12, fmap21 = output[\u001b[33m\"\u001b[39m\u001b[33mfmap12\u001b[39m\u001b[33m\"\u001b[39m], output[\u001b[33m\"\u001b[39m\u001b[33mfmap21\u001b[39m\u001b[33m\"\u001b[39m]\n\u001b[32m     11\u001b[39m fmap12.shape\n",
      "\u001b[36mFile \u001b[39m\u001b[32m~/giulio_vigano/geomfum_proj/venv/lib/python3.12/site-packages/torch/nn/modules/module.py:1751\u001b[39m, in \u001b[36mModule._wrapped_call_impl\u001b[39m\u001b[34m(self, *args, **kwargs)\u001b[39m\n\u001b[32m   1749\u001b[39m     \u001b[38;5;28;01mreturn\u001b[39;00m \u001b[38;5;28mself\u001b[39m._compiled_call_impl(*args, **kwargs)  \u001b[38;5;66;03m# type: ignore[misc]\u001b[39;00m\n\u001b[32m   1750\u001b[39m \u001b[38;5;28;01melse\u001b[39;00m:\n\u001b[32m-> \u001b[39m\u001b[32m1751\u001b[39m     \u001b[38;5;28;01mreturn\u001b[39;00m \u001b[38;5;28;43mself\u001b[39;49m\u001b[43m.\u001b[49m\u001b[43m_call_impl\u001b[49m\u001b[43m(\u001b[49m\u001b[43m*\u001b[49m\u001b[43margs\u001b[49m\u001b[43m,\u001b[49m\u001b[43m \u001b[49m\u001b[43m*\u001b[49m\u001b[43m*\u001b[49m\u001b[43mkwargs\u001b[49m\u001b[43m)\u001b[49m\n",
      "\u001b[36mFile \u001b[39m\u001b[32m~/giulio_vigano/geomfum_proj/venv/lib/python3.12/site-packages/torch/nn/modules/module.py:1762\u001b[39m, in \u001b[36mModule._call_impl\u001b[39m\u001b[34m(self, *args, **kwargs)\u001b[39m\n\u001b[32m   1757\u001b[39m \u001b[38;5;66;03m# If we don't have any hooks, we want to skip the rest of the logic in\u001b[39;00m\n\u001b[32m   1758\u001b[39m \u001b[38;5;66;03m# this function, and just call forward.\u001b[39;00m\n\u001b[32m   1759\u001b[39m \u001b[38;5;28;01mif\u001b[39;00m \u001b[38;5;129;01mnot\u001b[39;00m (\u001b[38;5;28mself\u001b[39m._backward_hooks \u001b[38;5;129;01mor\u001b[39;00m \u001b[38;5;28mself\u001b[39m._backward_pre_hooks \u001b[38;5;129;01mor\u001b[39;00m \u001b[38;5;28mself\u001b[39m._forward_hooks \u001b[38;5;129;01mor\u001b[39;00m \u001b[38;5;28mself\u001b[39m._forward_pre_hooks\n\u001b[32m   1760\u001b[39m         \u001b[38;5;129;01mor\u001b[39;00m _global_backward_pre_hooks \u001b[38;5;129;01mor\u001b[39;00m _global_backward_hooks\n\u001b[32m   1761\u001b[39m         \u001b[38;5;129;01mor\u001b[39;00m _global_forward_hooks \u001b[38;5;129;01mor\u001b[39;00m _global_forward_pre_hooks):\n\u001b[32m-> \u001b[39m\u001b[32m1762\u001b[39m     \u001b[38;5;28;01mreturn\u001b[39;00m \u001b[43mforward_call\u001b[49m\u001b[43m(\u001b[49m\u001b[43m*\u001b[49m\u001b[43margs\u001b[49m\u001b[43m,\u001b[49m\u001b[43m \u001b[49m\u001b[43m*\u001b[49m\u001b[43m*\u001b[49m\u001b[43mkwargs\u001b[49m\u001b[43m)\u001b[49m\n\u001b[32m   1764\u001b[39m result = \u001b[38;5;28;01mNone\u001b[39;00m\n\u001b[32m   1765\u001b[39m called_always_called_hooks = \u001b[38;5;28mset\u001b[39m()\n",
      "\u001b[36mFile \u001b[39m\u001b[32m~/giulio_vigano/geomfum_proj/geomfum/geomfum/learning/models.py:70\u001b[39m, in \u001b[36mFMNet.forward\u001b[39m\u001b[34m(self, mesh_a, mesh_b, as_dict)\u001b[39m\n\u001b[32m     67\u001b[39m desc_a = \u001b[38;5;28mself\u001b[39m.descriptors_module(mesh_a)\n\u001b[32m     68\u001b[39m desc_b = \u001b[38;5;28mself\u001b[39m.descriptors_module(mesh_b)\n\u001b[32m---> \u001b[39m\u001b[32m70\u001b[39m fmap12, fmap21 = \u001b[38;5;28;43mself\u001b[39;49m\u001b[43m.\u001b[49m\u001b[43mfmap_module\u001b[49m\u001b[43m(\u001b[49m\u001b[43mmesh_a\u001b[49m\u001b[43m,\u001b[49m\u001b[43m \u001b[49m\u001b[43mmesh_b\u001b[49m\u001b[43m,\u001b[49m\u001b[43m \u001b[49m\u001b[43mdesc_a\u001b[49m\u001b[43m,\u001b[49m\u001b[43m \u001b[49m\u001b[43mdesc_b\u001b[49m\u001b[43m)\u001b[49m\n\u001b[32m     71\u001b[39m \u001b[38;5;28;01mif\u001b[39;00m as_dict:\n\u001b[32m     72\u001b[39m     \u001b[38;5;28;01mif\u001b[39;00m \u001b[38;5;129;01mnot\u001b[39;00m \u001b[38;5;28mself\u001b[39m.training:\n",
      "\u001b[36mFile \u001b[39m\u001b[32m~/giulio_vigano/geomfum_proj/geomfum/geomfum/forward_functional_map.py:88\u001b[39m, in \u001b[36mForwardFunctionalMap.__call__\u001b[39m\u001b[34m(self, mesh_a, mesh_b, descr_a, descr_b)\u001b[39m\n\u001b[32m     67\u001b[39m \u001b[38;5;250m\u001b[39m\u001b[33;03m\"\"\"Compute the functional map between two shapes.\u001b[39;00m\n\u001b[32m     68\u001b[39m \n\u001b[32m     69\u001b[39m \u001b[33;03mParameters\u001b[39;00m\n\u001b[32m   (...)\u001b[39m\u001b[32m     85\u001b[39m \u001b[33;03m    Functional map from shape b to shape a if bijective, otherwise None.\u001b[39;00m\n\u001b[32m     86\u001b[39m \u001b[33;03m\"\"\"\u001b[39;00m\n\u001b[32m     87\u001b[39m evals_a = mesh_a.basis.vals\n\u001b[32m---> \u001b[39m\u001b[32m88\u001b[39m sdescr_a = \u001b[43mmesh_a\u001b[49m\u001b[43m.\u001b[49m\u001b[43mbasis\u001b[49m\u001b[43m.\u001b[49m\u001b[43mproject\u001b[49m\u001b[43m(\u001b[49m\u001b[43mdescr_a\u001b[49m\u001b[43m)\u001b[49m\n\u001b[32m     89\u001b[39m evals_b = mesh_b.basis.vals\n\u001b[32m     90\u001b[39m sdescr_b = mesh_b.basis.project(descr_b)\n",
      "\u001b[36mFile \u001b[39m\u001b[32m~/giulio_vigano/geomfum_proj/geomfum/geomfum/basis.py:214\u001b[39m, in \u001b[36mLaplaceEigenBasis.project\u001b[39m\u001b[34m(self, array)\u001b[39m\n\u001b[32m    199\u001b[39m \u001b[38;5;28;01mdef\u001b[39;00m\u001b[38;5;250m \u001b[39m\u001b[34mproject\u001b[39m(\u001b[38;5;28mself\u001b[39m, array):\n\u001b[32m    200\u001b[39m \u001b[38;5;250m    \u001b[39m\u001b[33;03m\"\"\"Project on the eigenbasis.\u001b[39;00m\n\u001b[32m    201\u001b[39m \n\u001b[32m    202\u001b[39m \u001b[33;03m    Parameters\u001b[39;00m\n\u001b[32m   (...)\u001b[39m\u001b[32m    210\u001b[39m \u001b[33;03m        Projected array.\u001b[39;00m\n\u001b[32m    211\u001b[39m \u001b[33;03m    \"\"\"\u001b[39;00m\n\u001b[32m    212\u001b[39m     \u001b[38;5;28;01mreturn\u001b[39;00m la.matvecmul(\n\u001b[32m    213\u001b[39m         \u001b[38;5;28mself\u001b[39m.vecs.T,\n\u001b[32m--> \u001b[39m\u001b[32m214\u001b[39m         \u001b[43mla\u001b[49m\u001b[43m.\u001b[49m\u001b[43mmatvecmul\u001b[49m\u001b[43m(\u001b[49m\u001b[38;5;28;43mself\u001b[39;49m\u001b[43m.\u001b[49m\u001b[43m_shape\u001b[49m\u001b[43m.\u001b[49m\u001b[43mlaplacian\u001b[49m\u001b[43m.\u001b[49m\u001b[43mmass_matrix\u001b[49m\u001b[43m,\u001b[49m\u001b[43m \u001b[49m\u001b[43marray\u001b[49m\u001b[43m)\u001b[49m,\n\u001b[32m    215\u001b[39m     )\n",
      "\u001b[36mFile \u001b[39m\u001b[32m~/giulio_vigano/geomfum_proj/geomfum/geomfum/linalg.py:155\u001b[39m, in \u001b[36mmatvecmul\u001b[39m\u001b[34m(mat, vec)\u001b[39m\n\u001b[32m    152\u001b[39m     batch_shape = vec.shape[:-\u001b[32m1\u001b[39m]\n\u001b[32m    153\u001b[39m     vec = vec.reshape(-\u001b[32m1\u001b[39m, vec.shape[-\u001b[32m1\u001b[39m])\n\u001b[32m--> \u001b[39m\u001b[32m155\u001b[39m out = (\u001b[43mmat\u001b[49m\u001b[43m \u001b[49m\u001b[43m@\u001b[49m\u001b[43m \u001b[49m\u001b[43mvec\u001b[49m\u001b[43m.\u001b[49m\u001b[43mT\u001b[49m).T\n\u001b[32m    156\u001b[39m \u001b[38;5;28;01mif\u001b[39;00m reshape_out:\n\u001b[32m    157\u001b[39m     \u001b[38;5;28;01mreturn\u001b[39;00m out.reshape(batch_shape + mat.shape[:\u001b[32m1\u001b[39m])\n",
      "\u001b[36mFile \u001b[39m\u001b[32m~/giulio_vigano/geomfum_proj/venv/lib/python3.12/site-packages/scipy/sparse/_base.py:732\u001b[39m, in \u001b[36m_spbase.__matmul__\u001b[39m\u001b[34m(self, other)\u001b[39m\n\u001b[32m    729\u001b[39m \u001b[38;5;28;01mif\u001b[39;00m isscalarlike(other):\n\u001b[32m    730\u001b[39m     \u001b[38;5;28;01mraise\u001b[39;00m \u001b[38;5;167;01mValueError\u001b[39;00m(\u001b[33m\"\u001b[39m\u001b[33mScalar operands are not allowed, \u001b[39m\u001b[33m\"\u001b[39m\n\u001b[32m    731\u001b[39m                      \u001b[33m\"\u001b[39m\u001b[33muse \u001b[39m\u001b[33m'\u001b[39m\u001b[33m*\u001b[39m\u001b[33m'\u001b[39m\u001b[33m instead\u001b[39m\u001b[33m\"\u001b[39m)\n\u001b[32m--> \u001b[39m\u001b[32m732\u001b[39m \u001b[38;5;28;01mreturn\u001b[39;00m \u001b[38;5;28;43mself\u001b[39;49m\u001b[43m.\u001b[49m\u001b[43m_matmul_dispatch\u001b[49m\u001b[43m(\u001b[49m\u001b[43mother\u001b[49m\u001b[43m)\u001b[49m\n",
      "\u001b[36mFile \u001b[39m\u001b[32m~/giulio_vigano/geomfum_proj/venv/lib/python3.12/site-packages/scipy/sparse/_base.py:639\u001b[39m, in \u001b[36m_spbase._matmul_dispatch\u001b[39m\u001b[34m(self, other)\u001b[39m\n\u001b[32m    636\u001b[39m     \u001b[38;5;28;01mreturn\u001b[39;00m \u001b[38;5;28mself\u001b[39m._matmul_sparse(other)\n\u001b[32m    638\u001b[39m \u001b[38;5;66;03m# If it's a list or whatever, treat it like an array\u001b[39;00m\n\u001b[32m--> \u001b[39m\u001b[32m639\u001b[39m other_a = \u001b[43mnp\u001b[49m\u001b[43m.\u001b[49m\u001b[43masanyarray\u001b[49m\u001b[43m(\u001b[49m\u001b[43mother\u001b[49m\u001b[43m)\u001b[49m\n\u001b[32m    641\u001b[39m \u001b[38;5;28;01mif\u001b[39;00m other_a.ndim == \u001b[32m0\u001b[39m \u001b[38;5;129;01mand\u001b[39;00m other_a.dtype == np.object_:\n\u001b[32m    642\u001b[39m     \u001b[38;5;66;03m# Not interpretable as an array; return NotImplemented so that\u001b[39;00m\n\u001b[32m    643\u001b[39m     \u001b[38;5;66;03m# other's __rmatmul__ can kick in if that's implemented.\u001b[39;00m\n\u001b[32m    644\u001b[39m     \u001b[38;5;28;01mreturn\u001b[39;00m \u001b[38;5;28mNotImplemented\u001b[39m\n",
      "\u001b[36mFile \u001b[39m\u001b[32m~/giulio_vigano/geomfum_proj/venv/lib/python3.12/site-packages/torch/_tensor.py:1225\u001b[39m, in \u001b[36mTensor.__array__\u001b[39m\u001b[34m(self, dtype)\u001b[39m\n\u001b[32m   1223\u001b[39m     \u001b[38;5;28;01mreturn\u001b[39;00m handle_torch_function(Tensor.__array__, (\u001b[38;5;28mself\u001b[39m,), \u001b[38;5;28mself\u001b[39m, dtype=dtype)\n\u001b[32m   1224\u001b[39m \u001b[38;5;28;01mif\u001b[39;00m dtype \u001b[38;5;129;01mis\u001b[39;00m \u001b[38;5;28;01mNone\u001b[39;00m:\n\u001b[32m-> \u001b[39m\u001b[32m1225\u001b[39m     \u001b[38;5;28;01mreturn\u001b[39;00m \u001b[38;5;28;43mself\u001b[39;49m\u001b[43m.\u001b[49m\u001b[43mnumpy\u001b[49m\u001b[43m(\u001b[49m\u001b[43m)\u001b[49m\n\u001b[32m   1226\u001b[39m \u001b[38;5;28;01melse\u001b[39;00m:\n\u001b[32m   1227\u001b[39m     \u001b[38;5;28;01mreturn\u001b[39;00m \u001b[38;5;28mself\u001b[39m.numpy().astype(dtype, copy=\u001b[38;5;28;01mFalse\u001b[39;00m)\n",
      "\u001b[31mRuntimeError\u001b[39m: Can't call numpy() on Tensor that requires grad. Use tensor.detach().numpy() instead."
     ]
    }
   ],
   "source": [
    "import torch\n",
    "\n",
    "functional_map_model = FMNet(\n",
    "    feature_extractor=FeatureExtractor.from_registry(which=\"diffusionnet\")\n",
    ")\n",
    "\n",
    "with torch.no_grad():\n",
    "    output = functional_map_model(mesh_a, mesh_b, as_dict=True)\n",
    "fmap12, fmap21 = output[\"fmap12\"], output[\"fmap21\"]\n",
    "\n",
    "fmap12.shape"
   ]
  },
  {
   "cell_type": "markdown",
   "id": "8f233bef",
   "metadata": {},
   "source": [
    "We can select specific modules for our network"
   ]
  },
  {
   "cell_type": "code",
   "execution_count": 5,
   "id": "642b6253",
   "metadata": {},
   "outputs": [
    {
     "ename": "RuntimeError",
     "evalue": "Can't call numpy() on Tensor that requires grad. Use tensor.detach().numpy() instead.",
     "output_type": "error",
     "traceback": [
      "\u001b[31m---------------------------------------------------------------------------\u001b[39m",
      "\u001b[31mRuntimeError\u001b[39m                              Traceback (most recent call last)",
      "\u001b[36mCell\u001b[39m\u001b[36m \u001b[39m\u001b[32mIn[5]\u001b[39m\u001b[32m, line 9\u001b[39m\n\u001b[32m      3\u001b[39m feature_extractor = FeatureExtractor.from_registry(which=\u001b[33m\"\u001b[39m\u001b[33mdiffusionnet\u001b[39m\u001b[33m\"\u001b[39m)\n\u001b[32m      5\u001b[39m fumctional_map_model = FMNet(\n\u001b[32m      6\u001b[39m     feature_extractor=feature_extractor, fmap_module=fmap_module\n\u001b[32m      7\u001b[39m )\n\u001b[32m----> \u001b[39m\u001b[32m9\u001b[39m fmap12, fmap21 = \u001b[43mfumctional_map_model\u001b[49m\u001b[43m(\u001b[49m\u001b[43mmesh_a\u001b[49m\u001b[43m,\u001b[49m\u001b[43m \u001b[49m\u001b[43mmesh_b\u001b[49m\u001b[43m,\u001b[49m\u001b[43m \u001b[49m\u001b[43mas_dict\u001b[49m\u001b[43m=\u001b[49m\u001b[38;5;28;43;01mFalse\u001b[39;49;00m\u001b[43m)\u001b[49m\n\u001b[32m     11\u001b[39m fmap12.shape\n",
      "\u001b[36mFile \u001b[39m\u001b[32m~/giulio_vigano/geomfum_proj/venv/lib/python3.12/site-packages/torch/nn/modules/module.py:1751\u001b[39m, in \u001b[36mModule._wrapped_call_impl\u001b[39m\u001b[34m(self, *args, **kwargs)\u001b[39m\n\u001b[32m   1749\u001b[39m     \u001b[38;5;28;01mreturn\u001b[39;00m \u001b[38;5;28mself\u001b[39m._compiled_call_impl(*args, **kwargs)  \u001b[38;5;66;03m# type: ignore[misc]\u001b[39;00m\n\u001b[32m   1750\u001b[39m \u001b[38;5;28;01melse\u001b[39;00m:\n\u001b[32m-> \u001b[39m\u001b[32m1751\u001b[39m     \u001b[38;5;28;01mreturn\u001b[39;00m \u001b[38;5;28;43mself\u001b[39;49m\u001b[43m.\u001b[49m\u001b[43m_call_impl\u001b[49m\u001b[43m(\u001b[49m\u001b[43m*\u001b[49m\u001b[43margs\u001b[49m\u001b[43m,\u001b[49m\u001b[43m \u001b[49m\u001b[43m*\u001b[49m\u001b[43m*\u001b[49m\u001b[43mkwargs\u001b[49m\u001b[43m)\u001b[49m\n",
      "\u001b[36mFile \u001b[39m\u001b[32m~/giulio_vigano/geomfum_proj/venv/lib/python3.12/site-packages/torch/nn/modules/module.py:1762\u001b[39m, in \u001b[36mModule._call_impl\u001b[39m\u001b[34m(self, *args, **kwargs)\u001b[39m\n\u001b[32m   1757\u001b[39m \u001b[38;5;66;03m# If we don't have any hooks, we want to skip the rest of the logic in\u001b[39;00m\n\u001b[32m   1758\u001b[39m \u001b[38;5;66;03m# this function, and just call forward.\u001b[39;00m\n\u001b[32m   1759\u001b[39m \u001b[38;5;28;01mif\u001b[39;00m \u001b[38;5;129;01mnot\u001b[39;00m (\u001b[38;5;28mself\u001b[39m._backward_hooks \u001b[38;5;129;01mor\u001b[39;00m \u001b[38;5;28mself\u001b[39m._backward_pre_hooks \u001b[38;5;129;01mor\u001b[39;00m \u001b[38;5;28mself\u001b[39m._forward_hooks \u001b[38;5;129;01mor\u001b[39;00m \u001b[38;5;28mself\u001b[39m._forward_pre_hooks\n\u001b[32m   1760\u001b[39m         \u001b[38;5;129;01mor\u001b[39;00m _global_backward_pre_hooks \u001b[38;5;129;01mor\u001b[39;00m _global_backward_hooks\n\u001b[32m   1761\u001b[39m         \u001b[38;5;129;01mor\u001b[39;00m _global_forward_hooks \u001b[38;5;129;01mor\u001b[39;00m _global_forward_pre_hooks):\n\u001b[32m-> \u001b[39m\u001b[32m1762\u001b[39m     \u001b[38;5;28;01mreturn\u001b[39;00m \u001b[43mforward_call\u001b[49m\u001b[43m(\u001b[49m\u001b[43m*\u001b[49m\u001b[43margs\u001b[49m\u001b[43m,\u001b[49m\u001b[43m \u001b[49m\u001b[43m*\u001b[49m\u001b[43m*\u001b[49m\u001b[43mkwargs\u001b[49m\u001b[43m)\u001b[49m\n\u001b[32m   1764\u001b[39m result = \u001b[38;5;28;01mNone\u001b[39;00m\n\u001b[32m   1765\u001b[39m called_always_called_hooks = \u001b[38;5;28mset\u001b[39m()\n",
      "\u001b[36mFile \u001b[39m\u001b[32m~/giulio_vigano/geomfum_proj/geomfum/geomfum/learning/models.py:70\u001b[39m, in \u001b[36mFMNet.forward\u001b[39m\u001b[34m(self, mesh_a, mesh_b, as_dict)\u001b[39m\n\u001b[32m     67\u001b[39m desc_a = \u001b[38;5;28mself\u001b[39m.descriptors_module(mesh_a)\n\u001b[32m     68\u001b[39m desc_b = \u001b[38;5;28mself\u001b[39m.descriptors_module(mesh_b)\n\u001b[32m---> \u001b[39m\u001b[32m70\u001b[39m fmap12, fmap21 = \u001b[38;5;28;43mself\u001b[39;49m\u001b[43m.\u001b[49m\u001b[43mfmap_module\u001b[49m\u001b[43m(\u001b[49m\u001b[43mmesh_a\u001b[49m\u001b[43m,\u001b[49m\u001b[43m \u001b[49m\u001b[43mmesh_b\u001b[49m\u001b[43m,\u001b[49m\u001b[43m \u001b[49m\u001b[43mdesc_a\u001b[49m\u001b[43m,\u001b[49m\u001b[43m \u001b[49m\u001b[43mdesc_b\u001b[49m\u001b[43m)\u001b[49m\n\u001b[32m     71\u001b[39m \u001b[38;5;28;01mif\u001b[39;00m as_dict:\n\u001b[32m     72\u001b[39m     \u001b[38;5;28;01mif\u001b[39;00m \u001b[38;5;129;01mnot\u001b[39;00m \u001b[38;5;28mself\u001b[39m.training:\n",
      "\u001b[36mFile \u001b[39m\u001b[32m~/giulio_vigano/geomfum_proj/geomfum/geomfum/forward_functional_map.py:88\u001b[39m, in \u001b[36mForwardFunctionalMap.__call__\u001b[39m\u001b[34m(self, mesh_a, mesh_b, descr_a, descr_b)\u001b[39m\n\u001b[32m     67\u001b[39m \u001b[38;5;250m\u001b[39m\u001b[33;03m\"\"\"Compute the functional map between two shapes.\u001b[39;00m\n\u001b[32m     68\u001b[39m \n\u001b[32m     69\u001b[39m \u001b[33;03mParameters\u001b[39;00m\n\u001b[32m   (...)\u001b[39m\u001b[32m     85\u001b[39m \u001b[33;03m    Functional map from shape b to shape a if bijective, otherwise None.\u001b[39;00m\n\u001b[32m     86\u001b[39m \u001b[33;03m\"\"\"\u001b[39;00m\n\u001b[32m     87\u001b[39m evals_a = mesh_a.basis.vals\n\u001b[32m---> \u001b[39m\u001b[32m88\u001b[39m sdescr_a = \u001b[43mmesh_a\u001b[49m\u001b[43m.\u001b[49m\u001b[43mbasis\u001b[49m\u001b[43m.\u001b[49m\u001b[43mproject\u001b[49m\u001b[43m(\u001b[49m\u001b[43mdescr_a\u001b[49m\u001b[43m)\u001b[49m\n\u001b[32m     89\u001b[39m evals_b = mesh_b.basis.vals\n\u001b[32m     90\u001b[39m sdescr_b = mesh_b.basis.project(descr_b)\n",
      "\u001b[36mFile \u001b[39m\u001b[32m~/giulio_vigano/geomfum_proj/geomfum/geomfum/basis.py:214\u001b[39m, in \u001b[36mLaplaceEigenBasis.project\u001b[39m\u001b[34m(self, array)\u001b[39m\n\u001b[32m    199\u001b[39m \u001b[38;5;28;01mdef\u001b[39;00m\u001b[38;5;250m \u001b[39m\u001b[34mproject\u001b[39m(\u001b[38;5;28mself\u001b[39m, array):\n\u001b[32m    200\u001b[39m \u001b[38;5;250m    \u001b[39m\u001b[33;03m\"\"\"Project on the eigenbasis.\u001b[39;00m\n\u001b[32m    201\u001b[39m \n\u001b[32m    202\u001b[39m \u001b[33;03m    Parameters\u001b[39;00m\n\u001b[32m   (...)\u001b[39m\u001b[32m    210\u001b[39m \u001b[33;03m        Projected array.\u001b[39;00m\n\u001b[32m    211\u001b[39m \u001b[33;03m    \"\"\"\u001b[39;00m\n\u001b[32m    212\u001b[39m     \u001b[38;5;28;01mreturn\u001b[39;00m la.matvecmul(\n\u001b[32m    213\u001b[39m         \u001b[38;5;28mself\u001b[39m.vecs.T,\n\u001b[32m--> \u001b[39m\u001b[32m214\u001b[39m         \u001b[43mla\u001b[49m\u001b[43m.\u001b[49m\u001b[43mmatvecmul\u001b[49m\u001b[43m(\u001b[49m\u001b[38;5;28;43mself\u001b[39;49m\u001b[43m.\u001b[49m\u001b[43m_shape\u001b[49m\u001b[43m.\u001b[49m\u001b[43mlaplacian\u001b[49m\u001b[43m.\u001b[49m\u001b[43mmass_matrix\u001b[49m\u001b[43m,\u001b[49m\u001b[43m \u001b[49m\u001b[43marray\u001b[49m\u001b[43m)\u001b[49m,\n\u001b[32m    215\u001b[39m     )\n",
      "\u001b[36mFile \u001b[39m\u001b[32m~/giulio_vigano/geomfum_proj/geomfum/geomfum/linalg.py:155\u001b[39m, in \u001b[36mmatvecmul\u001b[39m\u001b[34m(mat, vec)\u001b[39m\n\u001b[32m    152\u001b[39m     batch_shape = vec.shape[:-\u001b[32m1\u001b[39m]\n\u001b[32m    153\u001b[39m     vec = vec.reshape(-\u001b[32m1\u001b[39m, vec.shape[-\u001b[32m1\u001b[39m])\n\u001b[32m--> \u001b[39m\u001b[32m155\u001b[39m out = (\u001b[43mmat\u001b[49m\u001b[43m \u001b[49m\u001b[43m@\u001b[49m\u001b[43m \u001b[49m\u001b[43mvec\u001b[49m\u001b[43m.\u001b[49m\u001b[43mT\u001b[49m).T\n\u001b[32m    156\u001b[39m \u001b[38;5;28;01mif\u001b[39;00m reshape_out:\n\u001b[32m    157\u001b[39m     \u001b[38;5;28;01mreturn\u001b[39;00m out.reshape(batch_shape + mat.shape[:\u001b[32m1\u001b[39m])\n",
      "\u001b[36mFile \u001b[39m\u001b[32m~/giulio_vigano/geomfum_proj/venv/lib/python3.12/site-packages/scipy/sparse/_base.py:732\u001b[39m, in \u001b[36m_spbase.__matmul__\u001b[39m\u001b[34m(self, other)\u001b[39m\n\u001b[32m    729\u001b[39m \u001b[38;5;28;01mif\u001b[39;00m isscalarlike(other):\n\u001b[32m    730\u001b[39m     \u001b[38;5;28;01mraise\u001b[39;00m \u001b[38;5;167;01mValueError\u001b[39;00m(\u001b[33m\"\u001b[39m\u001b[33mScalar operands are not allowed, \u001b[39m\u001b[33m\"\u001b[39m\n\u001b[32m    731\u001b[39m                      \u001b[33m\"\u001b[39m\u001b[33muse \u001b[39m\u001b[33m'\u001b[39m\u001b[33m*\u001b[39m\u001b[33m'\u001b[39m\u001b[33m instead\u001b[39m\u001b[33m\"\u001b[39m)\n\u001b[32m--> \u001b[39m\u001b[32m732\u001b[39m \u001b[38;5;28;01mreturn\u001b[39;00m \u001b[38;5;28;43mself\u001b[39;49m\u001b[43m.\u001b[49m\u001b[43m_matmul_dispatch\u001b[49m\u001b[43m(\u001b[49m\u001b[43mother\u001b[49m\u001b[43m)\u001b[49m\n",
      "\u001b[36mFile \u001b[39m\u001b[32m~/giulio_vigano/geomfum_proj/venv/lib/python3.12/site-packages/scipy/sparse/_base.py:639\u001b[39m, in \u001b[36m_spbase._matmul_dispatch\u001b[39m\u001b[34m(self, other)\u001b[39m\n\u001b[32m    636\u001b[39m     \u001b[38;5;28;01mreturn\u001b[39;00m \u001b[38;5;28mself\u001b[39m._matmul_sparse(other)\n\u001b[32m    638\u001b[39m \u001b[38;5;66;03m# If it's a list or whatever, treat it like an array\u001b[39;00m\n\u001b[32m--> \u001b[39m\u001b[32m639\u001b[39m other_a = \u001b[43mnp\u001b[49m\u001b[43m.\u001b[49m\u001b[43masanyarray\u001b[49m\u001b[43m(\u001b[49m\u001b[43mother\u001b[49m\u001b[43m)\u001b[49m\n\u001b[32m    641\u001b[39m \u001b[38;5;28;01mif\u001b[39;00m other_a.ndim == \u001b[32m0\u001b[39m \u001b[38;5;129;01mand\u001b[39;00m other_a.dtype == np.object_:\n\u001b[32m    642\u001b[39m     \u001b[38;5;66;03m# Not interpretable as an array; return NotImplemented so that\u001b[39;00m\n\u001b[32m    643\u001b[39m     \u001b[38;5;66;03m# other's __rmatmul__ can kick in if that's implemented.\u001b[39;00m\n\u001b[32m    644\u001b[39m     \u001b[38;5;28;01mreturn\u001b[39;00m \u001b[38;5;28mNotImplemented\u001b[39m\n",
      "\u001b[36mFile \u001b[39m\u001b[32m~/giulio_vigano/geomfum_proj/venv/lib/python3.12/site-packages/torch/_tensor.py:1225\u001b[39m, in \u001b[36mTensor.__array__\u001b[39m\u001b[34m(self, dtype)\u001b[39m\n\u001b[32m   1223\u001b[39m     \u001b[38;5;28;01mreturn\u001b[39;00m handle_torch_function(Tensor.__array__, (\u001b[38;5;28mself\u001b[39m,), \u001b[38;5;28mself\u001b[39m, dtype=dtype)\n\u001b[32m   1224\u001b[39m \u001b[38;5;28;01mif\u001b[39;00m dtype \u001b[38;5;129;01mis\u001b[39;00m \u001b[38;5;28;01mNone\u001b[39;00m:\n\u001b[32m-> \u001b[39m\u001b[32m1225\u001b[39m     \u001b[38;5;28;01mreturn\u001b[39;00m \u001b[38;5;28;43mself\u001b[39;49m\u001b[43m.\u001b[49m\u001b[43mnumpy\u001b[49m\u001b[43m(\u001b[49m\u001b[43m)\u001b[49m\n\u001b[32m   1226\u001b[39m \u001b[38;5;28;01melse\u001b[39;00m:\n\u001b[32m   1227\u001b[39m     \u001b[38;5;28;01mreturn\u001b[39;00m \u001b[38;5;28mself\u001b[39m.numpy().astype(dtype, copy=\u001b[38;5;28;01mFalse\u001b[39;00m)\n",
      "\u001b[31mRuntimeError\u001b[39m: Can't call numpy() on Tensor that requires grad. Use tensor.detach().numpy() instead."
     ]
    }
   ],
   "source": [
    "fmap_module = ForwardFunctionalMap(1000, 1, False)\n",
    "\n",
    "feature_extractor = FeatureExtractor.from_registry(which=\"diffusionnet\")\n",
    "\n",
    "fumctional_map_model = FMNet(\n",
    "    feature_extractor=feature_extractor, fmap_module=fmap_module\n",
    ")\n",
    "\n",
    "fmap12, fmap21 = fumctional_map_model(mesh_a, mesh_b, as_dict=False)\n",
    "\n",
    "fmap12.shape"
   ]
  }
 ],
 "metadata": {
  "kernelspec": {
   "display_name": "venv",
   "language": "python",
   "name": "python3"
  },
  "language_info": {
   "codemirror_mode": {
    "name": "ipython",
    "version": 3
   },
   "file_extension": ".py",
   "mimetype": "text/x-python",
   "name": "python",
   "nbconvert_exporter": "python",
   "pygments_lexer": "ipython3",
   "version": "3.12.3"
  }
 },
 "nbformat": 4,
 "nbformat_minor": 5
}
