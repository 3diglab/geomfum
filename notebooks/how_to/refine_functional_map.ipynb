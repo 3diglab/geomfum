{
 "cells": [
  {
   "cell_type": "markdown",
   "metadata": {},
   "source": [
    "# How to refine a functional map?"
   ]
  },
  {
   "cell_type": "code",
   "execution_count": 1,
   "metadata": {},
   "outputs": [],
   "source": [
    "import os\n",
    "\n",
    "import numpy as np\n",
    "\n",
    "from geomfum.refine import IcpRefiner, ZoomOut\n",
    "from geomfum.shape import TriangleMesh\n",
    "\n",
    "DATA_DIR = os.environ[\"GEOMFUM_DATA_DIR\"]"
   ]
  },
  {
   "cell_type": "markdown",
   "metadata": {},
   "source": [
    "[Load meshes](load_mesh_from_file.ipynb)."
   ]
  },
  {
   "cell_type": "code",
   "execution_count": 2,
   "metadata": {},
   "outputs": [
    {
     "data": {
      "text/plain": [
       "(7207, 5000)"
      ]
     },
     "execution_count": 2,
     "metadata": {},
     "output_type": "execute_result"
    }
   ],
   "source": [
    "filename_a = \"cat-00.off\"\n",
    "filename_b = \"lion-00.off\"\n",
    "\n",
    "mesh_a = TriangleMesh.from_file(f\"{DATA_DIR}/{filename_a}\")\n",
    "mesh_b = TriangleMesh.from_file(f\"{DATA_DIR}/{filename_b}\")\n",
    "\n",
    "mesh_a.n_vertices, mesh_b.n_vertices"
   ]
  },
  {
   "cell_type": "markdown",
   "metadata": {},
   "source": [
    "[Set Laplace eigenbasis](./mesh_laplacian_spectrum.ipynb) for each mesh."
   ]
  },
  {
   "cell_type": "code",
   "execution_count": 3,
   "metadata": {},
   "outputs": [],
   "source": [
    "mesh_a.laplacian.find_spectrum(spectrum_size=10, set_as_basis=True)\n",
    "mesh_b.laplacian.find_spectrum(spectrum_size=10, set_as_basis=True)\n",
    "\n",
    "mesh_a.basis.use_k = 6\n",
    "mesh_b.basis.use_k = 5"
   ]
  },
  {
   "cell_type": "markdown",
   "metadata": {},
   "source": [
    "Assume we have a [valid functional map](./functional_map.ipynb) $C$ between `mesh_a` and `mesh_b` (which for demonstration purposes, we instantiate randomly)."
   ]
  },
  {
   "cell_type": "code",
   "execution_count": 4,
   "metadata": {},
   "outputs": [
    {
     "data": {
      "text/plain": [
       "(5, 6)"
      ]
     },
     "execution_count": 4,
     "metadata": {},
     "output_type": "execute_result"
    }
   ],
   "source": [
    "fmap_matrix = np.random.uniform(\n",
    "    size=(mesh_b.basis.spectrum_size, mesh_a.basis.spectrum_size)\n",
    ")\n",
    "\n",
    "fmap_matrix.shape"
   ]
  },
  {
   "cell_type": "markdown",
   "metadata": {},
   "source": [
    "Refine functional map using ICP algorithm (see [OCSBG2012](https://dl.acm.org/doi/10.1145/2185520.2185526))."
   ]
  },
  {
   "cell_type": "code",
   "execution_count": 5,
   "metadata": {},
   "outputs": [
    {
     "data": {
      "text/plain": [
       "(5, 6)"
      ]
     },
     "execution_count": 5,
     "metadata": {},
     "output_type": "execute_result"
    }
   ],
   "source": [
    "icp = IcpRefiner(nit=10, atol=1e-4)\n",
    "\n",
    "icp_fmap_matrix = icp(fmap_matrix, mesh_a.basis, mesh_b.basis)\n",
    "\n",
    "icp_fmap_matrix.shape"
   ]
  },
  {
   "cell_type": "markdown",
   "metadata": {},
   "source": [
    "Refine functional map using ZoomOut (see [MRRSWO2019](https://arxiv.org/abs/1904.07865))."
   ]
  },
  {
   "cell_type": "code",
   "execution_count": 6,
   "metadata": {},
   "outputs": [
    {
     "data": {
      "text/plain": [
       "(7, 10)"
      ]
     },
     "execution_count": 6,
     "metadata": {},
     "output_type": "execute_result"
    }
   ],
   "source": [
    "zoomout = ZoomOut(nit=2, step=(2, 1))\n",
    "\n",
    "zoomout_fmap_matrix_ = zoomout(fmap_matrix, mesh_a.basis, mesh_b.basis)\n",
    "\n",
    "zoomout_fmap_matrix_.shape"
   ]
  },
  {
   "cell_type": "markdown",
   "metadata": {},
   "source": [
    "[Pointwise](./pointwise_from_functional.ipynb) and [functional](./functional_from_pointwise.ipynb) converters can be easily controlled through `p2p_from_fm_converter` and `fm_from_p2p_converter` (sensible defaults are used.)"
   ]
  },
  {
   "cell_type": "markdown",
   "metadata": {},
   "source": [
    "## Further reading\n",
    "\n",
    "* [How to compute a functional map?](./functional_map.ipynb)\n",
    "\n",
    "* [How to compute a pointwise map from a functional map?](./pointwise_from_functional.ipynb)\n",
    "\n",
    "* [How to compute a functional map from a pointwise map?](./functional_from_pointwise.ipynb)"
   ]
  }
 ],
 "metadata": {
  "kernelspec": {
   "display_name": "py12",
   "language": "python",
   "name": "python3"
  },
  "language_info": {
   "codemirror_mode": {
    "name": "ipython",
    "version": 3
   },
   "file_extension": ".py",
   "mimetype": "text/x-python",
   "name": "python",
   "nbconvert_exporter": "python",
   "pygments_lexer": "ipython3",
   "version": "3.12.3"
  }
 },
 "nbformat": 4,
 "nbformat_minor": 2
}
