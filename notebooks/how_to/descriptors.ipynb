{
    "cells": [
        {
            "cell_type": "markdown",
            "metadata": {},
            "source": [
                "# How to compute descriptors?"
            ]
        },
        {
            "cell_type": "code",
            "execution_count": 1,
            "metadata": {},
            "outputs": [],
            "source": [
                "import os\n",
                "\n",
                "import numpy as np\n",
                "\n",
                "from geomfum.descriptor.spectral import HeatKernelSignature, WaveKernelSignature\n",
                "from geomfum.shape import TriangleMesh\n",
                "\n",
                "DATA_DIR = os.environ[\"GEOMFUM_DATA_DIR\"]"
            ]
        },
        {
            "cell_type": "markdown",
            "metadata": {},
            "source": [
                "[Load a mesh](load_mesh_from_file.ipynb)."
            ]
        },
        {
            "cell_type": "code",
            "execution_count": 2,
            "metadata": {},
            "outputs": [],
            "source": [
                "filename = \"cat-00.off\"\n",
                "mesh = TriangleMesh.from_file(f\"{DATA_DIR}/{filename}\")"
            ]
        },
        {
            "cell_type": "markdown",
            "metadata": {},
            "source": [
                "[Set Laplace eigenbasis](./mesh_laplacian_spectrum.ipynb)."
            ]
        },
        {
            "cell_type": "code",
            "execution_count": 3,
            "metadata": {},
            "outputs": [
                {
                    "data": {
                        "text/plain": [
                            "<geomfum.basis.LaplaceEigenBasis at 0x75083986d430>"
                        ]
                    },
                    "execution_count": 3,
                    "metadata": {},
                    "output_type": "execute_result"
                }
            ],
            "source": [
                "mesh.laplacian.find_spectrum(spectrum_size=10, set_as_basis=True)\n",
                "\n",
                "mesh.basis"
            ]
        },
        {
            "cell_type": "markdown",
            "metadata": {},
            "source": [
                "## Heat kernel signature"
            ]
        },
        {
            "cell_type": "code",
            "execution_count": 4,
            "metadata": {},
            "outputs": [
                {
                    "data": {
                        "text/plain": [
                            "(3, 7207)"
                        ]
                    },
                    "execution_count": 4,
                    "metadata": {},
                    "output_type": "execute_result"
                }
            ],
            "source": [
                "heat_signature = HeatKernelSignature.from_registry(\n",
                "    scaled=True, n_domain=3, use_landmarks=False\n",
                ")\n",
                "\n",
                "hsign = heat_signature(mesh.basis)\n",
                "\n",
                "hsign.shape"
            ]
        },
        {
            "cell_type": "markdown",
            "metadata": {},
            "source": [
                "Choose a particular domain point where to compute the signature."
            ]
        },
        {
            "cell_type": "code",
            "execution_count": 5,
            "metadata": {},
            "outputs": [
                {
                    "data": {
                        "text/plain": [
                            "(2, 7207)"
                        ]
                    },
                    "execution_count": 5,
                    "metadata": {},
                    "output_type": "execute_result"
                }
            ],
            "source": [
                "hsign = heat_signature(mesh.basis, domain=np.array([0.2, 0.3]))\n",
                "\n",
                "hsign.shape"
            ]
        },
        {
            "cell_type": "markdown",
            "metadata": {},
            "source": [
                "Use [landmarks](./landmarks.ipynb)."
            ]
        },
        {
            "cell_type": "code",
            "execution_count": 6,
            "metadata": {},
            "outputs": [
                {
                    "data": {
                        "text/plain": [
                            "(12, 7207)"
                        ]
                    },
                    "execution_count": 6,
                    "metadata": {},
                    "output_type": "execute_result"
                }
            ],
            "source": [
                "mesh.set_landmarks(np.array([3177, 7178, 6565, 5472]))\n",
                "\n",
                "heat_signature.use_landmarks = True\n",
                "\n",
                "hsign = heat_signature(mesh.basis)\n",
                "\n",
                "hsign.shape"
            ]
        },
        {
            "cell_type": "markdown",
            "metadata": {},
            "source": [
                "Tip: other descriptors work in the same manner."
            ]
        },
        {
            "cell_type": "markdown",
            "metadata": {},
            "source": [
                "## Wave kernel signature"
            ]
        },
        {
            "cell_type": "code",
            "execution_count": 7,
            "metadata": {},
            "outputs": [
                {
                    "data": {
                        "text/plain": [
                            "(5, 7207)"
                        ]
                    },
                    "execution_count": 7,
                    "metadata": {},
                    "output_type": "execute_result"
                }
            ],
            "source": [
                "wave_signature = WaveKernelSignature.from_registry(n_domain=5)\n",
                "\n",
                "wsign = wave_signature(mesh.basis)\n",
                "\n",
                "wsign.shape"
            ]
        },
        {
            "cell_type": "markdown",
            "metadata": {},
            "source": [
                "## Further reading\n",
                "\n",
                "* [How to create a descriptor pipeline?](./descriptor_pipeline.ipynb)\n",
                "\n",
                "* [How to set landmarks?](./landmarks.ipynb)"
            ]
        }
    ],
    "metadata": {
        "kernelspec": {
            "display_name": "py12",
            "language": "python",
            "name": "python3"
        },
        "language_info": {
            "codemirror_mode": {
                "name": "ipython",
                "version": 3
            },
            "file_extension": ".py",
            "mimetype": "text/x-python",
            "name": "python",
            "nbconvert_exporter": "python",
            "pygments_lexer": "ipython3",
            "version": "3.12.3"
        }
    },
    "nbformat": 4,
    "nbformat_minor": 2
}
