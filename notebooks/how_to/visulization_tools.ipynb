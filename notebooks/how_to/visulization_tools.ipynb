{
 "cells": [
  {
   "cell_type": "code",
   "execution_count": null,
   "metadata": {},
   "outputs": [],
   "source": [
    "from geomfum.dataset import NotebooksDataset\n",
    "from geomfum.shape import TriangleMesh\n",
    "from geomfum.plot import *"
   ]
  },
  {
   "cell_type": "markdown",
   "metadata": {},
   "source": [
    "# How to plot a Mesh\n",
    "\n"
   ]
  },
  {
   "cell_type": "code",
   "execution_count": null,
   "metadata": {},
   "outputs": [],
   "source": [
    "#load data\n",
    "dataset = NotebooksDataset()\n",
    "mesh = TriangleMesh.from_file(dataset.get_filename(\"cat-00\"))\n",
    "\n",
    "mesh.n_vertices, mesh.n_faces"
   ]
  },
  {
   "cell_type": "code",
   "execution_count": null,
   "metadata": {},
   "outputs": [],
   "source": [
    "#we can chose any tool like plotly, pyvista or polyscope\n",
    "plotter = MeshPlotter.from_registry(which='plotly')\n",
    "plotter.plot(mesh)\n",
    "plotter.show()"
   ]
  },
  {
   "cell_type": "markdown",
   "metadata": {},
   "source": [
    "# How to visualize a function"
   ]
  },
  {
   "cell_type": "markdown",
   "metadata": {},
   "source": [
    "we can visualize scalar function on the surface of the mesh, e.g. we can visualize the LBO basis"
   ]
  },
  {
   "cell_type": "code",
   "execution_count": null,
   "metadata": {},
   "outputs": [],
   "source": [
    "#compute basis functions as example of functions\n",
    "from geomfum.laplacian import LaplacianSpectrumFinder, LaplacianFinder, ScipyEigsh\n",
    "\n",
    "spectrum_finder = LaplacianSpectrumFinder(\n",
    "    nonzero=False,\n",
    "    fix_sign=False,\n",
    "    laplacian_finder=LaplacianFinder.from_registry(which=\"robust\"),\n",
    "    eig_solver=ScipyEigsh(spectrum_size=5, sigma=-0.01),\n",
    ")\n",
    "\n",
    "eigvals, eigvecs = spectrum_finder(mesh, as_basis=False)\n",
    "\n",
    "(eigvals.shape, eigvecs.shape)"
   ]
  },
  {
   "cell_type": "code",
   "execution_count": null,
   "metadata": {},
   "outputs": [],
   "source": [
    "plotter = MeshPlotter.from_registry(colormap='reds',which='plotly')\n",
    "plotter.plot_function(mesh, eigvecs[:, 1])\n",
    "plotter.show()\n"
   ]
  },
  {
   "cell_type": "code",
   "execution_count": null,
   "metadata": {},
   "outputs": [],
   "source": []
  }
 ],
 "metadata": {
  "kernelspec": {
   "display_name": "VENV",
   "language": "python",
   "name": "python3"
  },
  "language_info": {
   "codemirror_mode": {
    "name": "ipython",
    "version": 3
   },
   "file_extension": ".py",
   "mimetype": "text/x-python",
   "name": "python",
   "nbconvert_exporter": "python",
   "pygments_lexer": "ipython3",
   "version": "3.11.8"
  }
 },
 "nbformat": 4,
 "nbformat_minor": 2
}
