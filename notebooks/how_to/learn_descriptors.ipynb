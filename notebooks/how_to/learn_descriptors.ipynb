{
 "cells": [
  {
   "cell_type": "code",
   "execution_count": 1,
   "metadata": {},
   "outputs": [],
   "source": [
    "import numpy as np\n",
    "\n",
    "from geomfum.dataset import NotebooksDataset\n",
    "from geomfum.dfm.forward_functional_map import ForwardFunctionalMap\n",
    "from geomfum.shape import TriangleMesh\n",
    "from geomfum.descriptor.learned import LearnedDescriptor\n",
    "\n",
    "from geomfum.dfm.losses import LossManager\n",
    "\n",
    "import torch"
   ]
  },
  {
   "cell_type": "code",
   "execution_count": 2,
   "metadata": {},
   "outputs": [],
   "source": [
    "#load\n",
    "dataset = NotebooksDataset()\n",
    "\n",
    "mesh_a = TriangleMesh.from_file(dataset.get_filename(\"cat-00\"))\n",
    "mesh_b = TriangleMesh.from_file(dataset.get_filename(\"lion-00\"))\n"
   ]
  },
  {
   "cell_type": "code",
   "execution_count": 3,
   "metadata": {},
   "outputs": [],
   "source": [
    "mesh_a.laplacian.find_spectrum(spectrum_size=40, set_as_basis=True)\n",
    "mesh_b.laplacian.find_spectrum(spectrum_size=40, set_as_basis=True)\n",
    "\n",
    "mesh_a.basis.use_k = 30\n",
    "mesh_b.basis.use_k = 30\n"
   ]
  },
  {
   "cell_type": "code",
   "execution_count": 4,
   "metadata": {},
   "outputs": [],
   "source": [
    "#convert shapes to tensors and preproces\n",
    "DEVICE=\"cuda\"\n",
    "mesh_a.to_torch(DEVICE)\n",
    "mesh_b.to_torch(DEVICE)\n",
    "\n",
    "mesh_a.basis.to_torch(DEVICE)\n",
    "mesh_b.basis.to_torch(DEVICE)"
   ]
  },
  {
   "cell_type": "code",
   "execution_count": 5,
   "metadata": {},
   "outputs": [],
   "source": [
    "descr = LearnedDescriptor.from_registry(which='diffusion_net',device=DEVICE)\n",
    "forward_map = ForwardFunctionalMap(0.0001,1)\n"
   ]
  },
  {
   "cell_type": "code",
   "execution_count": null,
   "metadata": {},
   "outputs": [
    {
     "name": "stdout",
     "output_type": "stream",
     "text": [
      "0\n",
      "1\n",
      "2\n",
      "3\n",
      "4\n",
      "5\n",
      "6\n",
      "7\n",
      "8\n",
      "9\n",
      "Epoch [10/100], Loss: 2023.8610, Breakdown: {'Orthonormality': 2023.8609619140625}\n",
      "10\n",
      "11\n",
      "12\n",
      "13\n",
      "14\n",
      "Decomposition failed; adding eps\n"
     ]
    }
   ],
   "source": [
    "# Define the loss manager\n",
    "loss_config = {\n",
    "    \"Orthonormality\": 1.0,\n",
    "    #\"Laplacian_Commutativity\": 0.001\n",
    "}\n",
    "loss_manager = LossManager(loss_config)\n",
    "optimizer = torch.optim.Adam(descr.model.parameters(), lr=0.001)\n",
    "evals_x = mesh_a.basis.vals[None]\n",
    "evals_y = mesh_b.basis.vals[None]\n",
    "\n",
    "# Training Loop\n",
    "for epoch in range(100):\n",
    "    print(epoch)\n",
    "    optimizer.zero_grad()\n",
    "    \n",
    "    # Forward pass\n",
    "    feat_a = descr(mesh_a)\n",
    "    feat_b = descr(mesh_b)\n",
    "\n",
    "    # Compute functional maps\n",
    "    Cxy = forward_map(mesh_a, mesh_b, feat_a, feat_b)\n",
    "    \n",
    "    # Compute loss (LossManager automatically selects the right inputs)\n",
    "    loss, loss_details = loss_manager.compute_loss(Cxy=Cxy, evals_x=evals_x, evals_y=evals_y)\n",
    "    \n",
    "    # Backward pass and optimization\n",
    "    loss.backward()\n",
    "    optimizer.step()\n",
    "    \n",
    "    if (epoch + 1) % 10 == 0:\n",
    "        print(f'Epoch [{epoch + 1}/{100}], Loss: {loss.item():.4f}, Breakdown: {loss_details}')"
   ]
  },
  {
   "cell_type": "code",
   "execution_count": null,
   "metadata": {},
   "outputs": [],
   "source": [
    "mesh_a.basis.vecs"
   ]
  }
 ],
 "metadata": {
  "kernelspec": {
   "display_name": "venv",
   "language": "python",
   "name": "python3"
  },
  "language_info": {
   "codemirror_mode": {
    "name": "ipython",
    "version": 3
   },
   "file_extension": ".py",
   "mimetype": "text/x-python",
   "name": "python",
   "nbconvert_exporter": "python",
   "pygments_lexer": "ipython3",
   "version": "3.11.8"
  }
 },
 "nbformat": 4,
 "nbformat_minor": 2
}
