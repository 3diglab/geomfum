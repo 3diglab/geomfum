{
 "cells": [
  {
   "cell_type": "markdown",
   "metadata": {},
   "source": [
    "# How to set landmarks?"
   ]
  },
  {
   "cell_type": "code",
   "execution_count": 2,
   "metadata": {},
   "outputs": [],
   "source": [
    "from geomfum.dataset import NotebooksDataset\n",
    "from geomfum.metric.mesh import (\n",
    "    GraphShortestPathMetric,\n",
    "    HeatDistanceMetric,\n",
    "    VertexEuclideanMetric,\n",
    ")\n",
    "from geomfum.plot import MeshPlotter\n",
    "from geomfum.sample import FarthestPointSampler\n",
    "from geomfum.shape import TriangleMesh\n"
   ]
  },
  {
   "cell_type": "markdown",
   "metadata": {},
   "source": [
    "[Load a mesh](load_mesh_from_file.ipynb)."
   ]
  },
  {
   "cell_type": "code",
   "execution_count": 3,
   "metadata": {},
   "outputs": [],
   "source": [
    "dataset = NotebooksDataset()\n",
    "mesh = TriangleMesh.from_file(dataset.get_filename(\"cat-00\"))\n",
    "dist_functions = []"
   ]
  },
  {
   "cell_type": "markdown",
   "metadata": {},
   "source": [
    "Select metrics."
   ]
  },
  {
   "cell_type": "code",
   "execution_count": 4,
   "metadata": {},
   "outputs": [],
   "source": [
    "euc_dist = VertexEuclideanMetric(mesh)\n",
    "heat_dist = HeatDistanceMetric.from_registry(which=\"pp3d\",shape = mesh)\n",
    "geo_dist = GraphShortestPathMetric(mesh)"
   ]
  },
  {
   "cell_type": "code",
   "execution_count": 5,
   "metadata": {},
   "outputs": [],
   "source": [
    "metrics = {\n",
    "    \"euclidean\": VertexEuclideanMetric,\n",
    "    \"heat-distance\": HeatDistanceMetric,\n",
    "    \"graph\": GraphShortestPathMetric,\n",
    "}"
   ]
  },
  {
   "cell_type": "code",
   "execution_count": null,
   "metadata": {},
   "outputs": [],
   "source": [
    "metrics"
   ]
  },
  {
   "cell_type": "markdown",
   "metadata": {},
   "source": [
    "# Farthest Point Sampling\n",
    "\n",
    "The vertex **7181** corresponds to the extreme of the cat’s tail.\n"
   ]
  },
  {
   "cell_type": "code",
   "execution_count": null,
   "metadata": {},
   "outputs": [],
   "source": [
    "fps = {}\n",
    "for name, metric in metrics.items():\n",
    "    samp = FarthestPointSampler(6, metric)\n",
    "    samples = samp.sample(mesh, first_point = 7181)\n",
    "    fps[name] = samples\n",
    "    print(f\"FPS {name}: {samples}\")\n"
   ]
  },
  {
   "cell_type": "code",
   "execution_count": null,
   "metadata": {},
   "outputs": [],
   "source": [
    "plotter = MeshPlotter.from_registry(colormap=\"RdBu\", which=\"plotly\")\n",
    "plotter.add_mesh(mesh)\n",
    "plotter.highlight_vertices(mesh.vertices[fps['euclidean']])\n",
    "plotter.show()"
   ]
  },
  {
   "cell_type": "code",
   "execution_count": null,
   "metadata": {},
   "outputs": [],
   "source": [
    "plotter = MeshPlotter.from_registry(colormap=\"RdBu\", which=\"pyvista\")\n",
    "plotter.add_mesh(mesh)\n",
    "plotter.highlight_vertices(mesh.vertices[fps['heat-distance']])\n",
    "plotter.show()"
   ]
  },
  {
   "cell_type": "code",
   "execution_count": 10,
   "metadata": {},
   "outputs": [],
   "source": [
    "metric = list(fps.keys())[0]\n",
    "plotter = MeshPlotter.from_registry(colormap=\"RdBu\", which=\"polyscope\")\n",
    "plotter.add_mesh(mesh)\n",
    "plotter.highlight_vertices(mesh.vertices[fps['graph']],)\n",
    "plotter.show()"
   ]
  },
  {
   "cell_type": "markdown",
   "metadata": {},
   "source": [
    "## Further reading\n",
    "\n",
    "* [How to compute descriptors?](./descriptors.ipynb)\n",
    "\n",
    "* [How to set landmarks?](./landmarks.ipynb)"
   ]
  }
 ],
 "metadata": {
  "kernelspec": {
   "display_name": "py12",
   "language": "python",
   "name": "python3"
  },
  "language_info": {
   "codemirror_mode": {
    "name": "ipython",
    "version": 3
   },
   "file_extension": ".py",
   "mimetype": "text/x-python",
   "name": "python",
   "nbconvert_exporter": "python",
   "pygments_lexer": "ipython3",
   "version": "3.12.3"
  }
 },
 "nbformat": 4,
 "nbformat_minor": 2
}
