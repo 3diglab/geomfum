{
 "cells": [
  {
   "cell_type": "markdown",
   "id": "3b42c797",
   "metadata": {},
   "source": [
    "# How to compute a correspondence with functional maps"
   ]
  },
  {
   "cell_type": "markdown",
   "id": "3e81e229",
   "metadata": {},
   "source": [
    "This is the first demo on how to use geomfum to compute a correspondence with functional maps. In this notebook we will see what does it mean to compute a functional map and what are the main steps to do so. Lets Start!"
   ]
  },
  {
   "cell_type": "markdown",
   "id": "a31e7ffb",
   "metadata": {},
   "source": [
    "# Importing and visualizing shapes"
   ]
  },
  {
   "cell_type": "markdown",
   "id": "5bfe6525",
   "metadata": {},
   "source": [
    "First of all, we need to import our data, we will start from a pair of shapes from the FAUST dataset (https://faust-leaderboard.is.tuebingen.mpg.de/)"
   ]
  },
  {
   "cell_type": "code",
   "execution_count": null,
   "id": "89e7e0b2",
   "metadata": {},
   "outputs": [],
   "source": [
    "from geomfum.shape import TriangleMesh\n",
    "from geomfum.plot import MeshPlotter\n",
    "from geomfum.datasets import NotebooksDataset\n",
    "#load the shapes from the dataset\n",
    "dataset = NotebooksDataset()\n",
    "mesh_a = TriangleMesh.from_file(dataset.get_filename(\"tr_reg_000\"))\n",
    "mesh_b = TriangleMesh.from_file(dataset.get_filename(\"tr_reg_001\"))\n"
   ]
  },
  {
   "cell_type": "markdown",
   "id": "44a78cc0",
   "metadata": {},
   "source": [
    "We can visualize our shapes with the MeshPlotter"
   ]
  },
  {
   "cell_type": "code",
   "execution_count": null,
   "id": "82a4812b",
   "metadata": {},
   "outputs": [],
   "source": [
    "plotter = MeshPlotter.from_registry(which=\"plotly\")\n",
    "plotter.add_mesh(mesh_a)\n",
    "plotter.show()\n",
    "plotter.add_mesh(mesh_b)\n",
    "plotter.show()"
   ]
  },
  {
   "cell_type": "markdown",
   "id": "13243843",
   "metadata": {},
   "source": [
    "# Compute Basis\n",
    "Now that we have our pair of shapes, we can compute their basis.\n",
    "The basis of a shape is a set of functions that represent a basis for the space of squared integrable function defined on the surface of the shape. There are different kind of basis, but usually we consider the eigenfunctions of the Laplace beltrami operator."
   ]
  },
  {
   "cell_type": "code",
   "execution_count": null,
   "id": "6489cd03",
   "metadata": {},
   "outputs": [],
   "source": [
    "#compute basis\n",
    "k=50 #we select the number of basis that we want to compute\n",
    "mesh_a.laplacian.find_spectrum(spectrum_size=200, set_as_basis=True)\n",
    "mesh_b.laplacian.find_spectrum(spectrum_size=200, set_as_basis=True)\n",
    "\n",
    "#we can visualize the basis functions on the shapes\n",
    "plotter = MeshPlotter.from_registry(colormap=\"RdBu\", which=\"plotly\")\n",
    "plotter.add_mesh(mesh_a)\n",
    "plotter.set_vertex_scalars(mesh_a.basis.vecs[:,3])\n",
    "plotter.show()\n",
    "\n",
    "plotter.add_mesh(mesh_b)\n",
    "plotter.set_vertex_scalars(mesh_b.basis.vecs[:,3])\n",
    "plotter.show()\n",
    "\n"
   ]
  },
  {
   "cell_type": "markdown",
   "id": "983499ab",
   "metadata": {},
   "source": [
    "# Compute Descriptors\n",
    "Another set of functions that are useful in functional maps are the descriptors. While the basis describes the function space, the descriptors are functions that describe the shapes, including geometric and semantic inforations that are shared by the shapes. "
   ]
  },
  {
   "cell_type": "code",
   "execution_count": null,
   "id": "c6d8c98b",
   "metadata": {},
   "outputs": [],
   "source": [
    "from geomfum.descriptor.pipeline import (\n",
    "    ArangeSubsampler,\n",
    "    DescriptorPipeline,\n",
    "    L2InnerNormalizer,\n",
    ")\n",
    "from geomfum.descriptor.spectral import HeatKernelSignature, WaveKernelSignature\n",
    "import numpy as np"
   ]
  },
  {
   "cell_type": "markdown",
   "id": "8e08de1d",
   "metadata": {},
   "source": [
    "Landmarks: a lot of time, the informations provided by the descriptors are not enough to compute a good functional map, for this reason, a good thing is to privide some points that we know are in correspondence, these are called landmarks"
   ]
  },
  {
   "cell_type": "code",
   "execution_count": null,
   "id": "b5389d35",
   "metadata": {},
   "outputs": [],
   "source": [
    "# select the landmarks with the plot functions, for example, considering indexes of hands, feets and head\n",
    "plotter = MeshPlotter.from_registry(colormap=\"RdBu\", which=\"plotly\")\n",
    "plotter.add_mesh(mesh_a)\n",
    "plotter.show()\n",
    "\n",
    "mesh_a.landmark_indices =np.array( [412, 5891,6593,3323,2119] )\n",
    "mesh_b.landmark_indices =np.array( [412, 5891,6593,3323,2119]) #in this case the landmarks have the same indexes, but in general this is not true\n"
   ]
  },
  {
   "cell_type": "code",
   "execution_count": null,
   "id": "fe70dcef",
   "metadata": {},
   "outputs": [],
   "source": [
    "# now we can compute the descriptrors\n",
    "steps = [\n",
    "    HeatKernelSignature.from_registry(n_domain=100, use_landmarks=True),\n",
    "    ArangeSubsampler(subsample_step=2),\n",
    "    WaveKernelSignature.from_registry(n_domain=3),\n",
    "    L2InnerNormalizer(),\n",
    "]\n",
    "\n",
    "pipeline = DescriptorPipeline(steps)\n",
    "\n",
    "descr_a = pipeline.apply(mesh_a)\n",
    "descr_b = pipeline.apply(mesh_b)"
   ]
  },
  {
   "cell_type": "code",
   "execution_count": null,
   "id": "d9fa6b14",
   "metadata": {},
   "outputs": [],
   "source": [
    "# we can visualize the descriptors\n",
    "plotter.add_mesh(mesh_a)\n",
    "plotter.set_vertex_scalars(descr_a[0])\n",
    "plotter.show()\n",
    "plotter.add_mesh(mesh_b)\n",
    "plotter.set_vertex_scalars(descr_b[0])\n",
    "plotter.show()"
   ]
  },
  {
   "cell_type": "markdown",
   "id": "6a91da06",
   "metadata": {},
   "source": [
    "# Optimize Functional Map\n",
    "Now, we have all the elements to optimize our first functional maps, we can select different energies and weight them differently"
   ]
  },
  {
   "cell_type": "code",
   "execution_count": null,
   "id": "057c2d87",
   "metadata": {},
   "outputs": [],
   "source": [
    "from geomfum.functional_map import (\n",
    "    FactorSum,\n",
    "    LBCommutativityEnforcing,\n",
    "    OperatorCommutativityEnforcing,\n",
    "    SpectralDescriptorPreservation,\n",
    ")\n",
    "from geomfum.numerics.optimization import ScipyMinimize\n"
   ]
  },
  {
   "cell_type": "code",
   "execution_count": null,
   "id": "16db8c62",
   "metadata": {},
   "outputs": [],
   "source": [
    "#we select the number of eigenfunctions for our functional maps\n",
    "mesh_a.basis.use_k=20\n",
    "mesh_b.basis.use_k=20"
   ]
  },
  {
   "cell_type": "code",
   "execution_count": null,
   "id": "73a692a6",
   "metadata": {},
   "outputs": [],
   "source": [
    "\n",
    "\n",
    "factors = [\n",
    "    SpectralDescriptorPreservation(\n",
    "        mesh_a.basis.project(descr_a),\n",
    "        mesh_b.basis.project(descr_b),\n",
    "        weight=1.0,\n",
    "    ),\n",
    "    LBCommutativityEnforcing.from_bases(\n",
    "        mesh_a.basis,\n",
    "        mesh_b.basis,\n",
    "        weight=1e-2,\n",
    "    ),\n",
    "    OperatorCommutativityEnforcing.from_multiplication(\n",
    "        mesh_a.basis, descr_a, mesh_b.basis, descr_b, weight=1e-1\n",
    "    ),\n",
    "    OperatorCommutativityEnforcing.from_orientation(\n",
    "        mesh_a, descr_a, mesh_b, descr_b, weight=1e-1\n",
    "    ),\n",
    "]\n",
    "\n",
    "objective = FactorSum(factors)\n",
    "\n",
    "optimizer = ScipyMinimize(\n",
    "    method=\"L-BFGS-B\",\n",
    ")\n",
    "\n",
    "x0 = np.zeros((mesh_b.basis.spectrum_size, mesh_a.basis.spectrum_size))\n",
    "\n",
    "res = optimizer.minimize(\n",
    "    objective,\n",
    "    x0,\n",
    "    fun_jac=objective.gradient,\n",
    ")\n",
    "\n",
    "fmap = res.x.reshape(x0.shape)\n"
   ]
  },
  {
   "cell_type": "code",
   "execution_count": null,
   "id": "b89330be",
   "metadata": {},
   "outputs": [],
   "source": [
    "#we can visualize our functional map\n",
    "import matplotlib.pyplot as plt\n",
    "\n",
    "plt.imshow(fmap, cmap='bwr')"
   ]
  },
  {
   "cell_type": "markdown",
   "id": "6db00f11",
   "metadata": {},
   "source": [
    "# Get the correspondence\n",
    "Once we have the functional map, we can compute the point-to-point correspondence performing a nearest search in the space of function"
   ]
  },
  {
   "cell_type": "code",
   "execution_count": null,
   "id": "bc7fb3df",
   "metadata": {},
   "outputs": [],
   "source": [
    "from geomfum.convert import P2pFromFmConverter\n",
    "\n",
    "p2p_converter = P2pFromFmConverter()\n",
    "\n",
    "p2p = p2p_converter(fmap, mesh_a.basis, mesh_b.basis)"
   ]
  },
  {
   "cell_type": "markdown",
   "id": "6ab1175c",
   "metadata": {},
   "source": [
    "In some cases, we can evaluate the estimated correspondence, in order ot do so we need a ground truth supervision and a distance matrix"
   ]
  },
  {
   "cell_type": "code",
   "execution_count": null,
   "id": "23fc075a",
   "metadata": {},
   "outputs": [],
   "source": [
    "from geomfum.metric.mesh import VertexEuclideanMetric\n",
    "\n",
    "p2p_gt=np.arange(mesh_a.n_vertices)\n",
    "\n",
    "\n",
    "#compute Euclidean distance matrix\n",
    "metric_a=VertexEuclideanMetric(mesh_a)\n",
    "eucl_a=metric_a.dist_matrix()\n",
    "\n",
    "print(np.mean(eucl_a[p2p,p2p_gt]))"
   ]
  },
  {
   "cell_type": "markdown",
   "id": "cb929a0f",
   "metadata": {},
   "source": [
    "# Refining the correspondence\n",
    "A lot of time, a small number of basis is not enough to have a good correspondence and a lot of methods are based on a 'refinement' stage"
   ]
  },
  {
   "cell_type": "code",
   "execution_count": null,
   "id": "c00d3c5b",
   "metadata": {},
   "outputs": [],
   "source": [
    "from geomfum.refine import ZoomOut"
   ]
  },
  {
   "cell_type": "code",
   "execution_count": null,
   "id": "0c3bf924",
   "metadata": {},
   "outputs": [],
   "source": [
    "zoomout = ZoomOut(nit=20, step=5)\n",
    "\n",
    "zoomout_fmap_matrix_ = zoomout(fmap, mesh_a.basis, mesh_b.basis)\n"
   ]
  },
  {
   "cell_type": "code",
   "execution_count": null,
   "id": "a04c4e8c",
   "metadata": {},
   "outputs": [],
   "source": [
    "p2p_ref=p2p_converter(zoomout_fmap_matrix_, mesh_a.basis, mesh_b.basis)\n",
    "print(np.mean(eucl_a[p2p_ref,p2p_gt]))"
   ]
  },
  {
   "cell_type": "code",
   "execution_count": null,
   "id": "4db52e67",
   "metadata": {},
   "outputs": [],
   "source": [
    "plt.imshow(zoomout_fmap_matrix_, cmap='bwr')"
   ]
  },
  {
   "cell_type": "markdown",
   "id": "54fa2168",
   "metadata": {},
   "source": [
    "# How to Visualize the corrrespondence"
   ]
  },
  {
   "cell_type": "markdown",
   "id": "d299461b",
   "metadata": {},
   "source": [
    "we can visualize the quality of the correspondence"
   ]
  },
  {
   "cell_type": "code",
   "execution_count": null,
   "id": "c6681ea4",
   "metadata": {},
   "outputs": [],
   "source": [
    "plotter=MeshPlotter.from_registry(which='plotly')\n",
    "plotter.colormap='viridis'"
   ]
  },
  {
   "cell_type": "code",
   "execution_count": null,
   "id": "97438627",
   "metadata": {},
   "outputs": [],
   "source": [
    "colormap_a=np.mean(mesh_a.vertices,axis=-1)\n",
    "\n",
    "plotter.add_mesh(mesh_a)\n",
    "plotter.set_vertex_scalars(colormap_a)\n",
    "plotter.show()\n",
    "\n",
    "plotter.add_mesh(mesh_b)\n",
    "plotter.set_vertex_scalars(colormap_a[p2p])\n",
    "plotter.show()"
   ]
  },
  {
   "cell_type": "code",
   "execution_count": null,
   "id": "9e408edf",
   "metadata": {},
   "outputs": [],
   "source": [
    "#we can also visualze the error as a function on the shape\n",
    "plotter=MeshPlotter.from_registry(which='plotly',colormap='hot')\n",
    "plotter.add_mesh(mesh_a)\n",
    "plotter.set_vertex_scalars(eucl_a[p2p,p2p_gt])\n",
    "plotter.show()\n",
    "\n",
    "plotter.add_mesh(mesh_a)\n",
    "plotter.set_vertex_scalars(eucl_a[p2p_ref,p2p_gt])\n",
    "plotter.show()"
   ]
  }
 ],
 "metadata": {
  "kernelspec": {
   "display_name": "venv",
   "language": "python",
   "name": "python3"
  },
  "language_info": {
   "codemirror_mode": {
    "name": "ipython",
    "version": 3
   },
   "file_extension": ".py",
   "mimetype": "text/x-python",
   "name": "python",
   "nbconvert_exporter": "python",
   "pygments_lexer": "ipython3",
   "version": "3.11.8"
  }
 },
 "nbformat": 4,
 "nbformat_minor": 5
}
