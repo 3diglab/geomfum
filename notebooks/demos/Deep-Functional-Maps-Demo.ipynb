{
 "cells": [
  {
   "cell_type": "markdown",
   "id": "0fbfa6b8",
   "metadata": {},
   "source": [
    "# How to learn feature for functional maps"
   ]
  },
  {
   "cell_type": "markdown",
   "id": "ade070d7",
   "metadata": {},
   "source": [
    "In this notebook, we show how to use deep functional maps to learn feature for 3d shape matching."
   ]
  },
  {
   "cell_type": "code",
   "execution_count": 1,
   "id": "b18e7405",
   "metadata": {},
   "outputs": [],
   "source": [
    "import os\n",
    "\n",
    "os.environ[\"GEOMSTATS_BACKEND\"] = \"pytorch\"\n",
    "\n",
    "import torch\n",
    "from torch.utils.data import DataLoader, random_split\n",
    "\n",
    "from geomfum.dataset.torch import PairsDataset, ShapeDataset\n",
    "from geomfum.descriptor.learned import FeatureExtractor\n",
    "from geomfum.forward_functional_map import ForwardFunctionalMap\n",
    "from geomfum.learning.losses import (\n",
    "    BijectivityLoss,\n",
    "    GeodesicError,\n",
    "    LaplacianCommutativityLoss,\n",
    "    LossManager,\n",
    "    OrthonormalityLoss,\n",
    ")\n",
    "from geomfum.learning.models import FMNet\n",
    "from geomfum.learning.trainer import DeepFunctionalMapTrainer\n"
   ]
  },
  {
   "cell_type": "markdown",
   "id": "6eeb9bcc",
   "metadata": {},
   "source": [
    "First, we define our model. We can instantiate it combining feature extractors and forward logic, however, we provide some classic frameworks, like FMNet."
   ]
  },
  {
   "cell_type": "code",
   "execution_count": null,
   "id": "3beadb20",
   "metadata": {},
   "outputs": [],
   "source": [
    "# Build the model\n",
    "fmap_module = ForwardFunctionalMap(1e3, 1, True)\n",
    "\n",
    "feature_extractor = FeatureExtractor.from_registry(\n",
    "    which=\"diffusionnet\",\n",
    "    cache_dir=\"../../../datasets/faust/train_set/diffusion\",\n",
    "    device=\"cuda\",\n",
    ")\n",
    "\n",
    "fumctional_map_model = FMNet(\n",
    "    feature_extractor=feature_extractor,\n",
    "    fmap_module=fmap_module,\n",
    ")\n"
   ]
  },
  {
   "cell_type": "markdown",
   "id": "0a52006b",
   "metadata": {},
   "source": [
    "Then, we instantiate the training dataset and we split it for training purposes."
   ]
  },
  {
   "cell_type": "code",
   "execution_count": 3,
   "id": "70c3187c",
   "metadata": {},
   "outputs": [
    {
     "name": "stderr",
     "output_type": "stream",
     "text": [
      "C:\\Users\\giuli\\OneDrive\\Research\\geomfum_proj\\geomfum\\geomfum\\_backend\\pytorch\\sparse.py:22: UserWarning: Sparse CSC tensor support is in beta state. If you miss a functionality in the sparse tensor support, please submit a feature request to https://github.com/pytorch/pytorch/issues. (Triggered internally at C:\\actions-runner\\_work\\pytorch\\pytorch\\pytorch\\aten\\src\\ATen\\SparseCsrTensorImpl.cpp:55.)\n",
      "  return _torch.sparse_csc_tensor(ccol_indices, row_indices, values, size=array.shape)\n"
     ]
    }
   ],
   "source": [
    "TRAIN_SET_PATH = \"../../../datasets/faust/train_set/\"\n",
    "dataset = ShapeDataset(\n",
    "    TRAIN_SET_PATH, spectral=True, distances=False, device=\"cuda\", k=30\n",
    ")\n",
    "train_size = int(0.8 * len(dataset))\n",
    "val_size = len(dataset) - train_size\n",
    "\n",
    "train_shapes, validation_shapes = random_split(dataset, [train_size, val_size])\n",
    "train_dataset = PairsDataset(\n",
    "    train_shapes,\n",
    "    pair_mode=\"all\",\n",
    ")\n",
    "train_loader = DataLoader(\n",
    "    train_dataset, batch_size=1, shuffle=True\n",
    ")  # if shapes have different number of vertices, set batch_size=1\n",
    "\n",
    "validation_dataset = PairsDataset(\n",
    "    validation_shapes,\n",
    "    pair_mode=\"all\",\n",
    ")\n",
    "val_loader = DataLoader(validation_dataset, batch_size=1, shuffle=True)"
   ]
  },
  {
   "cell_type": "markdown",
   "id": "185d82f1",
   "metadata": {},
   "source": [
    "Since a lot of time we do not need to store distances for training shapes, but they are usefull for validation shapes, we can do the following trick"
   ]
  },
  {
   "cell_type": "code",
   "execution_count": 17,
   "id": "69289dac",
   "metadata": {},
   "outputs": [],
   "source": [
    "# build the train and test loaders\n",
    "TRAIN_SET_PATH = \"../../../datasets/faust/train_set/\"\n",
    "# instantiate the full dataset with default attributes\n",
    "full_dataset = ShapeDataset(TRAIN_SET_PATH, device=\"cpu\")\n",
    "train_size = int(0.8 * len(full_dataset))\n",
    "val_size = len(full_dataset) - train_size\n",
    "\n",
    "train_indices, val_indices = torch.utils.data.random_split(\n",
    "    range(len(full_dataset)), [train_size, val_size]\n",
    ")\n",
    "\n",
    "# create train and validation datasets with different attributes\n",
    "train_shapes = ShapeDataset(\n",
    "    TRAIN_SET_PATH,\n",
    "    spectral=True,\n",
    "    distances=False,\n",
    "    device=\"cuda\",\n",
    "    k=30,\n",
    "    indices=train_indices,\n",
    ")\n",
    "validation_shapes = ShapeDataset(\n",
    "    TRAIN_SET_PATH,\n",
    "    spectral=True,\n",
    "    distances=True,\n",
    "    device=\"cuda\",\n",
    "    k=30,\n",
    "    indices=val_indices,\n",
    ")\n",
    "# kwe create pairs\n",
    "train_dataset = PairsDataset(\n",
    "    train_shapes,\n",
    "    pair_mode=\"all\",\n",
    "    n_pairs=100,\n",
    ")\n",
    "train_loader = DataLoader(train_dataset, batch_size=1, shuffle=True)\n",
    "validation_dataset = PairsDataset(\n",
    "    validation_shapes,\n",
    "    pair_mode=\"all\",\n",
    "    n_pairs=100,\n",
    ")\n",
    "val_loader = DataLoader(validation_dataset, batch_size=1, shuffle=True)"
   ]
  },
  {
   "cell_type": "markdown",
   "id": "eff0316d",
   "metadata": {},
   "source": [
    "we build optimizer"
   ]
  },
  {
   "cell_type": "code",
   "execution_count": 20,
   "id": "112e308c",
   "metadata": {},
   "outputs": [],
   "source": [
    "optimizer = torch.optim.Adam(fumctional_map_model.parameters(), lr=1e-3)"
   ]
  },
  {
   "cell_type": "markdown",
   "id": "6b4d399d",
   "metadata": {},
   "source": [
    "Now we define the losses that we will cnsider. Again we can define our own losses, howver we provide some classic functional map energies, like the orthonormality loss."
   ]
  },
  {
   "cell_type": "code",
   "execution_count": 21,
   "id": "04caeacd",
   "metadata": {},
   "outputs": [],
   "source": [
    "# define the loss\n",
    "losses = [\n",
    "    OrthonormalityLoss(weight=1.0),\n",
    "    BijectivityLoss(weight=1.0),\n",
    "    LaplacianCommutativityLoss(weight=1e-3),\n",
    "]\n",
    "loss_manager = LossManager(losses)\n",
    "\n",
    "losses = [\n",
    "    GeodesicError(),\n",
    "]\n",
    "\n",
    "val_loss_manager = LossManager(losses)"
   ]
  },
  {
   "cell_type": "markdown",
   "id": "9d24792a",
   "metadata": {},
   "source": [
    "We have defined a trainer for simplicity that thakes as input model, losses, train and val datasets and optimizer and manages the training loops."
   ]
  },
  {
   "cell_type": "code",
   "execution_count": 22,
   "id": "a717fbc3",
   "metadata": {},
   "outputs": [],
   "source": [
    "trainer = DeepFunctionalMapTrainer(\n",
    "    model=fumctional_map_model,\n",
    "    train_loss_manager=loss_manager,\n",
    "    val_loss_manager=val_loss_manager,\n",
    "    train_loader=train_loader,\n",
    "    val_loader=val_loader,\n",
    "    optimizer=optimizer,\n",
    "    device=\"cuda\",\n",
    ")"
   ]
  },
  {
   "cell_type": "code",
   "execution_count": 23,
   "id": "a9018795",
   "metadata": {},
   "outputs": [
    {
     "name": "stderr",
     "output_type": "stream",
     "text": [
      "INFO: Epoch [1/100] - Training\n",
      "Epoch 1/100 (Train):  13%|█▎        | 510/4032 [03:55<27:05,  2.17batch/s, Loss=66.7191] \n"
     ]
    },
    {
     "ename": "KeyboardInterrupt",
     "evalue": "",
     "output_type": "error",
     "traceback": [
      "\u001b[1;31m---------------------------------------------------------------------------\u001b[0m",
      "\u001b[1;31mKeyboardInterrupt\u001b[0m                         Traceback (most recent call last)",
      "Cell \u001b[1;32mIn[23], line 1\u001b[0m\n\u001b[1;32m----> 1\u001b[0m \u001b[43mtrainer\u001b[49m\u001b[38;5;241;43m.\u001b[39;49m\u001b[43mtrain\u001b[49m\u001b[43m(\u001b[49m\u001b[43m)\u001b[49m\n",
      "File \u001b[1;32m~\\OneDrive\\Research\\geomfum_proj\\geomfum\\geomfum\\learning\\trainer.py:121\u001b[0m, in \u001b[0;36mDeepFunctionalMapTrainer.train\u001b[1;34m(self)\u001b[0m\n\u001b[0;32m    119\u001b[0m \u001b[38;5;28;01mfor\u001b[39;00m epoch \u001b[38;5;129;01min\u001b[39;00m \u001b[38;5;28mrange\u001b[39m(\u001b[38;5;28mself\u001b[39m\u001b[38;5;241m.\u001b[39mepochs):\n\u001b[0;32m    120\u001b[0m     logging\u001b[38;5;241m.\u001b[39minfo(\u001b[38;5;124mf\u001b[39m\u001b[38;5;124m\"\u001b[39m\u001b[38;5;124mEpoch [\u001b[39m\u001b[38;5;132;01m{\u001b[39;00mepoch\u001b[38;5;250m \u001b[39m\u001b[38;5;241m+\u001b[39m\u001b[38;5;250m \u001b[39m\u001b[38;5;241m1\u001b[39m\u001b[38;5;132;01m}\u001b[39;00m\u001b[38;5;124m/\u001b[39m\u001b[38;5;132;01m{\u001b[39;00m\u001b[38;5;28mself\u001b[39m\u001b[38;5;241m.\u001b[39mepochs\u001b[38;5;132;01m}\u001b[39;00m\u001b[38;5;124m] - Training\u001b[39m\u001b[38;5;124m\"\u001b[39m)\n\u001b[1;32m--> 121\u001b[0m     avg_train_loss \u001b[38;5;241m=\u001b[39m \u001b[38;5;28;43mself\u001b[39;49m\u001b[38;5;241;43m.\u001b[39;49m\u001b[43mtrain_one_epoch\u001b[49m\u001b[43m(\u001b[49m\u001b[43mepoch\u001b[49m\u001b[43m)\u001b[49m\n\u001b[0;32m    122\u001b[0m     logging\u001b[38;5;241m.\u001b[39minfo(\n\u001b[0;32m    123\u001b[0m         \u001b[38;5;124mf\u001b[39m\u001b[38;5;124m\"\u001b[39m\u001b[38;5;124mEpoch [\u001b[39m\u001b[38;5;132;01m{\u001b[39;00mepoch\u001b[38;5;250m \u001b[39m\u001b[38;5;241m+\u001b[39m\u001b[38;5;250m \u001b[39m\u001b[38;5;241m1\u001b[39m\u001b[38;5;132;01m}\u001b[39;00m\u001b[38;5;124m/\u001b[39m\u001b[38;5;132;01m{\u001b[39;00m\u001b[38;5;28mself\u001b[39m\u001b[38;5;241m.\u001b[39mepochs\u001b[38;5;132;01m}\u001b[39;00m\u001b[38;5;124m] - Average Training Loss: \u001b[39m\u001b[38;5;132;01m{\u001b[39;00mavg_train_loss\u001b[38;5;132;01m:\u001b[39;00m\u001b[38;5;124m.4f\u001b[39m\u001b[38;5;132;01m}\u001b[39;00m\u001b[38;5;124m\"\u001b[39m\n\u001b[0;32m    124\u001b[0m     )\n\u001b[0;32m    126\u001b[0m     avg_val_loss, val_metrics \u001b[38;5;241m=\u001b[39m \u001b[38;5;28mself\u001b[39m\u001b[38;5;241m.\u001b[39mvalidate(return_metrics\u001b[38;5;241m=\u001b[39m\u001b[38;5;28;01mTrue\u001b[39;00m)\n",
      "File \u001b[1;32m~\\OneDrive\\Research\\geomfum_proj\\geomfum\\geomfum\\learning\\trainer.py:81\u001b[0m, in \u001b[0;36mDeepFunctionalMapTrainer.train_one_epoch\u001b[1;34m(self, epoch)\u001b[0m\n\u001b[0;32m     79\u001b[0m \u001b[38;5;28;01mfor\u001b[39;00m batch_idx, pair \u001b[38;5;129;01min\u001b[39;00m \u001b[38;5;28menumerate\u001b[39m(\u001b[38;5;28mself\u001b[39m\u001b[38;5;241m.\u001b[39mtrain_loader):\n\u001b[0;32m     80\u001b[0m     \u001b[38;5;28mself\u001b[39m\u001b[38;5;241m.\u001b[39moptimizer\u001b[38;5;241m.\u001b[39mzero_grad()\n\u001b[1;32m---> 81\u001b[0m     outputs \u001b[38;5;241m=\u001b[39m \u001b[38;5;28;43mself\u001b[39;49m\u001b[38;5;241;43m.\u001b[39;49m\u001b[43mmodel\u001b[49m\u001b[43m(\u001b[49m\u001b[43mpair\u001b[49m\u001b[43m[\u001b[49m\u001b[38;5;124;43m\"\u001b[39;49m\u001b[38;5;124;43msource\u001b[39;49m\u001b[38;5;124;43m\"\u001b[39;49m\u001b[43m]\u001b[49m\u001b[43m,\u001b[49m\u001b[43m \u001b[49m\u001b[43mpair\u001b[49m\u001b[43m[\u001b[49m\u001b[38;5;124;43m\"\u001b[39;49m\u001b[38;5;124;43mtarget\u001b[39;49m\u001b[38;5;124;43m\"\u001b[39;49m\u001b[43m]\u001b[49m\u001b[43m)\u001b[49m\n\u001b[0;32m     82\u001b[0m     outputs\u001b[38;5;241m.\u001b[39mupdate({\u001b[38;5;124m\"\u001b[39m\u001b[38;5;124msource\u001b[39m\u001b[38;5;124m\"\u001b[39m: pair[\u001b[38;5;124m\"\u001b[39m\u001b[38;5;124msource\u001b[39m\u001b[38;5;124m\"\u001b[39m], \u001b[38;5;124m\"\u001b[39m\u001b[38;5;124mtarget\u001b[39m\u001b[38;5;124m\"\u001b[39m: pair[\u001b[38;5;124m\"\u001b[39m\u001b[38;5;124mtarget\u001b[39m\u001b[38;5;124m\"\u001b[39m]})\n\u001b[0;32m     83\u001b[0m     loss, loss_dict \u001b[38;5;241m=\u001b[39m \u001b[38;5;28mself\u001b[39m\u001b[38;5;241m.\u001b[39mtrain_loss_manager\u001b[38;5;241m.\u001b[39mcompute_loss(outputs)\n",
      "File \u001b[1;32mc:\\Users\\giuli\\OneDrive\\Research\\geomfum_proj\\venv\\Lib\\site-packages\\torch\\nn\\modules\\module.py:1739\u001b[0m, in \u001b[0;36mModule._wrapped_call_impl\u001b[1;34m(self, *args, **kwargs)\u001b[0m\n\u001b[0;32m   1737\u001b[0m     \u001b[38;5;28;01mreturn\u001b[39;00m \u001b[38;5;28mself\u001b[39m\u001b[38;5;241m.\u001b[39m_compiled_call_impl(\u001b[38;5;241m*\u001b[39margs, \u001b[38;5;241m*\u001b[39m\u001b[38;5;241m*\u001b[39mkwargs)  \u001b[38;5;66;03m# type: ignore[misc]\u001b[39;00m\n\u001b[0;32m   1738\u001b[0m \u001b[38;5;28;01melse\u001b[39;00m:\n\u001b[1;32m-> 1739\u001b[0m     \u001b[38;5;28;01mreturn\u001b[39;00m \u001b[38;5;28;43mself\u001b[39;49m\u001b[38;5;241;43m.\u001b[39;49m\u001b[43m_call_impl\u001b[49m\u001b[43m(\u001b[49m\u001b[38;5;241;43m*\u001b[39;49m\u001b[43margs\u001b[49m\u001b[43m,\u001b[49m\u001b[43m \u001b[49m\u001b[38;5;241;43m*\u001b[39;49m\u001b[38;5;241;43m*\u001b[39;49m\u001b[43mkwargs\u001b[49m\u001b[43m)\u001b[49m\n",
      "File \u001b[1;32mc:\\Users\\giuli\\OneDrive\\Research\\geomfum_proj\\venv\\Lib\\site-packages\\torch\\nn\\modules\\module.py:1750\u001b[0m, in \u001b[0;36mModule._call_impl\u001b[1;34m(self, *args, **kwargs)\u001b[0m\n\u001b[0;32m   1745\u001b[0m \u001b[38;5;66;03m# If we don't have any hooks, we want to skip the rest of the logic in\u001b[39;00m\n\u001b[0;32m   1746\u001b[0m \u001b[38;5;66;03m# this function, and just call forward.\u001b[39;00m\n\u001b[0;32m   1747\u001b[0m \u001b[38;5;28;01mif\u001b[39;00m \u001b[38;5;129;01mnot\u001b[39;00m (\u001b[38;5;28mself\u001b[39m\u001b[38;5;241m.\u001b[39m_backward_hooks \u001b[38;5;129;01mor\u001b[39;00m \u001b[38;5;28mself\u001b[39m\u001b[38;5;241m.\u001b[39m_backward_pre_hooks \u001b[38;5;129;01mor\u001b[39;00m \u001b[38;5;28mself\u001b[39m\u001b[38;5;241m.\u001b[39m_forward_hooks \u001b[38;5;129;01mor\u001b[39;00m \u001b[38;5;28mself\u001b[39m\u001b[38;5;241m.\u001b[39m_forward_pre_hooks\n\u001b[0;32m   1748\u001b[0m         \u001b[38;5;129;01mor\u001b[39;00m _global_backward_pre_hooks \u001b[38;5;129;01mor\u001b[39;00m _global_backward_hooks\n\u001b[0;32m   1749\u001b[0m         \u001b[38;5;129;01mor\u001b[39;00m _global_forward_hooks \u001b[38;5;129;01mor\u001b[39;00m _global_forward_pre_hooks):\n\u001b[1;32m-> 1750\u001b[0m     \u001b[38;5;28;01mreturn\u001b[39;00m \u001b[43mforward_call\u001b[49m\u001b[43m(\u001b[49m\u001b[38;5;241;43m*\u001b[39;49m\u001b[43margs\u001b[49m\u001b[43m,\u001b[49m\u001b[43m \u001b[49m\u001b[38;5;241;43m*\u001b[39;49m\u001b[38;5;241;43m*\u001b[39;49m\u001b[43mkwargs\u001b[49m\u001b[43m)\u001b[49m\n\u001b[0;32m   1752\u001b[0m result \u001b[38;5;241m=\u001b[39m \u001b[38;5;28;01mNone\u001b[39;00m\n\u001b[0;32m   1753\u001b[0m called_always_called_hooks \u001b[38;5;241m=\u001b[39m \u001b[38;5;28mset\u001b[39m()\n",
      "File \u001b[1;32m~\\OneDrive\\Research\\geomfum_proj\\geomfum\\geomfum\\learning\\models.py:72\u001b[0m, in \u001b[0;36mFMNet.forward\u001b[1;34m(self, mesh_a, mesh_b)\u001b[0m\n\u001b[0;32m     69\u001b[0m desc_a \u001b[38;5;241m=\u001b[39m \u001b[38;5;28mself\u001b[39m\u001b[38;5;241m.\u001b[39mdescriptors_module(mesh_a)\n\u001b[0;32m     70\u001b[0m desc_b \u001b[38;5;241m=\u001b[39m \u001b[38;5;28mself\u001b[39m\u001b[38;5;241m.\u001b[39mdescriptors_module(mesh_b)\n\u001b[1;32m---> 72\u001b[0m fmap12, fmap21 \u001b[38;5;241m=\u001b[39m \u001b[38;5;28;43mself\u001b[39;49m\u001b[38;5;241;43m.\u001b[39;49m\u001b[43mfmap_module\u001b[49m\u001b[43m(\u001b[49m\u001b[43mmesh_a\u001b[49m\u001b[43m,\u001b[49m\u001b[43m \u001b[49m\u001b[43mmesh_b\u001b[49m\u001b[43m,\u001b[49m\u001b[43m \u001b[49m\u001b[43mdesc_a\u001b[49m\u001b[43m,\u001b[49m\u001b[43m \u001b[49m\u001b[43mdesc_b\u001b[49m\u001b[43m)\u001b[49m\n\u001b[0;32m     74\u001b[0m \u001b[38;5;28;01mif\u001b[39;00m \u001b[38;5;129;01mnot\u001b[39;00m \u001b[38;5;28mself\u001b[39m\u001b[38;5;241m.\u001b[39mtraining:\n\u001b[0;32m     75\u001b[0m     \u001b[38;5;28;01mif\u001b[39;00m desc_a\u001b[38;5;241m.\u001b[39mdim() \u001b[38;5;241m==\u001b[39m \u001b[38;5;241m3\u001b[39m:\n",
      "File \u001b[1;32mc:\\Users\\giuli\\OneDrive\\Research\\geomfum_proj\\venv\\Lib\\site-packages\\torch\\nn\\modules\\module.py:1739\u001b[0m, in \u001b[0;36mModule._wrapped_call_impl\u001b[1;34m(self, *args, **kwargs)\u001b[0m\n\u001b[0;32m   1737\u001b[0m     \u001b[38;5;28;01mreturn\u001b[39;00m \u001b[38;5;28mself\u001b[39m\u001b[38;5;241m.\u001b[39m_compiled_call_impl(\u001b[38;5;241m*\u001b[39margs, \u001b[38;5;241m*\u001b[39m\u001b[38;5;241m*\u001b[39mkwargs)  \u001b[38;5;66;03m# type: ignore[misc]\u001b[39;00m\n\u001b[0;32m   1738\u001b[0m \u001b[38;5;28;01melse\u001b[39;00m:\n\u001b[1;32m-> 1739\u001b[0m     \u001b[38;5;28;01mreturn\u001b[39;00m \u001b[38;5;28;43mself\u001b[39;49m\u001b[38;5;241;43m.\u001b[39;49m\u001b[43m_call_impl\u001b[49m\u001b[43m(\u001b[49m\u001b[38;5;241;43m*\u001b[39;49m\u001b[43margs\u001b[49m\u001b[43m,\u001b[49m\u001b[43m \u001b[49m\u001b[38;5;241;43m*\u001b[39;49m\u001b[38;5;241;43m*\u001b[39;49m\u001b[43mkwargs\u001b[49m\u001b[43m)\u001b[49m\n",
      "File \u001b[1;32mc:\\Users\\giuli\\OneDrive\\Research\\geomfum_proj\\venv\\Lib\\site-packages\\torch\\nn\\modules\\module.py:1750\u001b[0m, in \u001b[0;36mModule._call_impl\u001b[1;34m(self, *args, **kwargs)\u001b[0m\n\u001b[0;32m   1745\u001b[0m \u001b[38;5;66;03m# If we don't have any hooks, we want to skip the rest of the logic in\u001b[39;00m\n\u001b[0;32m   1746\u001b[0m \u001b[38;5;66;03m# this function, and just call forward.\u001b[39;00m\n\u001b[0;32m   1747\u001b[0m \u001b[38;5;28;01mif\u001b[39;00m \u001b[38;5;129;01mnot\u001b[39;00m (\u001b[38;5;28mself\u001b[39m\u001b[38;5;241m.\u001b[39m_backward_hooks \u001b[38;5;129;01mor\u001b[39;00m \u001b[38;5;28mself\u001b[39m\u001b[38;5;241m.\u001b[39m_backward_pre_hooks \u001b[38;5;129;01mor\u001b[39;00m \u001b[38;5;28mself\u001b[39m\u001b[38;5;241m.\u001b[39m_forward_hooks \u001b[38;5;129;01mor\u001b[39;00m \u001b[38;5;28mself\u001b[39m\u001b[38;5;241m.\u001b[39m_forward_pre_hooks\n\u001b[0;32m   1748\u001b[0m         \u001b[38;5;129;01mor\u001b[39;00m _global_backward_pre_hooks \u001b[38;5;129;01mor\u001b[39;00m _global_backward_hooks\n\u001b[0;32m   1749\u001b[0m         \u001b[38;5;129;01mor\u001b[39;00m _global_forward_hooks \u001b[38;5;129;01mor\u001b[39;00m _global_forward_pre_hooks):\n\u001b[1;32m-> 1750\u001b[0m     \u001b[38;5;28;01mreturn\u001b[39;00m \u001b[43mforward_call\u001b[49m\u001b[43m(\u001b[49m\u001b[38;5;241;43m*\u001b[39;49m\u001b[43margs\u001b[49m\u001b[43m,\u001b[49m\u001b[43m \u001b[49m\u001b[38;5;241;43m*\u001b[39;49m\u001b[38;5;241;43m*\u001b[39;49m\u001b[43mkwargs\u001b[49m\u001b[43m)\u001b[49m\n\u001b[0;32m   1752\u001b[0m result \u001b[38;5;241m=\u001b[39m \u001b[38;5;28;01mNone\u001b[39;00m\n\u001b[0;32m   1753\u001b[0m called_always_called_hooks \u001b[38;5;241m=\u001b[39m \u001b[38;5;28mset\u001b[39m()\n",
      "File \u001b[1;32m~\\OneDrive\\Research\\geomfum_proj\\geomfum\\geomfum\\forward_functional_map.py:95\u001b[0m, in \u001b[0;36mForwardFunctionalMap.forward\u001b[1;34m(self, mesh_a, mesh_b, descr_a, descr_b)\u001b[0m\n\u001b[0;32m     92\u001b[0m     sdescr_b \u001b[38;5;241m=\u001b[39m mesh_b\u001b[38;5;241m.\u001b[39mbasis\u001b[38;5;241m.\u001b[39mproject(descr_b)\n\u001b[0;32m     94\u001b[0m mask \u001b[38;5;241m=\u001b[39m \u001b[38;5;28mself\u001b[39m\u001b[38;5;241m.\u001b[39m_compute_mask(evals_a, evals_b, \u001b[38;5;28mself\u001b[39m\u001b[38;5;241m.\u001b[39mresolvent_gamma)\n\u001b[1;32m---> 95\u001b[0m fmap_12 \u001b[38;5;241m=\u001b[39m \u001b[38;5;28;43mself\u001b[39;49m\u001b[38;5;241;43m.\u001b[39;49m\u001b[43m_compute_functional_map\u001b[49m\u001b[43m(\u001b[49m\u001b[43msdescr_a\u001b[49m\u001b[43m,\u001b[49m\u001b[43m \u001b[49m\u001b[43msdescr_b\u001b[49m\u001b[43m,\u001b[49m\u001b[43m \u001b[49m\u001b[43mmask\u001b[49m\u001b[43m)\u001b[49m\n\u001b[0;32m     97\u001b[0m \u001b[38;5;28;01mif\u001b[39;00m \u001b[38;5;28mself\u001b[39m\u001b[38;5;241m.\u001b[39mbijective:\n\u001b[0;32m     98\u001b[0m     mask \u001b[38;5;241m=\u001b[39m \u001b[38;5;28mself\u001b[39m\u001b[38;5;241m.\u001b[39m_compute_mask(evals_b, evals_a, \u001b[38;5;28mself\u001b[39m\u001b[38;5;241m.\u001b[39mresolvent_gamma)\n",
      "File \u001b[1;32m~\\OneDrive\\Research\\geomfum_proj\\geomfum\\geomfum\\forward_functional_map.py:51\u001b[0m, in \u001b[0;36mForwardFunctionalMap._compute_functional_map\u001b[1;34m(self, sdescr_a, sdescr_b, mask)\u001b[0m\n\u001b[0;32m     41\u001b[0m     \u001b[38;5;28;01melse\u001b[39;00m:\n\u001b[0;32m     42\u001b[0m         MASK_i \u001b[38;5;241m=\u001b[39m gs\u001b[38;5;241m.\u001b[39mconcatenate(\n\u001b[0;32m     43\u001b[0m             [\n\u001b[0;32m     44\u001b[0m                 xgs\u001b[38;5;241m.\u001b[39mdiag(mask[bs, i, :]\u001b[38;5;241m.\u001b[39mflatten())\u001b[38;5;241m.\u001b[39munsqueeze(\u001b[38;5;241m0\u001b[39m)\n\u001b[1;32m   (...)\u001b[0m\n\u001b[0;32m     47\u001b[0m             \u001b[38;5;241m0\u001b[39m,\n\u001b[0;32m     48\u001b[0m         )\n\u001b[0;32m     50\u001b[0m         C \u001b[38;5;241m=\u001b[39m torch\u001b[38;5;241m.\u001b[39mbmm(\n\u001b[1;32m---> 51\u001b[0m             \u001b[43mgs\u001b[49m\u001b[38;5;241;43m.\u001b[39;49m\u001b[43mlinalg\u001b[49m\u001b[38;5;241;43m.\u001b[39;49m\u001b[43minv\u001b[49m\u001b[43m(\u001b[49m\u001b[43mAA_aa\u001b[49m\u001b[43m \u001b[49m\u001b[38;5;241;43m+\u001b[39;49m\u001b[43m \u001b[49m\u001b[38;5;28;43mself\u001b[39;49m\u001b[38;5;241;43m.\u001b[39;49m\u001b[43mlmbda\u001b[49m\u001b[43m \u001b[49m\u001b[38;5;241;43m*\u001b[39;49m\u001b[43m \u001b[49m\u001b[43mMASK_i\u001b[49m\u001b[43m)\u001b[49m,\n\u001b[0;32m     52\u001b[0m             AA_ba[:, [i], :]\u001b[38;5;241m.\u001b[39mtranspose(\u001b[38;5;241m2\u001b[39m, \u001b[38;5;241m1\u001b[39m),\n\u001b[0;32m     53\u001b[0m         )\n\u001b[0;32m     54\u001b[0m     C_i\u001b[38;5;241m.\u001b[39mappend(C\u001b[38;5;241m.\u001b[39mtranspose(\u001b[38;5;241m1\u001b[39m, \u001b[38;5;241m2\u001b[39m))\n\u001b[0;32m     55\u001b[0m Cab \u001b[38;5;241m=\u001b[39m gs\u001b[38;5;241m.\u001b[39mconcatenate(C_i, axis\u001b[38;5;241m=\u001b[39m\u001b[38;5;241m1\u001b[39m)\n",
      "\u001b[1;31mKeyboardInterrupt\u001b[0m: "
     ]
    }
   ],
   "source": [
    "trainer.train()"
   ]
  }
 ],
 "metadata": {
  "kernelspec": {
   "display_name": "venv",
   "language": "python",
   "name": "python3"
  },
  "language_info": {
   "codemirror_mode": {
    "name": "ipython",
    "version": 3
   },
   "file_extension": ".py",
   "mimetype": "text/x-python",
   "name": "python",
   "nbconvert_exporter": "python",
   "pygments_lexer": "ipython3",
   "version": "3.11.8"
  }
 },
 "nbformat": 4,
 "nbformat_minor": 5
}
