{
 "cells": [
  {
   "cell_type": "markdown",
   "id": "0fbfa6b8",
   "metadata": {},
   "source": [
    "# How to learn feature for functional maps"
   ]
  },
  {
   "cell_type": "markdown",
   "id": "ade070d7",
   "metadata": {},
   "source": [
    "In this notebook, we show how to use deep functional maps to learn feature for 3d shape matching."
   ]
  },
  {
   "cell_type": "code",
   "execution_count": 1,
   "id": "b18e7405",
   "metadata": {},
   "outputs": [],
   "source": [
    "import os\n",
    "\n",
    "os.environ[\"GEOMSTATS_BACKEND\"] = \"pytorch\"\n",
    "\n",
    "import torch\n",
    "\n",
    "from geomfum.convert import P2pFromFmConverter, TorchNeighborFinder\n",
    "from geomfum.dataset.torch import PairsDataset, ShapeDataset\n",
    "from geomfum.descriptor.learned import FeatureExtractor\n",
    "from geomfum.forward_functional_map import ForwardFunctionalMap\n",
    "from geomfum.learning.losses import (\n",
    "    BijectivityLoss,\n",
    "    GeodesicError,\n",
    "    LaplacianCommutativityLoss,\n",
    "    LossManager,\n",
    "    OrthonormalityLoss,\n",
    ")\n",
    "from geomfum.learning.models import FMNet\n",
    "from geomfum.learning.trainer import DeepFunctionalMapTrainer"
   ]
  },
  {
   "cell_type": "markdown",
   "id": "6eeb9bcc",
   "metadata": {},
   "source": [
    "First, we define our model. We can instantiate it combining feature extractors and forward logic, however, we provide some classic frameworks, like FMNet."
   ]
  },
  {
   "cell_type": "code",
   "execution_count": 2,
   "id": "3beadb20",
   "metadata": {},
   "outputs": [
    {
     "name": "stderr",
     "output_type": "stream",
     "text": [
      "/home/ubuntu/giulio_vigano/geomfum_proj/venv/lib/python3.12/site-packages/tqdm/auto.py:21: TqdmWarning: IProgress not found. Please update jupyter and ipywidgets. See https://ipywidgets.readthedocs.io/en/stable/user_install.html\n",
      "  from .autonotebook import tqdm as notebook_tqdm\n"
     ]
    }
   ],
   "source": [
    "# Build the model\n",
    "fmap_module = ForwardFunctionalMap(1e3, 1, True)\n",
    "\n",
    "feature_extractor = FeatureExtractor.from_registry(\n",
    "    which=\"diffusionnet\",\n",
    "    device=\"cuda\",\n",
    "    k_eig=200,\n",
    ")\n",
    "\n",
    "functional_map_model = FMNet(\n",
    "    feature_extractor=feature_extractor,\n",
    "    fmap_module=fmap_module,\n",
    "    converter=P2pFromFmConverter(TorchNeighborFinder.from_registry(which=\"densemap\")),\n",
    ")\n"
   ]
  },
  {
   "cell_type": "markdown",
   "id": "0a52006b",
   "metadata": {},
   "source": [
    "Then, we instantiate the training dataset and we split it for training purposes."
   ]
  },
  {
   "cell_type": "code",
   "execution_count": 3,
   "id": "70c3187c",
   "metadata": {},
   "outputs": [],
   "source": [
    "# TRAIN_SET_PATH = \"../../../datasets/faust/train_set/\"\n",
    "# dataset = ShapeDataset(\n",
    "#    TRAIN_SET_PATH, spectral=True, distances=False, device=\"cuda\", k=30\n",
    "# )\n",
    "# train_size = int(0.8 * len(dataset))\n",
    "# val_size = len(dataset) - train_size\n",
    "\n",
    "# train_shapes, validation_shapes = random_split(dataset, [train_size, val_size])\n",
    "# train_dataset = PairsDataset(\n",
    "#    train_shapes,\n",
    "#    pair_mode=\"all\",\n",
    "# )\n",
    "\n",
    "# validation_dataset = PairsDataset(\n",
    "#    validation_shapes,\n",
    "#    pair_mode=\"all\",\n",
    "# )\n"
   ]
  },
  {
   "cell_type": "markdown",
   "id": "185d82f1",
   "metadata": {},
   "source": [
    "Since a lot of time we do not need to store distances for training shapes, but they are usefull for validation shapes, we can do the following trick"
   ]
  },
  {
   "cell_type": "code",
   "execution_count": null,
   "id": "69289dac",
   "metadata": {},
   "outputs": [
    {
     "name": "stderr",
     "output_type": "stream",
     "text": [
      "/home/ubuntu/giulio_vigano/geomfum_proj/geomfum/geomfum/_backend/pytorch/sparse.py:22: UserWarning: Sparse CSC tensor support is in beta state. If you miss a functionality in the sparse tensor support, please submit a feature request to https://github.com/pytorch/pytorch/issues. (Triggered internally at /pytorch/aten/src/ATen/SparseCsrTensorImpl.cpp:53.)\n",
      "  return _torch.sparse_csc_tensor(ccol_indices, row_indices, values, size=array.shape)\n"
     ]
    }
   ],
   "source": [
    "# build the train and test loaders\n",
    "TRAIN_SET_PATH = \"../../../datasets/smal/train_set/\"\n",
    "TEST_SET_PATH = \"../../../datasets/smal/test_set/\"\n",
    "# instantiate\n",
    "# the full dataset with default attributes\n",
    "train_shapes = ShapeDataset(\n",
    "    TRAIN_SET_PATH,\n",
    "    spectral=True,\n",
    "    distances=False,\n",
    "    device=\"cuda\",\n",
    "    k=30,\n",
    ")\n",
    "validation_shapes = ShapeDataset(\n",
    "    TEST_SET_PATH,\n",
    "    spectral=True,\n",
    "    distances=True,\n",
    "    device=\"cuda\",\n",
    "    k=30,\n",
    ")\n",
    "train_dataset = PairsDataset(\n",
    "    train_shapes,\n",
    "    pair_mode=\"all\",\n",
    ")\n",
    "\n",
    "validation_dataset = PairsDataset(\n",
    "    validation_shapes,\n",
    "    pair_mode=\"all\",\n",
    ")\n"
   ]
  },
  {
   "cell_type": "markdown",
   "id": "eff0316d",
   "metadata": {},
   "source": [
    "we build optimizer"
   ]
  },
  {
   "cell_type": "code",
   "execution_count": null,
   "id": "112e308c",
   "metadata": {},
   "outputs": [],
   "source": [
    "optimizer = torch.optim.Adam(functional_map_model.parameters(), lr=1e-3)"
   ]
  },
  {
   "cell_type": "code",
   "execution_count": null,
   "id": "8a62b4cf",
   "metadata": {},
   "outputs": [],
   "source": [
    "import torch.nn as nn\n",
    "\n",
    "\n",
    "class GeodesicError(nn.Module):\n",
    "    \"\"\"Computes the accuracy of a correspondence by measuring the mean of the geodesic distances between points of the predicted permuted target and the ground truth target.\"\"\"\n",
    "\n",
    "    def __init__(self):\n",
    "        super().__init__()\n",
    "\n",
    "    required_inputs = [\n",
    "        \"p2p12\",\n",
    "        \"dist_a\",\n",
    "        \"corr_a\",\n",
    "        \"corr_b\",\n",
    "    ]\n",
    "\n",
    "    def _compute_geodesic_loss(self, p2p, source_dist, source_corr, target_corr):\n",
    "        \"\"\"Compute the geodesic loss for batched inputs.\"\"\"\n",
    "        return torch.mean(source_dist[p2p[target_corr], source_corr])\n",
    "\n",
    "    def forward(self, p2p12, dist_a, corr_a, corr_b):\n",
    "        \"\"\"Forward pass.\"\"\"\n",
    "        loss = self._compute_geodesic_loss(p2p12, dist_a, corr_a, corr_b)\n",
    "        return loss\n"
   ]
  },
  {
   "cell_type": "markdown",
   "id": "6b4d399d",
   "metadata": {},
   "source": [
    "Now we define the losses that we will cnsider. Again we can define our own losses, howver we provide some classic functional map energies, like the orthonormality loss."
   ]
  },
  {
   "cell_type": "code",
   "execution_count": null,
   "id": "04caeacd",
   "metadata": {},
   "outputs": [],
   "source": [
    "# define the loss\n",
    "losses = [\n",
    "    OrthonormalityLoss(weight=1.0),\n",
    "    BijectivityLoss(weight=1.0),\n",
    "    LaplacianCommutativityLoss(weight=1e-3),\n",
    "]\n",
    "loss_manager = LossManager(losses)\n",
    "\n",
    "losses = [\n",
    "    GeodesicError(),\n",
    "]\n",
    "\n",
    "val_loss_manager = LossManager(losses)"
   ]
  },
  {
   "cell_type": "markdown",
   "id": "9d24792a",
   "metadata": {},
   "source": [
    "We have defined a trainer for simplicity that thakes as input model, losses, train and val datasets and optimizer and manages the training loops."
   ]
  },
  {
   "cell_type": "code",
   "execution_count": null,
   "id": "a717fbc3",
   "metadata": {},
   "outputs": [],
   "source": [
    "trainer = DeepFunctionalMapTrainer(\n",
    "    model=functional_map_model,\n",
    "    train_loss_manager=loss_manager,\n",
    "    val_loss_manager=val_loss_manager,\n",
    "    train_set=train_dataset,\n",
    "    val_set=validation_dataset,\n",
    "    optimizer=optimizer,\n",
    "    device=\"cuda\",\n",
    "    epochs=10,\n",
    ")"
   ]
  },
  {
   "cell_type": "code",
   "execution_count": null,
   "id": "6458c27a",
   "metadata": {},
   "outputs": [],
   "source": [
    "trainer.train()"
   ]
  },
  {
   "cell_type": "code",
   "execution_count": null,
   "id": "66423b23",
   "metadata": {},
   "outputs": [],
   "source": [
    "trainer.validate()"
   ]
  },
  {
   "cell_type": "code",
   "execution_count": null,
   "id": "21c854d0",
   "metadata": {},
   "outputs": [],
   "source": [
    "pair = trainer.val_set[8]  # Access item by index\n",
    "trainer.optimizer.zero_grad()\n",
    "trainer.model.eval()  # Set the model to training mode\n",
    "mesh_a = pair[\"source\"][\"mesh\"]\n",
    "mesh_b = pair[\"target\"][\"mesh\"]\n",
    "with torch.no_grad():\n",
    "    outputs = trainer.model(mesh_a, mesh_b)\n"
   ]
  },
  {
   "cell_type": "code",
   "execution_count": null,
   "id": "9633dd48",
   "metadata": {},
   "outputs": [],
   "source": [
    "mask = trainer.model.fmap_module._compute_mask(mesh_a.basis.vals, mesh_b.basis.vals, 1)"
   ]
  },
  {
   "cell_type": "code",
   "execution_count": null,
   "id": "92bb8f4e",
   "metadata": {},
   "outputs": [],
   "source": [
    "outputs[\"p2p12\"]"
   ]
  },
  {
   "cell_type": "code",
   "execution_count": null,
   "id": "61861a82",
   "metadata": {},
   "outputs": [],
   "source": [
    "import matplotlib.pyplot as plt\n",
    "\n",
    "plt.imshow(outputs[\"fmap21\"].detach().cpu().numpy())"
   ]
  },
  {
   "cell_type": "code",
   "execution_count": null,
   "id": "c94891d3",
   "metadata": {},
   "outputs": [],
   "source": [
    "a, b = mesh_a.laplacian.find_spectrum(\n",
    "    spectrum_size=30, set_as_basis=True, recompute=True\n",
    ")\n",
    "mesh_a.basis.vecs.shape\n",
    "mesh_a.basis.full_vecs.shape"
   ]
  },
  {
   "cell_type": "code",
   "execution_count": null,
   "id": "a9644762",
   "metadata": {},
   "outputs": [],
   "source": [
    "a, b = mesh_a.laplacian.find_spectrum(\n",
    "    spectrum_size=200, set_as_basis=False, recompute=True\n",
    ")\n",
    "mesh_a.basis.vecs.shape\n",
    "mesh_a.basis.full_vecs.shape"
   ]
  },
  {
   "cell_type": "code",
   "execution_count": null,
   "id": "e628be7c",
   "metadata": {},
   "outputs": [],
   "source": [
    "mesh_a.basis.vecs.shape"
   ]
  },
  {
   "cell_type": "code",
   "execution_count": null,
   "id": "60616222",
   "metadata": {},
   "outputs": [],
   "source": [
    "mesh_a.laplacian.find_spectrum(spectrum_size=200, set_as_basis=False, recompute=False)"
   ]
  }
 ],
 "metadata": {
  "kernelspec": {
   "display_name": "venv",
   "language": "python",
   "name": "python3"
  },
  "language_info": {
   "codemirror_mode": {
    "name": "ipython",
    "version": 3
   },
   "file_extension": ".py",
   "mimetype": "text/x-python",
   "name": "python",
   "nbconvert_exporter": "python",
   "pygments_lexer": "ipython3",
   "version": "3.12.3"
  }
 },
 "nbformat": 4,
 "nbformat_minor": 5
}
