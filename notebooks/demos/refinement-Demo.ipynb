{
 "cells": [
  {
   "cell_type": "markdown",
   "id": "3b42c797",
   "metadata": {},
   "source": [
    "# How to refine a correspondence with functional maps"
   ]
  },
  {
   "cell_type": "markdown",
   "id": "3e81e229",
   "metadata": {},
   "source": [
    "This is the first demo on how to use geomfum to refine a correspondence. In this notebook we will see what does it mean and what are the main steps to do so. Lets Start!"
   ]
  },
  {
   "cell_type": "markdown",
   "id": "a31e7ffb",
   "metadata": {},
   "source": [
    "# Importing shapes"
   ]
  },
  {
   "cell_type": "code",
   "execution_count": null,
   "id": "89e7e0b2",
   "metadata": {},
   "outputs": [],
   "source": [
    "from geomfum.shape import TriangleMesh\n",
    "from geomfum.plot import MeshPlotter\n",
    "from geomfum.dataset import NotebooksDataset\n",
    "from geomfum.descriptor.pipeline import (\n",
    "    ArangeSubsampler,\n",
    "    DescriptorPipeline,\n",
    "    L2InnerNormalizer,\n",
    ")\n",
    "from geomfum.descriptor.spectral import HeatKernelSignature, WaveKernelSignature\n",
    "import numpy as np\n",
    "\n",
    "from geomfum.functional_map import (\n",
    "    FactorSum,\n",
    "    LBCommutativityEnforcing,\n",
    "    OperatorCommutativityEnforcing,\n",
    "    SpectralDescriptorPreservation,\n",
    ")\n",
    "from geomfum.numerics.optimization import ScipyMinimize\n",
    "\n"
   ]
  },
  {
   "cell_type": "markdown",
   "id": "44a78cc0",
   "metadata": {},
   "source": [
    "We can visualize our shapes with the MeshPlotter"
   ]
  },
  {
   "cell_type": "code",
   "execution_count": null,
   "id": "82a4812b",
   "metadata": {},
   "outputs": [],
   "source": [
    "dataset = NotebooksDataset()\n",
    "\n",
    "mesh_a = TriangleMesh.from_file(dataset.get_filename(\"cat-00\"))\n",
    "mesh_b = TriangleMesh.from_file(dataset.get_filename(\"lion-00\"))\n"
   ]
  },
  {
   "cell_type": "markdown",
   "id": "51707206",
   "metadata": {},
   "source": [
    "# Estimate intial funtional map"
   ]
  },
  {
   "cell_type": "code",
   "execution_count": null,
   "id": "6489cd03",
   "metadata": {},
   "outputs": [],
   "source": [
    "#compute basis\n",
    "mesh_a.laplacian.find_spectrum(spectrum_size=200, set_as_basis=True)\n",
    "mesh_b.laplacian.find_spectrum(spectrum_size=200, set_as_basis=True)\n",
    "\n",
    "mesh_a.landmark_indices =np.array( [2840, 1594,5596, 6809,3924,7169] )\n",
    "mesh_b.landmark_indices =np.array( [1334,834,4136,4582,3666,4955])\n",
    "\n",
    "# now we can compute the descriptrors\n",
    "steps = [\n",
    "    HeatKernelSignature.from_registry(n_domain=100, use_landmarks=True),\n",
    "    ArangeSubsampler(subsample_step=2),\n",
    "    L2InnerNormalizer(),\n",
    "]\n",
    "\n",
    "pipeline = DescriptorPipeline(steps)\n",
    "\n",
    "descr_a = pipeline.apply(mesh_a)\n",
    "descr_b = pipeline.apply(mesh_b)\n",
    "\n",
    "#we select the number of eigenfunctions for our functional maps\n",
    "mesh_a.basis.use_k=10\n",
    "mesh_b.basis.use_k=10\n",
    "\n",
    "\n",
    "\n",
    "factors = [\n",
    "    SpectralDescriptorPreservation(\n",
    "        mesh_a.basis.project(descr_a),\n",
    "        mesh_b.basis.project(descr_b),\n",
    "        weight=1.0,\n",
    "    ),\n",
    "    LBCommutativityEnforcing.from_bases(\n",
    "        mesh_a.basis,\n",
    "        mesh_b.basis,\n",
    "        weight=1e-2,\n",
    "    ),\n",
    "    OperatorCommutativityEnforcing.from_multiplication(\n",
    "        mesh_a.basis, descr_a, mesh_b.basis, descr_b, weight=0\n",
    "    ),\n",
    "    OperatorCommutativityEnforcing.from_orientation(\n",
    "        mesh_a, descr_a, mesh_b, descr_b, weight=1e-1\n",
    "    ),\n",
    "]\n",
    "\n",
    "objective = FactorSum(factors)\n",
    "\n",
    "optimizer = ScipyMinimize(\n",
    "    method=\"L-BFGS-B\",\n",
    ")\n",
    "\n",
    "x0 = np.zeros((mesh_b.basis.spectrum_size, mesh_a.basis.spectrum_size))\n",
    "\n",
    "res = optimizer.minimize(\n",
    "    objective,\n",
    "    x0,\n",
    "    fun_jac=objective.gradient,\n",
    ")\n",
    "\n",
    "fmap = res.x.reshape(x0.shape)\n"
   ]
  },
  {
   "cell_type": "markdown",
   "id": "d0133cd2",
   "metadata": {},
   "source": [
    "In certain cases, we want to estimate also the functional map in the other direction"
   ]
  },
  {
   "cell_type": "code",
   "execution_count": null,
   "id": "d5479103",
   "metadata": {},
   "outputs": [],
   "source": [
    "factors = [\n",
    "    SpectralDescriptorPreservation(\n",
    "        mesh_b.basis.project(descr_b),\n",
    "        mesh_a.basis.project(descr_a),\n",
    "        weight=1.0,\n",
    "    ),\n",
    "    LBCommutativityEnforcing.from_bases(\n",
    "        mesh_a.basis,\n",
    "        mesh_b.basis,\n",
    "        weight=1e-2,\n",
    "    ),\n",
    "    OperatorCommutativityEnforcing.from_multiplication(\n",
    "        mesh_b.basis, descr_b, mesh_a.basis, descr_a, weight=0\n",
    "    ),\n",
    "    OperatorCommutativityEnforcing.from_orientation(\n",
    "        mesh_b, descr_b, mesh_a, descr_a, weight=1e-1\n",
    "    ),\n",
    "]\n",
    "\n",
    "objective = FactorSum(factors)\n",
    "\n",
    "optimizer = ScipyMinimize(\n",
    "    method=\"L-BFGS-B\",\n",
    ")\n",
    "\n",
    "x0 = np.zeros((mesh_a.basis.spectrum_size, mesh_b.basis.spectrum_size))\n",
    "\n",
    "res = optimizer.minimize(\n",
    "    objective,\n",
    "    x0,\n",
    "    fun_jac=objective.gradient,\n",
    ")\n",
    "\n",
    "fmap12= res.x.reshape(x0.shape)\n"
   ]
  },
  {
   "cell_type": "code",
   "execution_count": null,
   "id": "b89330be",
   "metadata": {},
   "outputs": [],
   "source": [
    "#we can visualize our functional map\n",
    "import matplotlib.pyplot as plt\n",
    "plt.imshow(fmap, cmap='bwr')\n",
    "plt.show()\n",
    "plt.imshow(fmap12, cmap='bwr')\n",
    "\n"
   ]
  },
  {
   "cell_type": "markdown",
   "id": "6db00f11",
   "metadata": {},
   "source": [
    "# Refine the map\n"
   ]
  },
  {
   "cell_type": "markdown",
   "id": "a87116a5",
   "metadata": {},
   "source": [
    "Once we estimated an initial functional maps, we can REFINE it. This mean that we want to perform a procedure to improve the quality of the correspondence obtained by the map, enforcing additional property to the map and (usually) augmenting the number of eigenfunctions used and the dimention of the functional map.\n",
    "Over the years, a lot of methods have been proposed to perform this step of the pipeline, here we show different possible approaches"
   ]
  },
  {
   "cell_type": "markdown",
   "id": "78b09900",
   "metadata": {},
   "source": [
    "# ZoomOut"
   ]
  },
  {
   "cell_type": "markdown",
   "id": "b2cfbff2",
   "metadata": {},
   "source": [
    "The ZoomOut algortihm has been one of the first approaches to perform 'spectral uspampling', which means increasing the number of eigenfunctions during refinement. Moreover, this algorithm is efficient and it produces orthogonal functional maps, which represent isometric correspondences."
   ]
  },
  {
   "cell_type": "code",
   "execution_count": null,
   "id": "bc7fb3df",
   "metadata": {},
   "outputs": [],
   "source": [
    "from geomfum.refine import ZoomOut"
   ]
  },
  {
   "cell_type": "code",
   "execution_count": null,
   "id": "0c3bf924",
   "metadata": {},
   "outputs": [],
   "source": [
    "zoomout = ZoomOut(nit=20, step=5)\n",
    "zoomout_fmap_matrix_ = zoomout(fmap, mesh_a.basis, mesh_b.basis)"
   ]
  },
  {
   "cell_type": "code",
   "execution_count": null,
   "id": "4db52e67",
   "metadata": {},
   "outputs": [],
   "source": [
    "plt.imshow(zoomout_fmap_matrix_, cmap='bwr')"
   ]
  },
  {
   "cell_type": "markdown",
   "id": "7b8f977b",
   "metadata": {},
   "source": [
    "# Bijective ZoomOut"
   ]
  },
  {
   "cell_type": "markdown",
   "id": "3341877f",
   "metadata": {},
   "source": [
    "This algortihm produces bijective functional amps, leevraging them in both directions and looking for correspondences in a much larger space. It is a more constrained algorithm, and it is much expensive, but it can produce better correspondences."
   ]
  },
  {
   "cell_type": "code",
   "execution_count": null,
   "id": "faf635d8",
   "metadata": {},
   "outputs": [],
   "source": [
    "from geomfum.refine import BijectiveZoomOut"
   ]
  },
  {
   "cell_type": "code",
   "execution_count": null,
   "id": "bea24472",
   "metadata": {},
   "outputs": [],
   "source": [
    "bijective_zoomout = BijectiveZoomOut(nit=20, step=5)\n",
    "bijective_zoomout_fmap_matrix_, bijective_zoomout_fmap_matrix_12  = bijective_zoomout(fmap,fmap12, mesh_a.basis, mesh_b.basis)"
   ]
  },
  {
   "cell_type": "code",
   "execution_count": null,
   "id": "9f1bc31f",
   "metadata": {},
   "outputs": [],
   "source": [
    "plt.imshow(bijective_zoomout_fmap_matrix_, cmap='bwr')\n",
    "plt.show()\n",
    "plt.imshow(bijective_zoomout_fmap_matrix_12, cmap='bwr')\n",
    "plt.show()"
   ]
  },
  {
   "cell_type": "markdown",
   "id": "1a9d662a",
   "metadata": {},
   "source": [
    "# Fast Sinkhorn Filters"
   ]
  },
  {
   "cell_type": "markdown",
   "id": "467799a0",
   "metadata": {},
   "source": [
    "This algorithm is based on a different way of finding the correspondences given a functional map. Usually the conversion is performed via Nearest Search. This algorithm instead leverages Efficient optimal transport and retrieves the correspondence from an optimal transport map in the space of spectral emebddings"
   ]
  },
  {
   "cell_type": "code",
   "execution_count": null,
   "id": "ec6ce0d9",
   "metadata": {},
   "outputs": [],
   "source": [
    "from geomfum.refine import FastSinkhornFilters"
   ]
  },
  {
   "cell_type": "code",
   "execution_count": null,
   "id": "cb3779fd",
   "metadata": {},
   "outputs": [],
   "source": [
    "fsf = FastSinkhornFilters(nit=20, step=5)\n",
    "sfs_fmap_matrix_ = fsf(fmap, mesh_a.basis, mesh_b.basis)"
   ]
  },
  {
   "cell_type": "code",
   "execution_count": null,
   "id": "f0d2ee8c",
   "metadata": {},
   "outputs": [],
   "source": [
    "plt.imshow(sfs_fmap_matrix_, cmap='bwr')"
   ]
  },
  {
   "cell_type": "markdown",
   "id": "641a6b5c",
   "metadata": {},
   "source": [
    "# Adjoint Bijective ZoomOut"
   ]
  },
  {
   "cell_type": "markdown",
   "id": "e8901cc4",
   "metadata": {},
   "source": [
    "Adjoint Bijective ZoomOut is a recent algorithm which has been designed to work with any basis. It consider the conversion of a p2p into a adjoint operator."
   ]
  },
  {
   "cell_type": "code",
   "execution_count": null,
   "id": "c4c58935",
   "metadata": {},
   "outputs": [],
   "source": [
    "from geomfum.refine import AdjointBijectiveZoomOut"
   ]
  },
  {
   "cell_type": "code",
   "execution_count": null,
   "id": "9e110553",
   "metadata": {},
   "outputs": [],
   "source": [
    "abzo= AdjointBijectiveZoomOut(nit=20, step=5)\n",
    "abzo_fmap_matrix_ = abzo(fmap, mesh_a.basis, mesh_b.basis)"
   ]
  },
  {
   "cell_type": "code",
   "execution_count": null,
   "id": "40c38146",
   "metadata": {},
   "outputs": [],
   "source": [
    "plt.imshow(abzo_fmap_matrix_, cmap='bwr')"
   ]
  },
  {
   "cell_type": "markdown",
   "id": "1ee7099d",
   "metadata": {},
   "source": [
    "# Discrete Optimization"
   ]
  },
  {
   "cell_type": "markdown",
   "id": "083fb0cd",
   "metadata": {},
   "source": [
    "This is a slightly different kind of refienement which serves as a new way of optimizing functional maps. We can consider different energies, some that takes into account also descriptors"
   ]
  },
  {
   "cell_type": "code",
   "execution_count": null,
   "id": "b2ac657f",
   "metadata": {},
   "outputs": [],
   "source": [
    "from geomfum.refine import DiscreteOptimization"
   ]
  },
  {
   "cell_type": "code",
   "execution_count": null,
   "id": "f473de03",
   "metadata": {},
   "outputs": [],
   "source": [
    "discr_opt = DiscreteOptimization(nit=20, step=5, energies=['ortho','adjoint', 'bijectivity','descriptors'])\n",
    "discr_opt_fmap_matrix_,discr_opt_fmap_matrix_12  = discr_opt(fmap,fmap12, mesh_a.basis, mesh_b.basis, descr_a, descr_b)"
   ]
  },
  {
   "cell_type": "code",
   "execution_count": null,
   "id": "c4587740",
   "metadata": {},
   "outputs": [],
   "source": [
    "plt.imshow(discr_opt_fmap_matrix_[0], cmap='bwr')"
   ]
  },
  {
   "cell_type": "markdown",
   "id": "c17caaa1",
   "metadata": {},
   "source": [
    "# SmoothFunctionalMaps"
   ]
  },
  {
   "cell_type": "markdown",
   "id": "ba40594d",
   "metadata": {},
   "source": [
    "This refinement algorithm is base don a strategy that takes a lot from the previous discrete optimization, but improves it considering a smoothness energy on the displacement given by the permutation."
   ]
  },
  {
   "cell_type": "code",
   "execution_count": null,
   "id": "324805fb",
   "metadata": {},
   "outputs": [],
   "source": [
    "from geomfum.refine import SmoothOptimization\n",
    "from geomfum.convert import DisplacementFromP2pConverter, P2pFromFmConverter\n",
    "\n",
    "p2p_converter= P2pFromFmConverter()\n",
    "\n",
    "p2p = p2p_converter(fmap, mesh_a.basis, mesh_b.basis)\n",
    "p2p21 = p2p_converter(fmap12, mesh_b.basis, mesh_a.basis)\n",
    "\n",
    "displacement_converter = DisplacementFromP2pConverter()\n",
    "displacement21 = displacement_converter(p2p, mesh_a, mesh_b)\n",
    "displacement12 = displacement_converter(p2p21, mesh_b, mesh_a)"
   ]
  },
  {
   "cell_type": "code",
   "execution_count": null,
   "id": "a19f3b4f",
   "metadata": {},
   "outputs": [],
   "source": [
    "smoothfm = SmoothOptimization(nit=20, step=5)\n",
    "smooth_fmap_matrix_,smooth_fmap_matrix_12,smooth_displacement21, smooth_displacement12= smoothfm(fmap,fmap12,displacement21,displacement12, mesh_a, mesh_b)"
   ]
  },
  {
   "cell_type": "code",
   "execution_count": null,
   "id": "72998f6d",
   "metadata": {},
   "outputs": [],
   "source": [
    "plt.imshow(smooth_fmap_matrix_, cmap='bwr')"
   ]
  }
 ],
 "metadata": {
  "kernelspec": {
   "display_name": "venv",
   "language": "python",
   "name": "python3"
  },
  "language_info": {
   "codemirror_mode": {
    "name": "ipython",
    "version": 3
   },
   "file_extension": ".py",
   "mimetype": "text/x-python",
   "name": "python",
   "nbconvert_exporter": "python",
   "pygments_lexer": "ipython3",
   "version": "3.11.8"
  }
 },
 "nbformat": 4,
 "nbformat_minor": 5
}
