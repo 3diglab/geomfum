{
 "cells": [
  {
   "cell_type": "markdown",
   "id": "3b42c797",
   "metadata": {},
   "source": [
    "# How to compute a correspondence with functional maps"
   ]
  },
  {
   "cell_type": "markdown",
   "id": "3e81e229",
   "metadata": {},
   "source": [
    "This is the first demo on how to use geomfum to compute a correspondence with functional maps.  \n",
    "In this notebook we will see what does it mean to compute a functional map and what are the main steps to do so.  \n",
    "Lets Start!"
   ]
  },
  {
   "cell_type": "markdown",
   "id": "a31e7ffb",
   "metadata": {},
   "source": [
    "# Importing and visualizing shapes"
   ]
  },
  {
   "cell_type": "markdown",
   "id": "5bfe6525",
   "metadata": {},
   "source": [
    "First of all, we need to import our data, we will start from a pair of shapes from the TOSCA dataset (https://paperswithcode.com/dataset/tosca)"
   ]
  },
  {
   "cell_type": "code",
   "execution_count": 24,
   "id": "89e7e0b2",
   "metadata": {},
   "outputs": [],
   "source": [
    "from geomfum.dataset import NotebooksDataset\n",
    "from geomfum.plot import MeshPlotter\n",
    "from geomfum.shape import TriangleMesh\n",
    "\n",
    "dataset = NotebooksDataset()\n",
    "\n",
    "mesh_a = TriangleMesh.from_file(dataset.get_filename(\"cat-00\"))\n",
    "mesh_b = TriangleMesh.from_file(dataset.get_filename(\"lion-00\"))\n"
   ]
  },
  {
   "cell_type": "markdown",
   "id": "44a78cc0",
   "metadata": {},
   "source": [
    "We can visualize our shapes with the MeshPlotter"
   ]
  },
  {
   "cell_type": "code",
   "execution_count": 25,
   "id": "ba949f46",
   "metadata": {},
   "outputs": [],
   "source": [
    "# We selct plotting options one for all\n",
    "PLOT_TYPE = \"plotly\"\n",
    "\n",
    "if PLOT_TYPE == \"pyvista\":\n",
    "    STATIC_VIZ = True\n",
    "    import pyvista as pv\n",
    "\n",
    "    if STATIC_VIZ:\n",
    "        pv.set_jupyter_backend(\"static\") "
   ]
  },
  {
   "cell_type": "code",
   "execution_count": null,
   "id": "82a4812b",
   "metadata": {},
   "outputs": [],
   "source": [
    "plotter_a = MeshPlotter.from_registry(which=PLOT_TYPE)\n",
    "plotter_a.add_mesh(mesh_a)\n",
    "plotter_a.show()\n",
    "\n",
    "plotter_b = MeshPlotter.from_registry(which=PLOT_TYPE)\n",
    "plotter_b.add_mesh(mesh_b)\n",
    "plotter_b.show()"
   ]
  },
  {
   "cell_type": "markdown",
   "id": "13243843",
   "metadata": {},
   "source": [
    "# Compute Basis\n",
    "Now that we have our pair of shapes, we can compute their basis.  \n",
    "The basis of a shape is a set of functions that represent a basis for the space of squared integrable function defined on the surface of the shape.  \n",
    "There are different kind of basis, but usually we consider the eigenfunctions of the Laplace beltrami operator."
   ]
  },
  {
   "cell_type": "code",
   "execution_count": null,
   "id": "6489cd03",
   "metadata": {},
   "outputs": [],
   "source": [
    "k=50 #we select the number of basis that we want to compute\n",
    "mesh_a.laplacian.find_spectrum(spectrum_size=k, set_as_basis=True)\n",
    "mesh_b.laplacian.find_spectrum(spectrum_size=k, set_as_basis=True)\n"
   ]
  },
  {
   "cell_type": "markdown",
   "id": "1ba755c0",
   "metadata": {},
   "source": [
    "Here we display two eigenfunctions on the shape."
   ]
  },
  {
   "cell_type": "code",
   "execution_count": null,
   "id": "72fa04e1",
   "metadata": {},
   "outputs": [],
   "source": [
    "plotter_a.colormap = plotter_b.colormap = \"RdBu\"\n",
    "plotter_a.set_vertex_scalars(mesh_a.basis.vecs[:,10])\n",
    "plotter_a.show()\n",
    "\n",
    "plotter_b.set_vertex_scalars(mesh_b.basis.vecs[:,4])\n",
    "plotter_b.show()"
   ]
  },
  {
   "cell_type": "markdown",
   "id": "983499ab",
   "metadata": {},
   "source": [
    "# Compute Descriptors\n",
    "Another set of functions that are useful in functional maps are the descriptors.  \n",
    "While the basis describes the function space, the descriptors are functions that describe the shapes, including geometric and semantic inforations that are shared by the shapes. "
   ]
  },
  {
   "cell_type": "code",
   "execution_count": 29,
   "id": "c6d8c98b",
   "metadata": {},
   "outputs": [],
   "source": [
    "import numpy as np\n",
    "\n",
    "from geomfum.descriptor.pipeline import (\n",
    "    ArangeSubsampler,\n",
    "    DescriptorPipeline,\n",
    "    L2InnerNormalizer,\n",
    ")\n",
    "from geomfum.descriptor.spectral import HeatKernelSignature"
   ]
  },
  {
   "cell_type": "markdown",
   "id": "8e08de1d",
   "metadata": {},
   "source": [
    "**Landmarks**  \n",
    "Often, the information provided by descriptors alone is not sufficient to compute an accurate functional map.  \n",
    "For this reason, a good thing is to provide some points that we know are in correspondence, these are called landmarks.\n",
    "We can select the landmarks plotting the shapes."
   ]
  },
  {
   "cell_type": "code",
   "execution_count": 30,
   "id": "b5389d35",
   "metadata": {},
   "outputs": [],
   "source": [
    "mesh_a.landmark_indices =np.array( [2840, 1594,5596, 6809,3924,7169] )\n",
    "mesh_b.landmark_indices =np.array( [1334,834,4136,4582,3666,4955])"
   ]
  },
  {
   "cell_type": "code",
   "execution_count": 31,
   "id": "fe70dcef",
   "metadata": {},
   "outputs": [],
   "source": [
    "steps = [\n",
    "    HeatKernelSignature.from_registry(n_domain=100, use_landmarks=True),\n",
    "    ArangeSubsampler(subsample_step=1),\n",
    "    L2InnerNormalizer(),\n",
    "]\n",
    "\n",
    "pipeline = DescriptorPipeline(steps)\n",
    "\n",
    "descr_a = pipeline.apply(mesh_a)\n",
    "descr_b = pipeline.apply(mesh_b)"
   ]
  },
  {
   "cell_type": "code",
   "execution_count": null,
   "id": "d9fa6b14",
   "metadata": {},
   "outputs": [],
   "source": [
    "plotter_a.colormap = plotter_b.colormap = \"viridis\"\n",
    "plotter_a.set_vertex_scalars(descr_a[0])\n",
    "plotter_a.show()\n",
    "plotter_b.set_vertex_scalars(descr_b[0])\n",
    "plotter_b.show()"
   ]
  },
  {
   "cell_type": "markdown",
   "id": "6a91da06",
   "metadata": {},
   "source": [
    "# Optimize Functional Map\n",
    "Now, we have all the elements to optimize our first functional maps, we can select different energies and weight them differently."
   ]
  },
  {
   "cell_type": "code",
   "execution_count": 33,
   "id": "057c2d87",
   "metadata": {},
   "outputs": [],
   "source": [
    "from geomfum.functional_map import (\n",
    "    FactorSum,\n",
    "    LBCommutativityEnforcing,\n",
    "    OperatorCommutativityEnforcing,\n",
    "    SpectralDescriptorPreservation,\n",
    ")\n",
    "from geomfum.numerics.optimization import ScipyMinimize\n"
   ]
  },
  {
   "cell_type": "markdown",
   "id": "20e4c188",
   "metadata": {},
   "source": [
    "We select the numbr of eigenfunctions we want to use."
   ]
  },
  {
   "cell_type": "code",
   "execution_count": 34,
   "id": "16db8c62",
   "metadata": {},
   "outputs": [],
   "source": [
    "mesh_a.basis.use_k=20\n",
    "mesh_b.basis.use_k=20"
   ]
  },
  {
   "cell_type": "code",
   "execution_count": 35,
   "id": "73a692a6",
   "metadata": {},
   "outputs": [],
   "source": [
    "factors = [\n",
    "    SpectralDescriptorPreservation(\n",
    "        mesh_a.basis.project(descr_a),\n",
    "        mesh_b.basis.project(descr_b),\n",
    "        weight=1.0,\n",
    "    ),\n",
    "    LBCommutativityEnforcing.from_bases(\n",
    "        mesh_a.basis,\n",
    "        mesh_b.basis,\n",
    "        weight=1e-2,\n",
    "    ),\n",
    "    OperatorCommutativityEnforcing.from_multiplication(\n",
    "        mesh_a.basis, descr_a, mesh_b.basis, descr_b, weight=0\n",
    "    ),\n",
    "    OperatorCommutativityEnforcing.from_orientation(\n",
    "        mesh_a, descr_a, mesh_b, descr_b, weight=1e-1\n",
    "    ),\n",
    "]\n",
    "\n",
    "objective = FactorSum(factors)\n",
    "\n",
    "optimizer = ScipyMinimize(\n",
    "    method=\"L-BFGS-B\",\n",
    ")\n",
    "\n",
    "x0 = np.zeros((mesh_b.basis.spectrum_size, mesh_a.basis.spectrum_size))\n",
    "\n",
    "res = optimizer.minimize(\n",
    "    objective,\n",
    "    x0,\n",
    "    fun_jac=objective.gradient,\n",
    ")\n",
    "\n",
    "fmap = res.x.reshape(x0.shape)\n"
   ]
  },
  {
   "cell_type": "markdown",
   "id": "534a6161",
   "metadata": {},
   "source": [
    "We show the obtained functional maps."
   ]
  },
  {
   "cell_type": "code",
   "execution_count": null,
   "id": "b89330be",
   "metadata": {},
   "outputs": [],
   "source": [
    "import matplotlib.pyplot as plt\n",
    "\n",
    "plt.imshow(fmap, cmap='bwr')"
   ]
  },
  {
   "cell_type": "markdown",
   "id": "6db00f11",
   "metadata": {},
   "source": [
    "# Get the correspondence\n",
    "Once we have the functional map, we can compute the point-to-point correspondence performing a nearest search in the space of function."
   ]
  },
  {
   "cell_type": "code",
   "execution_count": 37,
   "id": "bc7fb3df",
   "metadata": {},
   "outputs": [],
   "source": [
    "from geomfum.convert import P2pFromFmConverter\n",
    "\n",
    "p2p_converter = P2pFromFmConverter()\n",
    "\n",
    "p2p = p2p_converter(fmap, mesh_a.basis, mesh_b.basis)"
   ]
  },
  {
   "cell_type": "markdown",
   "id": "93325158",
   "metadata": {},
   "source": [
    "We can visualize the quality of the mapping on the shapes by transfering a vertex scalar."
   ]
  },
  {
   "cell_type": "code",
   "execution_count": null,
   "id": "164036ce",
   "metadata": {},
   "outputs": [],
   "source": [
    "scalar_a=np.mean(mesh_a.vertices,axis=-1)\n",
    "\n",
    "plotter_a.set_vertex_scalars(scalar_a)\n",
    "plotter_a.show()\n",
    "\n",
    "plotter_b.add_mesh(mesh_b)\n",
    "plotter_b.set_vertex_scalars(scalar_a[p2p])\n",
    "plotter_b.show()\n"
   ]
  },
  {
   "cell_type": "markdown",
   "id": "cb929a0f",
   "metadata": {},
   "source": [
    "# Refining the correspondence\n",
    "A lot of time, a small number of basis is not enough to have a good correspondence, for this reason a lot of methods are based on a 'refinement' stage."
   ]
  },
  {
   "cell_type": "code",
   "execution_count": 39,
   "id": "c00d3c5b",
   "metadata": {},
   "outputs": [],
   "source": [
    "from geomfum.refine import ZoomOut"
   ]
  },
  {
   "cell_type": "code",
   "execution_count": 43,
   "id": "0c3bf924",
   "metadata": {},
   "outputs": [],
   "source": [
    "zoomout = ZoomOut(nit=6, step=5)\n",
    "\n",
    "zoomout_fmap_matrix_ = zoomout(fmap, mesh_a.basis, mesh_b.basis)\n",
    "p2p_ref=p2p_converter(zoomout_fmap_matrix_, mesh_a.basis, mesh_b.basis)"
   ]
  },
  {
   "cell_type": "code",
   "execution_count": null,
   "id": "4db52e67",
   "metadata": {},
   "outputs": [],
   "source": [
    "plt.imshow(zoomout_fmap_matrix_, cmap='bwr')"
   ]
  },
  {
   "cell_type": "code",
   "execution_count": null,
   "id": "42f001af",
   "metadata": {},
   "outputs": [],
   "source": [
    "scalar_a=np.mean(mesh_a.vertices,axis=-1)\n",
    "\n",
    "plotter_a.set_vertex_scalars(scalar_a)\n",
    "plotter_a.show()\n",
    "\n",
    "plotter_b.add_mesh(mesh_b)\n",
    "plotter_b.set_vertex_scalars(scalar_a[p2p_ref])\n",
    "plotter_b.show()\n"
   ]
  }
 ],
 "metadata": {
  "kernelspec": {
   "display_name": "VENV",
   "language": "python",
   "name": "python3"
  },
  "language_info": {
   "codemirror_mode": {
    "name": "ipython",
    "version": 3
   },
   "file_extension": ".py",
   "mimetype": "text/x-python",
   "name": "python",
   "nbconvert_exporter": "python",
   "pygments_lexer": "ipython3",
   "version": "3.11.8"
  }
 },
 "nbformat": 4,
 "nbformat_minor": 5
}
