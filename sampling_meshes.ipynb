{
 "cells": [
  {
   "cell_type": "markdown",
   "metadata": {},
   "source": [
    "This Notebooks shows the usage of the notion of Sampler"
   ]
  },
  {
   "cell_type": "code",
   "execution_count": 1,
   "metadata": {},
   "outputs": [],
   "source": [
    "from geomfum.dataset import NotebooksDataset\n",
    "from geomfum.shape import TriangleMesh\n",
    "from geomfum.sample import PoissonSampler, NearestNeighborsIndexSampler, FpSampler"
   ]
  },
  {
   "cell_type": "code",
   "execution_count": 2,
   "metadata": {},
   "outputs": [
    {
     "data": {
      "text/plain": [
       "(7207, 14410)"
      ]
     },
     "execution_count": 2,
     "metadata": {},
     "output_type": "execute_result"
    }
   ],
   "source": [
    "#load data\n",
    "dataset = NotebooksDataset()\n",
    "mesh = TriangleMesh.from_file(dataset.get_filename(\"cat-00\"))\n",
    "\n",
    "mesh.n_vertices, mesh.n_faces"
   ]
  },
  {
   "cell_type": "code",
   "execution_count": 23,
   "metadata": {},
   "outputs": [
    {
     "data": {
      "text/plain": [
       "array([[-0.026568  ,  0.32093162, -0.0863191 ],\n",
       "       [ 0.03390615,  0.2821458 ,  0.32122141],\n",
       "       [ 0.06972901,  0.21519711,  0.16407041],\n",
       "       ...,\n",
       "       [ 0.05106104,  0.21005222,  0.09670028],\n",
       "       [-0.06048467,  0.27435536,  0.03548587],\n",
       "       [ 0.00068879,  0.27506873,  0.33207676]])"
      ]
     },
     "execution_count": 23,
     "metadata": {},
     "output_type": "execute_result"
    }
   ],
   "source": [
    "#PoissinSampler returns points\n",
    "p_sampler=PoissonSampler.from_registry(min_n_samples=500,which='pymeshlab')\n",
    "\n",
    "sampled_vertices=p_sampler.sample(mesh)\n",
    "sampled_vertices"
   ]
  },
  {
   "cell_type": "code",
   "execution_count": 24,
   "metadata": {},
   "outputs": [
    {
     "data": {
      "text/plain": [
       "(695,)"
      ]
     },
     "execution_count": 24,
     "metadata": {},
     "output_type": "execute_result"
    }
   ],
   "source": [
    "#if we want to get the indices of sampled points as output we need\n",
    "IndexSampler = NearestNeighborsIndexSampler(sampler=p_sampler)\n",
    "\n",
    "sampled_indices = IndexSampler.sample(mesh)\n",
    "sampled_indices.shape\n",
    "\n",
    "#to get the vertices of these points we need to \n",
    "sampled_vertices= mesh.vertices[sampled_indices]\n",
    "sampled_indices.shape\n"
   ]
  },
  {
   "cell_type": "code",
   "execution_count": 21,
   "metadata": {},
   "outputs": [
    {
     "data": {
      "text/plain": [
       "array([4395, 7205, 6811,  401, 1795, 2161, 7079, 5215,  869, 6156,  573,\n",
       "       1282, 4860, 2431,  595,  104, 5432, 3863, 7146, 6303, 1070,  379,\n",
       "        451, 6137,  550,  152, 1159,  724, 3730, 4798,  506,  542, 5084,\n",
       "       1370, 2264,   55, 3749, 3204, 6253,  938, 7047, 3071,  656, 5307,\n",
       "        398,  464, 7104,  182, 1173,  387, 6347, 2196, 5116, 6066, 3370,\n",
       "        682,  773,  474, 5034, 3564,  250, 7150,  123,  376,  633, 2357,\n",
       "       1058, 5088,  328,  331, 1031, 4568, 1183, 3341,  499, 1399, 1294,\n",
       "       6086, 4597,  220, 5252, 1225, 5755, 1349,  432,  559,  616, 3593,\n",
       "        567,   73, 1001, 2403, 3176,  876,  444,  225, 2262, 5102, 3188,\n",
       "        437, 6182, 3737, 2328, 6052,   13,  338, 1096, 5121, 3326,  530,\n",
       "       1431, 5164, 7058,  924, 7113, 6248, 3965, 3663, 5243, 3333, 6732,\n",
       "        126,  353, 4795, 7160,  539, 6324,  730, 7124, 5192,  168, 1027,\n",
       "       6033,  598, 1279,  304, 5401,  606, 1018,  394, 5130, 2209,  942,\n",
       "        422, 6143,  158,  553, 2104, 1272,  755,  287, 5817,  476, 2370,\n",
       "        837,  978, 7084, 6132,  463,  458,  135,  302, 7164,  486,  161,\n",
       "       4117, 1194,   26,  425, 1139, 3232, 2664, 6127, 4865, 4527, 2490,\n",
       "       7054, 4749,  201, 2269,    1, 5026,  670,  191, 1004, 6104,  428,\n",
       "       7120,  785, 1115, 1354, 1340, 4691,  641, 7127, 7107, 7102, 3980,\n",
       "       1248, 4290,  483, 3551, 6206, 3279,  484, 5226,  120, 5305,  342,\n",
       "       3712, 6468,  562, 7144,  950, 5094, 6393,  650,  626, 2368, 1140,\n",
       "       5285, 7149, 1445, 4083,  505,  545, 1063,  645, 6102, 6025,  571,\n",
       "       5074, 2206,  834, 6117,  356, 3800, 3155, 1387, 2169,  596, 2319,\n",
       "       4993, 1179, 6171, 7174, 3689, 6150, 1568, 3525,  510,  917, 7043,\n",
       "        436, 1540, 2273, 3762,  814,  110,  871,  507, 6654,  261,  497,\n",
       "        572,  443, 6162, 1190,  692, 6236, 3860, 3389,  136,  863, 3379,\n",
       "       3308,  584, 4915, 2241, 5162,  644, 2581,  466, 4227, 1108,  579,\n",
       "        703,  604, 6287, 5374, 3159, 3261, 5118,  825, 1207,  557, 5629,\n",
       "        246,  413, 6232, 5123,   87, 2280,  243,  408, 1309, 5250,  362,\n",
       "       7085, 6055,  745, 5108, 3357, 1285, 7133,  624,   62,  527, 6289,\n",
       "       2335,  370,  429, 7066, 7199, 6443, 7166, 6398, 1373,  640, 2272,\n",
       "        601,  185,  350,  235, 4203, 6276, 2768, 1153, 4174, 1639, 3799,\n",
       "       2217, 7051, 5281,  792, 1473, 5128, 4736,  717,  147,  306, 7123,\n",
       "       2215, 4824, 1378,    7,  726, 5434, 5111, 2375, 7097,  544, 1233,\n",
       "        329, 6041,  420, 4815,  395, 3916, 6067,  122, 7136,  760, 5392,\n",
       "       5149, 7116, 2504, 1329,  471,  368, 7148, 3437,   34,  321, 6223,\n",
       "       5079, 5589,  375,  740,  520, 6343,  278,  159, 2390,  532,  426,\n",
       "        390,  254, 5287, 7141, 2959,  939, 1209, 1239, 5037,  114, 3221,\n",
       "       1489, 5165,  149, 1361, 4543,  672,  592, 2205,  841, 7073, 4947,\n",
       "        684, 1224,  133, 2254,  335, 2287, 7177, 3293,  795,  203, 1164,\n",
       "       7165,  964, 1176, 7089, 3152, 3756, 7114, 4810,   58,  421,  481,\n",
       "       6083, 2195, 6413, 4739, 5342, 3774, 4229,  689,  184, 5349, 2693,\n",
       "       1221,  219,  972, 4322,  537, 3638, 6284, 6138, 4121, 4965, 6092,\n",
       "       3300, 1101, 6131, 6262, 3186, 7129,  610,  860,  662,  782, 2317,\n",
       "       5061, 7101, 3829, 6428, 2155, 4844, 5021, 6914,  383,  668, 1185,\n",
       "       2360, 5206, 1292, 6222, 1098, 7092, 6058, 1020, 6255, 7151, 3314,\n",
       "        560, 1150, 6134, 5106, 5054], dtype=int64)"
      ]
     },
     "execution_count": 21,
     "metadata": {},
     "output_type": "execute_result"
    }
   ],
   "source": [
    "# FpSampler returns indices\n",
    "f_sampler=FpSampler.from_registry(min_n_samples = 500, which='pyfm')\n",
    "sampled_vertices=f_sampler.sample(mesh)\n",
    "sampled_vertices"
   ]
  },
  {
   "cell_type": "code",
   "execution_count": 22,
   "metadata": {},
   "outputs": [
    {
     "data": {
      "text/plain": [
       "array([[-1.29000e-04,  2.66257e-01,  3.32974e-01],\n",
       "       [ 4.05300e-03,  2.64760e-01, -4.62176e-01],\n",
       "       [-5.13230e-02,  9.13900e-03, -7.88620e-02],\n",
       "       ...,\n",
       "       [-6.61960e-02,  2.28259e-01, -1.06119e-01],\n",
       "       [ 6.60190e-02,  2.27845e-01, -1.06038e-01],\n",
       "       [ 5.37310e-02,  1.51296e-01, -4.32380e-02]])"
      ]
     },
     "execution_count": 22,
     "metadata": {},
     "output_type": "execute_result"
    }
   ],
   "source": [
    "mesh.vertices[sampled_vertices]"
   ]
  }
 ],
 "metadata": {
  "kernelspec": {
   "display_name": "Python 3",
   "language": "python",
   "name": "python3"
  },
  "language_info": {
   "codemirror_mode": {
    "name": "ipython",
    "version": 3
   },
   "file_extension": ".py",
   "mimetype": "text/x-python",
   "name": "python",
   "nbconvert_exporter": "python",
   "pygments_lexer": "ipython3",
   "version": "3.11.9"
  }
 },
 "nbformat": 4,
 "nbformat_minor": 2
}
