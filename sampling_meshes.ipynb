{
 "cells": [
  {
   "cell_type": "markdown",
   "metadata": {},
   "source": [
    "# How to sample from a mesh?"
   ]
  },
  {
   "cell_type": "code",
   "execution_count": 1,
   "metadata": {},
   "outputs": [],
   "source": [
    "from geomfum.dataset import NotebooksDataset\n",
    "from geomfum.sample import (\n",
    "    FarthestPointSampler,\n",
    "    PoissonSampler,\n",
    "    VertexProjectionSampler,\n",
    ")\n",
    "from geomfum.shape import TriangleMesh"
   ]
  },
  {
   "cell_type": "markdown",
   "metadata": {},
   "source": [
    "[Load a mesh](load_mesh_from_file.ipynb)."
   ]
  },
  {
   "cell_type": "code",
   "execution_count": 2,
   "metadata": {},
   "outputs": [
    {
     "data": {
      "text/plain": [
       "(7207, 14410)"
      ]
     },
     "execution_count": 2,
     "metadata": {},
     "output_type": "execute_result"
    }
   ],
   "source": [
    "dataset = NotebooksDataset()\n",
    "mesh = TriangleMesh.from_file(dataset.get_filename(\"cat-00\"))\n",
    "\n",
    "mesh.n_vertices, mesh.n_faces"
   ]
  },
  {
   "cell_type": "markdown",
   "metadata": {},
   "source": [
    "## \"Coordinate\" samplers"
   ]
  },
  {
   "cell_type": "markdown",
   "metadata": {},
   "source": [
    "If we're interested in sampling coordinates of points on the mesh, we can use `PoissonSampler`."
   ]
  },
  {
   "cell_type": "code",
   "execution_count": 3,
   "metadata": {},
   "outputs": [
    {
     "data": {
      "text/plain": [
       "array([[-0.04039455,  0.00925685,  0.18873429],\n",
       "       [-0.03629903,  0.29116512,  0.32105762],\n",
       "       [-0.05018805,  0.00860768, -0.10126984],\n",
       "       [ 0.0554967 ,  0.23853486,  0.1161219 ],\n",
       "       [ 0.02015972,  0.3172609 , -0.10141581],\n",
       "       [ 0.01307022,  0.27531786, -0.46035266]])"
      ]
     },
     "execution_count": 3,
     "metadata": {},
     "output_type": "execute_result"
    }
   ],
   "source": [
    "poisson_sampler = PoissonSampler.from_registry(min_n_samples=3, which=\"pymeshlab\")\n",
    "\n",
    "sampled_vertices = poisson_sampler.sample(mesh)\n",
    "\n",
    "sampled_vertices"
   ]
  },
  {
   "cell_type": "markdown",
   "metadata": {},
   "source": [
    "## Vertex indices samplers"
   ]
  },
  {
   "cell_type": "markdown",
   "metadata": {},
   "source": [
    "If we're interested in sampling vertex indices instead, we can leverage \"coordinate\" samplers like `PoissonSampler` by projecting the coordinates to the closest vertices."
   ]
  },
  {
   "cell_type": "code",
   "execution_count": 4,
   "metadata": {},
   "outputs": [
    {
     "data": {
      "text/plain": [
       "array([4035, 7128, 1842, 6376, 1172,  137])"
      ]
     },
     "execution_count": 4,
     "metadata": {},
     "output_type": "execute_result"
    }
   ],
   "source": [
    "vertex_sampler = VertexProjectionSampler(sampler=poisson_sampler)\n",
    "\n",
    "sampled_indices = vertex_sampler.sample(mesh)\n",
    "\n",
    "sampled_indices"
   ]
  },
  {
   "cell_type": "markdown",
   "metadata": {},
   "source": [
    "To get vertex coordinates."
   ]
  },
  {
   "cell_type": "code",
   "execution_count": 5,
   "metadata": {},
   "outputs": [
    {
     "data": {
      "text/plain": [
       "array([[ 0.021015,  0.296414,  0.327818],\n",
       "       [ 0.011898,  0.27887 , -0.387095],\n",
       "       [ 0.054908,  0.008169,  0.177827],\n",
       "       [-0.058573,  0.09277 , -0.120483],\n",
       "       [-0.055504,  0.227397,  0.115061],\n",
       "       [ 0.025124,  0.322472, -0.085259]])"
      ]
     },
     "execution_count": 5,
     "metadata": {},
     "output_type": "execute_result"
    }
   ],
   "source": [
    "sampled_vertices = mesh.vertices[sampled_indices]\n",
    "\n",
    "sampled_vertices"
   ]
  },
  {
   "cell_type": "markdown",
   "metadata": {},
   "source": [
    "Alternatively, we can sample vertex indices directly with `FarthestPointSampler`. "
   ]
  },
  {
   "cell_type": "code",
   "execution_count": 7,
   "metadata": {},
   "outputs": [
    {
     "data": {
      "text/plain": [
       "array([ 833, 7205, 6731,  192, 3124])"
      ]
     },
     "execution_count": 7,
     "metadata": {},
     "output_type": "execute_result"
    }
   ],
   "source": [
    "f_sampler = FarthestPointSampler.from_registry(min_n_samples=5, which=\"pyfm\")\n",
    "\n",
    "sampled_indices = f_sampler.sample(mesh)\n",
    "\n",
    "sampled_indices"
   ]
  }
 ],
 "metadata": {
  "kernelspec": {
   "display_name": "Python 3",
   "language": "python",
   "name": "python3"
  },
  "language_info": {
   "codemirror_mode": {
    "name": "ipython",
    "version": 3
   },
   "file_extension": ".py",
   "mimetype": "text/x-python",
   "name": "python",
   "nbconvert_exporter": "python",
   "pygments_lexer": "ipython3",
   "version": "3.12.3"
  }
 },
 "nbformat": 4,
 "nbformat_minor": 2
}
