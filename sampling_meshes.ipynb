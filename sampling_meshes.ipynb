{
 "cells": [
  {
   "cell_type": "markdown",
   "metadata": {},
   "source": [
    "This Notebooks shows the usage of the notion of Sampler"
   ]
  },
  {
   "cell_type": "code",
   "execution_count": 21,
   "metadata": {},
   "outputs": [],
   "source": [
    "from geomfum.dataset import NotebooksDataset\n",
    "from geomfum.shape import TriangleMesh\n",
    "from geomfum.sample import PoissonSampler, NearestNeighborsIndexSampler"
   ]
  },
  {
   "cell_type": "code",
   "execution_count": null,
   "metadata": {},
   "outputs": [],
   "source": [
    "#load data\n",
    "dataset = NotebooksDataset()\n",
    "mesh = TriangleMesh.from_file(dataset.get_filename(\"cat-00\"))\n",
    "\n",
    "mesh.n_vertices, mesh.n_faces"
   ]
  },
  {
   "cell_type": "code",
   "execution_count": null,
   "metadata": {},
   "outputs": [],
   "source": [
    "#PoissinSampler returns points\n",
    "p_sampler=PoissonSampler.from_registry(n_samples=500,which='pymeshlab')\n",
    "\n",
    "sampled_vertices=p_sampler.sample(mesh)\n",
    "sampled_vertices"
   ]
  },
  {
   "cell_type": "code",
   "execution_count": null,
   "metadata": {},
   "outputs": [],
   "source": [
    "#if we want to get the indices of sampled points as output we need\n",
    "IndexSampler = NearestNeighborsIndexSampler(sampler=p_sampler)\n",
    "\n",
    "sampled_indices = IndexSampler.sample(mesh)\n",
    "sampled_indices.shape\n",
    "\n",
    "#to get the vertices of these points we need to \n",
    "sampled_vertices= mesh.vertices[sampled_indices]\n",
    "sampled_indices.shape\n"
   ]
  }
 ],
 "metadata": {
  "kernelspec": {
   "display_name": "venv",
   "language": "python",
   "name": "python3"
  },
  "language_info": {
   "codemirror_mode": {
    "name": "ipython",
    "version": 3
   },
   "file_extension": ".py",
   "mimetype": "text/x-python",
   "name": "python",
   "nbconvert_exporter": "python",
   "pygments_lexer": "ipython3",
   "version": "3.11.8"
  }
 },
 "nbformat": 4,
 "nbformat_minor": 2
}
